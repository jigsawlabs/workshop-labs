{
 "cells": [
  {
   "cell_type": "markdown",
   "metadata": {},
   "source": [
    "# Coercing Data"
   ]
  },
  {
   "cell_type": "markdown",
   "metadata": {},
   "source": [
    "### Introduction"
   ]
  },
  {
   "cell_type": "markdown",
   "metadata": {},
   "source": [
    "In this lab, we'll work on coercing data from a dataframe."
   ]
  },
  {
   "cell_type": "markdown",
   "metadata": {},
   "source": [
    "### Exploring our data"
   ]
  },
  {
   "cell_type": "markdown",
   "metadata": {},
   "source": [
    "We can start by loading our data from the related `csv` file."
   ]
  },
  {
   "cell_type": "code",
   "execution_count": 123,
   "metadata": {},
   "outputs": [],
   "source": [
    "df = pd.read_csv('./nyc_hs_sat.csv', index_col = 0)\n",
    "\n",
    "columns = ['reading_avg', 'math_avg', 'writing_score']\n",
    "df[columns] = df[columns].astype('object')"
   ]
  },
  {
   "cell_type": "markdown",
   "metadata": {},
   "source": [
    "> Press shift + enter on the line above"
   ]
  },
  {
   "cell_type": "markdown",
   "metadata": {},
   "source": [
    "We use `index_col = 0` to specify that the first column in the csv file will be the index.\n",
    "\n",
    "> Also we changed some of the columns to be an object so that our data is not so clean right out of the gate.  But let's pretend that didn't happen."
   ]
  },
  {
   "cell_type": "markdown",
   "metadata": {},
   "source": [
    "Ok, now let's begin to explore our data."
   ]
  },
  {
   "cell_type": "markdown",
   "metadata": {},
   "source": [
    "1. First, view the list of columns in our dataframe."
   ]
  },
  {
   "cell_type": "code",
   "execution_count": 72,
   "metadata": {},
   "outputs": [],
   "source": [
    "df_columns = None\n",
    "df_columns\n",
    "# Index(['dbn', 'name', 'num_test_takers', 'reading_avg', 'math_avg',\n",
    "#        'writing_score', 'boro', 'total_students', 'graduation_rate',\n",
    "#        'attendance_rate', 'college_career_rate'],\n",
    "#       dtype='object')"
   ]
  },
  {
   "cell_type": "markdown",
   "metadata": {},
   "source": [
    "2. Now, let's see the columns and the respective datatype of each column."
   ]
  },
  {
   "cell_type": "code",
   "execution_count": 74,
   "metadata": {},
   "outputs": [
    {
     "data": {
      "text/plain": [
       "dbn                     object\n",
       "name                    object\n",
       "num_test_takers        float64\n",
       "reading_avg             object\n",
       "math_avg                object\n",
       "writing_score           object\n",
       "boro                    object\n",
       "total_students           int64\n",
       "graduation_rate        float64\n",
       "attendance_rate        float64\n",
       "college_career_rate    float64\n",
       "dtype: object"
      ]
     },
     "execution_count": 74,
     "metadata": {},
     "output_type": "execute_result"
    }
   ],
   "source": [
    "df_types = None\n",
    "df.dtypes\n",
    "\n",
    "# dbn                     object\n",
    "# name                    object\n",
    "# num_test_takers        float64\n",
    "# reading_avg             object\n",
    "# math_avg                object\n",
    "# writing_score           object\n",
    "# boro                    object\n",
    "# total_students           int64\n",
    "# graduation_rate        float64\n",
    "# attendance_rate        float64\n",
    "# college_career_rate    float64\n",
    "# dtype: object"
   ]
  },
  {
   "cell_type": "markdown",
   "metadata": {},
   "source": [
    "Now if our datatypes are already a number, we're in pretty good shape.  It's where our datatypes are objects that we should do some cleaning up.  Save a dataframe of just the columns that are of type object as `sat_objects_df`."
   ]
  },
  {
   "cell_type": "code",
   "execution_count": 78,
   "metadata": {},
   "outputs": [
    {
     "data": {
      "text/plain": [
       "Index(['dbn', 'name', 'num_test_takers', 'reading_avg', 'math_avg',\n",
       "       'writing_score', 'boro', 'total_students', 'graduation_rate',\n",
       "       'attendance_rate', 'college_career_rate'],\n",
       "      dtype='object')"
      ]
     },
     "execution_count": 78,
     "metadata": {},
     "output_type": "execute_result"
    }
   ],
   "source": [
    "sat_objects_df = df # change this code here\n",
    "sat_objects_df.columns\n",
    "\n",
    "# Index(['dbn', 'name', 'reading_avg', 'math_avg', 'writing_score', 'boro'], dtype='object')"
   ]
  },
  {
   "cell_type": "markdown",
   "metadata": {},
   "source": [
    "Ok, so we can see that wew have six columns that are of type string.  The first two columns of dbn and name are probably fine as columns.  It's the other ones that we try to change the type of."
   ]
  },
  {
   "cell_type": "markdown",
   "metadata": {},
   "source": [
    "Use the `to_numeric` method to change the `num_test_takers` to an `int64` and replace the appropriate data in our `df` dataframe."
   ]
  },
  {
   "cell_type": "code",
   "execution_count": 1,
   "metadata": {},
   "outputs": [],
   "source": [
    "# write some code here"
   ]
  },
  {
   "cell_type": "code",
   "execution_count": null,
   "metadata": {},
   "outputs": [],
   "source": [
    "df['math_avg'].dtype\n",
    "\n",
    "# dtype('float64')"
   ]
  },
  {
   "cell_type": "markdown",
   "metadata": {},
   "source": [
    "Now change the `reading_avg` column to numeric using the `to_numeric` method."
   ]
  },
  {
   "cell_type": "code",
   "execution_count": 2,
   "metadata": {},
   "outputs": [],
   "source": [
    "# write code hre"
   ]
  },
  {
   "cell_type": "code",
   "execution_count": 94,
   "metadata": {},
   "outputs": [
    {
     "data": {
      "text/plain": [
       "dtype('float64')"
      ]
     },
     "execution_count": 94,
     "metadata": {},
     "output_type": "execute_result"
    }
   ],
   "source": [
    "\n",
    "df['reading_avg'].dtype\n",
    "\n",
    "# dtype('float64')"
   ]
  },
  {
   "cell_type": "markdown",
   "metadata": {},
   "source": [
    "Let's do the same thing with writing score."
   ]
  },
  {
   "cell_type": "code",
   "execution_count": 3,
   "metadata": {},
   "outputs": [],
   "source": [
    "# change the writing score to numeric here"
   ]
  },
  {
   "cell_type": "markdown",
   "metadata": {},
   "source": [
    "Now take another look at all of the datatypes in our dataframe."
   ]
  },
  {
   "cell_type": "code",
   "execution_count": 101,
   "metadata": {},
   "outputs": [
    {
     "data": {
      "text/plain": [
       "dbn                     object\n",
       "name                    object\n",
       "num_test_takers        float64\n",
       "reading_avg            float64\n",
       "math_avg               float64\n",
       "writing_score          float64\n",
       "boro                    object\n",
       "total_students           int64\n",
       "graduation_rate        float64\n",
       "attendance_rate        float64\n",
       "college_career_rate    float64\n",
       "dtype: object"
      ]
     },
     "execution_count": 101,
     "metadata": {},
     "output_type": "execute_result"
    }
   ],
   "source": [
    "df.dtypes\n",
    "\n",
    "# dbn                     object\n",
    "# name                    object\n",
    "# num_test_takers        float64\n",
    "# reading_avg            float64\n",
    "# math_avg               float64\n",
    "# writing_score          float64\n",
    "# boro                    object\n",
    "# total_students           int64\n",
    "# graduation_rate        float64\n",
    "# attendance_rate        float64\n",
    "# college_career_rate    float64\n",
    "# dtype: object"
   ]
  },
  {
   "cell_type": "markdown",
   "metadata": {},
   "source": [
    "A lot more of them seem to be an integer or float.  Once again store a dataframe of the columns that are of type `object`. "
   ]
  },
  {
   "cell_type": "code",
   "execution_count": 103,
   "metadata": {},
   "outputs": [
    {
     "data": {
      "text/plain": [
       "Index(['dbn', 'name', 'boro'], dtype='object')"
      ]
     },
     "execution_count": 103,
     "metadata": {},
     "output_type": "execute_result"
    }
   ],
   "source": [
    "object_df = None\n",
    "object_df.columns\n",
    "\n",
    "# Index(['dbn', 'name', 'boro'], dtype='object')"
   ]
  },
  {
   "cell_type": "markdown",
   "metadata": {},
   "source": [
    "So were down to `boro` as the column that we should change."
   ]
  },
  {
   "cell_type": "markdown",
   "metadata": {},
   "source": [
    "### Changing the boro column"
   ]
  },
  {
   "cell_type": "markdown",
   "metadata": {},
   "source": [
    "To start with, let's see all the numbers of each of the different values in the `boro` column."
   ]
  },
  {
   "cell_type": "code",
   "execution_count": 4,
   "metadata": {},
   "outputs": [],
   "source": [
    "# Use the value_counts method"
   ]
  },
  {
   "cell_type": "markdown",
   "metadata": {},
   "source": [
    "So we can see that there are five different values, just as there are five boroughs.  A little research would reveal that `M -> Manhattan`, `K -> Brooklyn`, `X -> Bronx`, `Q -Queens`, `R -> Staten Island`.  These can be a bit confusing so convert each of them values in the column to it's related string."
   ]
  },
  {
   "cell_type": "code",
   "execution_count": 124,
   "metadata": {},
   "outputs": [
    {
     "data": {
      "text/plain": [
       "Brooklyn         104\n",
       "Manhattan         90\n",
       "Bronx             87\n",
       "Queens            65\n",
       "Staten Island     10\n",
       "Name: boro, dtype: int64"
      ]
     },
     "execution_count": 124,
     "metadata": {},
     "output_type": "execute_result"
    }
   ],
   "source": [
    "# hint: think about how we coerced previous data into boolean data\n",
    "\n",
    "\n",
    "\n",
    "# Brooklyn         104\n",
    "# Manhattan         90\n",
    "# Bronx             87\n",
    "# Queens            65\n",
    "# Staten Island     10\n",
    "# Name: boro, dtype: int64"
   ]
  },
  {
   "cell_type": "markdown",
   "metadata": {},
   "source": [
    "Ok, now we don't have any cryptic values.  But we want to change this text to numbers. Let's start by changing it from type object to type category."
   ]
  },
  {
   "cell_type": "code",
   "execution_count": 125,
   "metadata": {},
   "outputs": [
    {
     "data": {
      "text/plain": [
       "dtype('O')"
      ]
     },
     "execution_count": 125,
     "metadata": {},
     "output_type": "execute_result"
    }
   ],
   "source": [
    "df['boro'].dtype"
   ]
  },
  {
   "cell_type": "markdown",
   "metadata": {},
   "source": [
    "Next, let's change the column to be of type category."
   ]
  },
  {
   "cell_type": "code",
   "execution_count": 6,
   "metadata": {},
   "outputs": [],
   "source": [
    "# Write code here\n",
    "\n",
    "\n",
    "df['boro'].dtype\n",
    "\n",
    "# CategoricalDtype(categories=['Bronx', 'Brooklyn', 'Manhattan', 'Queens', 'Staten Island'], ordered=False)"
   ]
  },
  {
   "cell_type": "markdown",
   "metadata": {},
   "source": [
    "Ok, next up is to replace each `text` category, currently the borough names, with a respective category number.  "
   ]
  },
  {
   "cell_type": "code",
   "execution_count": 127,
   "metadata": {},
   "outputs": [],
   "source": []
  },
  {
   "cell_type": "code",
   "execution_count": 129,
   "metadata": {},
   "outputs": [
    {
     "data": {
      "text/plain": [
       "1    104\n",
       "2     90\n",
       "0     87\n",
       "3     65\n",
       "4     10\n",
       "Name: boro, dtype: int64"
      ]
     },
     "execution_count": 129,
     "metadata": {},
     "output_type": "execute_result"
    }
   ],
   "source": [
    "# Write some code here\n",
    "\n",
    "\n",
    "df['boro'].value_counts()\n",
    "\n",
    "\n",
    "# 1    104\n",
    "# 2     90\n",
    "# 0     87\n",
    "# 3     65\n",
    "# 4     10\n",
    "# Name: boro, dtype: int64"
   ]
  },
  {
   "cell_type": "markdown",
   "metadata": {},
   "source": [
    "Ok, great now, we can see that almost all of our data in the dataframe is a number of some sort, which is what we want."
   ]
  }
 ],
 "metadata": {
  "kernelspec": {
   "display_name": "Python 3",
   "language": "python",
   "name": "python3"
  },
  "language_info": {
   "codemirror_mode": {
    "name": "ipython",
    "version": 3
   },
   "file_extension": ".py",
   "mimetype": "text/x-python",
   "name": "python",
   "nbconvert_exporter": "python",
   "pygments_lexer": "ipython3",
   "version": "3.7.3"
  }
 },
 "nbformat": 4,
 "nbformat_minor": 2
}
