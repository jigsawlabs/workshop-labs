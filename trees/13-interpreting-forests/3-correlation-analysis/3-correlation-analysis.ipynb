{
 "cells": [
  {
   "cell_type": "markdown",
   "metadata": {},
   "source": [
    "# Correlation Analysis"
   ]
  },
  {
   "cell_type": "markdown",
   "metadata": {},
   "source": [
    "### Introduction"
   ]
  },
  {
   "cell_type": "markdown",
   "metadata": {},
   "source": [
    "In the previous lesson, we limited the number of our features from hundreds down to just twenty features.  We did this by leaning on the `PermutationImportance` transformer.  Using `PermutationImportance` helps to find our most important features, but we can still have features that are highly collinear with others, and thus can be removed without a significant reduction in accuracy.  \n",
    "\n",
    "In this lesson, we'll identify those features that can be removed by using correlation analysis."
   ]
  },
  {
   "cell_type": "markdown",
   "metadata": {},
   "source": [
    "### Loading our data"
   ]
  },
  {
   "cell_type": "code",
   "execution_count": 127,
   "metadata": {},
   "outputs": [
    {
     "data": {
      "text/plain": [
       "0.831664401613017"
      ]
     },
     "execution_count": 127,
     "metadata": {},
     "output_type": "execute_result"
    }
   ],
   "source": [
    "import pandas as pd\n",
    "\n",
    "df_train = pd.read_feather('./selected_train.feather')\n",
    "df_X_train = df_train.drop(columns = ['price'])\n",
    "y_train = df_train.price\n",
    "\n",
    "df_val = pd.read_feather('./selected_val.feather')\n",
    "df_X_val = df_val.drop(columns = ['price'])\n",
    "y_val = df_val.price\n",
    "\n",
    "rfr = RandomForestRegressor(n_estimators=40, max_features='log2')\n",
    "rfr.fit(df_X_train, y_train)\n",
    "rfr.score(df_X_val, y_val)"
   ]
  },
  {
   "cell_type": "code",
   "execution_count": null,
   "metadata": {},
   "outputs": [],
   "source": [
    "pmi = PermutationImportance(rfr).fit(df_X_val, y_val)"
   ]
  },
  {
   "cell_type": "code",
   "execution_count": 132,
   "metadata": {},
   "outputs": [
    {
     "data": {
      "text/html": [
       "<div>\n",
       "<style scoped>\n",
       "    .dataframe tbody tr th:only-of-type {\n",
       "        vertical-align: middle;\n",
       "    }\n",
       "\n",
       "    .dataframe tbody tr th {\n",
       "        vertical-align: top;\n",
       "    }\n",
       "\n",
       "    .dataframe thead th {\n",
       "        text-align: right;\n",
       "    }\n",
       "</style>\n",
       "<table border=\"1\" class=\"dataframe\">\n",
       "  <thead>\n",
       "    <tr style=\"text-align: right;\">\n",
       "      <th></th>\n",
       "      <th>feature</th>\n",
       "      <th>weight</th>\n",
       "      <th>std</th>\n",
       "    </tr>\n",
       "  </thead>\n",
       "  <tbody>\n",
       "    <tr>\n",
       "      <th>0</th>\n",
       "      <td>calculated_host_listings_count</td>\n",
       "      <td>0.223305</td>\n",
       "      <td>0.000855</td>\n",
       "    </tr>\n",
       "    <tr>\n",
       "      <th>1</th>\n",
       "      <td>host_total_listings_count</td>\n",
       "      <td>0.126682</td>\n",
       "      <td>0.003161</td>\n",
       "    </tr>\n",
       "    <tr>\n",
       "      <th>2</th>\n",
       "      <td>id</td>\n",
       "      <td>0.112937</td>\n",
       "      <td>0.001433</td>\n",
       "    </tr>\n",
       "    <tr>\n",
       "      <th>3</th>\n",
       "      <td>index</td>\n",
       "      <td>0.108596</td>\n",
       "      <td>0.002373</td>\n",
       "    </tr>\n",
       "    <tr>\n",
       "      <th>4</th>\n",
       "      <td>host_verifications_['email', 'phone']</td>\n",
       "      <td>0.103505</td>\n",
       "      <td>0.009017</td>\n",
       "    </tr>\n",
       "  </tbody>\n",
       "</table>\n",
       "</div>"
      ],
      "text/plain": [
       "                                 feature    weight       std\n",
       "0         calculated_host_listings_count  0.223305  0.000855\n",
       "1              host_total_listings_count  0.126682  0.003161\n",
       "2                                     id  0.112937  0.001433\n",
       "3                                  index  0.108596  0.002373\n",
       "4  host_verifications_['email', 'phone']  0.103505  0.009017"
      ]
     },
     "execution_count": 132,
     "metadata": {},
     "output_type": "execute_result"
    }
   ],
   "source": [
    "eli5.explain_weights_df(pmi, feature_names = df_X_train.columns.to_list())[:5]"
   ]
  },
  {
   "cell_type": "markdown",
   "metadata": {},
   "source": [
    "Now just looking at some of the above features, we can see that `calculated_host_listings_count` and `host_total_listings_count` may be highly correlated.  Let's use correlation analysis to see if these, and potentially other features are similar, and thus can be removed. "
   ]
  },
  {
   "cell_type": "markdown",
   "metadata": {},
   "source": [
    "### Removing Correlated Features"
   ]
  },
  {
   "cell_type": "markdown",
   "metadata": {},
   "source": [
    "We know from our previous experience with correlation analysis that by using the `spearman` correlation, we can find features that are related, even if not linearly related."
   ]
  },
  {
   "cell_type": "markdown",
   "metadata": {},
   "source": [
    "Below, let's find all of the features that are have a spearman correlation above `.60` with another feature."
   ]
  },
  {
   "cell_type": "code",
   "execution_count": 134,
   "metadata": {},
   "outputs": [
    {
     "data": {
      "text/plain": [
       "Index(['index', 'id', 'host_id', 'host_listings_count',\n",
       "       'host_total_listings_count', 'availability_60', 'availability_90',\n",
       "       'availability_365', 'calculated_host_listings_count',\n",
       "       'host_sinceElapsed'],\n",
       "      dtype='object')"
      ]
     },
     "execution_count": 134,
     "metadata": {},
     "output_type": "execute_result"
    }
   ],
   "source": [
    "import numpy as np\n",
    "indexed_corr = (np.abs(df_X_train.corr(method = 'spearman')) > .60).sum()\n",
    "correlated_cols = indexed_corr[indexed_corr > 1].index\n",
    "correlated_cols"
   ]
  },
  {
   "cell_type": "code",
   "execution_count": 139,
   "metadata": {},
   "outputs": [
    {
     "data": {
      "text/plain": [
       "<matplotlib.axes._subplots.AxesSubplot at 0x1a2e55c828>"
      ]
     },
     "execution_count": 139,
     "metadata": {},
     "output_type": "execute_result"
    },
    {
     "data": {
      "image/png": "[encoded data removed]",
      "text/plain": [
       "<Figure size 432x288 with 2 Axes>"
      ]
     },
     "metadata": {
      "needs_background": "light"
     },
     "output_type": "display_data"
    }
   ],
   "source": [
    "import seaborn as sns\n",
    "df_corr = df_X_train[correlated_cols].corr(method = 'spearman')\n",
    "sns.heatmap(df_corr, annot = True)"
   ]
  },
  {
   "cell_type": "markdown",
   "metadata": {},
   "source": [
    "From here we can identify those features that are highly correlated.  The lighter the color, the higher the correlation."
   ]
  },
  {
   "cell_type": "markdown",
   "metadata": {},
   "source": [
    "1. index, id\n",
    "2. availability_365, availability_90, availability_60\n",
    "3. host_listings_count, host_total_listings_count, calculated_host_listings_count\n",
    "4. host_id, host_sinceElapsed"
   ]
  },
  {
   "cell_type": "markdown",
   "metadata": {},
   "source": [
    "Let's go through these features in turn, to determine which to remove."
   ]
  },
  {
   "cell_type": "markdown",
   "metadata": {},
   "source": [
    "#### a) availability_365, availability_90, availability_60"
   ]
  },
  {
   "cell_type": "markdown",
   "metadata": {},
   "source": [
    "If we try various permutations of removing one or more of our availability features, to see if we suffer a significant from from our original score of `.831`. We find scores like the following:\n",
    "\n",
    "* remove `availability_90`: 0.838\n",
    "* remove `availability_60`: .84\n",
    "* remove both `availability_90` and `availability_60`: .842"
   ]
  },
  {
   "cell_type": "markdown",
   "metadata": {},
   "source": [
    "We have a preference for removing more features, so let's remove both availability 90 and 60."
   ]
  },
  {
   "cell_type": "code",
   "execution_count": 141,
   "metadata": {},
   "outputs": [
    {
     "data": {
      "text/plain": [
       "0.8473031514568746"
      ]
     },
     "execution_count": 141,
     "metadata": {},
     "output_type": "execute_result"
    }
   ],
   "source": [
    "df_dropped_avail_train = df_X_train.drop(columns = ['availability_90', 'availability_60'])\n",
    "df_dropped_avail_val = df_X_val.drop(columns = ['availability_90', 'availability_60'])\n",
    "\n",
    "rfr_dropped_avail = RandomForestRegressor(n_estimators=40, max_features='log2')\n",
    "rfr_dropped_avail.fit(df_dropped_avail_train, y_train)\n",
    "rfr_dropped_avail.score(df_dropped_avail_val, y_val)"
   ]
  },
  {
   "cell_type": "markdown",
   "metadata": {},
   "source": [
    "We see that our score increased from our original score."
   ]
  },
  {
   "cell_type": "markdown",
   "metadata": {},
   "source": [
    "#### b) host_listings_count, host_total_listings_count, calculated_host_listings_count"
   ]
  },
  {
   "cell_type": "markdown",
   "metadata": {},
   "source": [
    "We perform the same analysis with our host listing count features.  These features have correlation scores of 1 and .9, so we are fairly certain we only need one of them."
   ]
  },
  {
   "cell_type": "code",
   "execution_count": 144,
   "metadata": {},
   "outputs": [
    {
     "data": {
      "text/plain": [
       "0.83280686172027"
      ]
     },
     "execution_count": 144,
     "metadata": {},
     "output_type": "execute_result"
    }
   ],
   "source": [
    "train_df_dropped_host = df_dropped_avail_train.drop(columns = ['host_total_listings_count', 'calculated_host_listings_count'])\n",
    "df_dropped_val = df_dropped_avail_val.drop(columns = ['host_total_listings_count', 'calculated_host_listings_count'])\n",
    "\n",
    "rfr_dropped_avail = RandomForestRegressor(n_estimators=40, max_features='log2')\n",
    "rfr_dropped_avail.fit(train_df_dropped_host, y_train)\n",
    "rfr_dropped_avail.score(df_dropped_val, y_val)"
   ]
  },
  {
   "cell_type": "markdown",
   "metadata": {},
   "source": [
    "Happy with the score, we continue to move on."
   ]
  },
  {
   "cell_type": "markdown",
   "metadata": {},
   "source": [
    "#### c) host_id, host_sinceElapsed"
   ]
  },
  {
   "cell_type": "markdown",
   "metadata": {},
   "source": [
    "Host_id is less informative than `host_sinceElapsed`, so we remove `host_id`."
   ]
  },
  {
   "cell_type": "code",
   "execution_count": 148,
   "metadata": {},
   "outputs": [
    {
     "data": {
      "text/plain": [
       "0.840068619452593"
      ]
     },
     "execution_count": 148,
     "metadata": {},
     "output_type": "execute_result"
    }
   ],
   "source": [
    "train_drop_host_id = train_df_dropped_host.drop(columns = ['host_id'])\n",
    "val_drop_host_id = df_dropped_val.drop(columns = ['host_id'])\n",
    "rfr_dropped_host_id = RandomForestRegressor(n_estimators=40, max_features='log2')\n",
    "\n",
    "rfr_dropped_host_id.fit(train_drop_host_id, y_train)\n",
    "rfr_dropped_host_id.score(val_drop_host_id, y_val)"
   ]
  },
  {
   "cell_type": "markdown",
   "metadata": {},
   "source": [
    "#### d) id, index"
   ]
  },
  {
   "cell_type": "markdown",
   "metadata": {},
   "source": [
    "Now `id` and `index` are both features that will only increase as we input new data.  So if there is a split for either feature, say `id < 100`, then we know our future data will always surpass it.  These are features that will not generalize to future data, so let's remove them both."
   ]
  },
  {
   "cell_type": "code",
   "execution_count": 150,
   "metadata": {},
   "outputs": [
    {
     "data": {
      "text/plain": [
       "0.8375853941175957"
      ]
     },
     "execution_count": 150,
     "metadata": {},
     "output_type": "execute_result"
    }
   ],
   "source": [
    "train_drop_id_idx = train_drop_host_id.drop(columns = ['id', 'index'])\n",
    "val_drop_id_idx = val_drop_host_id.drop(columns = ['id', 'index'])\n",
    "rfr_dropped_id_idx = RandomForestRegressor(n_estimators=40, max_features='log2')\n",
    "\n",
    "rfr_dropped_id_idx.fit(train_drop_host_id, y_train)\n",
    "rfr_dropped_id_idx.score(val_drop_host_id, y_val)"
   ]
  },
  {
   "cell_type": "markdown",
   "metadata": {},
   "source": [
    "## Taking Stock"
   ]
  },
  {
   "cell_type": "markdown",
   "metadata": {},
   "source": [
    "Let's look at the features we still have."
   ]
  },
  {
   "cell_type": "code",
   "execution_count": 152,
   "metadata": {},
   "outputs": [
    {
     "data": {
      "text/plain": [
       "Index(['host_listings_count', 'longitude', 'beds', 'availability_365',\n",
       "       'host_neighbourhood_is_na', 'summary_is_na', 'license_is_na',\n",
       "       'host_sinceDay', 'host_sinceElapsed', 'property_type_other',\n",
       "       'host_verifications_['email', 'phone']', 'room_type_Private room',\n",
       "       'host_sinceMonth_5.0'],\n",
       "      dtype='object')"
      ]
     },
     "execution_count": 152,
     "metadata": {},
     "output_type": "execute_result"
    }
   ],
   "source": [
    "train_drop_id_idx.columns"
   ]
  },
  {
   "cell_type": "markdown",
   "metadata": {},
   "source": [
    "There are still three features that appear fairly similar: `host_sinceDay`, `host_sinceMonth_5.0`, and `host_sinceElapsed`.  It could be that our correlation analysis simply did not pick up that the day and month are a combination of `host_sinceElapsed`.  So let's try removing them, and see if we suffer a decrease in score. "
   ]
  },
  {
   "cell_type": "code",
   "execution_count": 153,
   "metadata": {},
   "outputs": [
    {
     "data": {
      "text/plain": [
       "0.8365692272176098"
      ]
     },
     "execution_count": 153,
     "metadata": {},
     "output_type": "execute_result"
    }
   ],
   "source": [
    "train_drop_hostSince = train_drop_id_idx.drop(columns = ['host_sinceMonth_5.0', 'host_sinceDay'])\n",
    "val_drop_hostSince = val_drop_id_idx.drop(columns = ['host_sinceMonth_5.0', 'host_sinceDay'])\n",
    "\n",
    "rfr_drop_hostSince = RandomForestRegressor(n_estimators=40, max_features='log2')\n",
    "\n",
    "rfr_drop_hostSince.fit(train_drop_hostSince, y_train)\n",
    "rfr_drop_hostSince.score(val_drop_hostSince, y_val)"
   ]
  },
  {
   "cell_type": "markdown",
   "metadata": {},
   "source": [
    "### Placing it in context"
   ]
  },
  {
   "cell_type": "markdown",
   "metadata": {},
   "source": [
    "Let's take a look at the columns that are remaining."
   ]
  },
  {
   "cell_type": "code",
   "execution_count": 155,
   "metadata": {},
   "outputs": [
    {
     "data": {
      "text/plain": [
       "Index(['host_listings_count', 'longitude', 'beds', 'availability_365',\n",
       "       'host_neighbourhood_is_na', 'summary_is_na', 'license_is_na',\n",
       "       'host_sinceElapsed', 'property_type_other',\n",
       "       'host_verifications_['email', 'phone']', 'room_type_Private room'],\n",
       "      dtype='object')"
      ]
     },
     "execution_count": 155,
     "metadata": {},
     "output_type": "execute_result"
    }
   ],
   "source": [
    "train_drop_hostSince.columns"
   ]
  },
  {
   "cell_type": "markdown",
   "metadata": {},
   "source": [
    "Now ideally, these are the features that will determine the listing price.  There is one feature that probably does not determine the listing price.  This is the `availability_365`. One way to see this, is to think about the timing, everything other feature is set before someone lists their price.  However, availability of the room occurs after.  So at the time that the listing price is set, the availability is still unknown.  This is called data leakage.  Data leakage is when we feed data into our model that we would not have at the time we are trying to predict our target.  \n",
    "\n",
    "Because the availability is set after the listing price, this is an example of data leakage.  Let's remove it and see how we do."
   ]
  },
  {
   "cell_type": "code",
   "execution_count": 163,
   "metadata": {},
   "outputs": [],
   "source": [
    "train_drop_availability = train_drop_hostSince.drop(columns = ['availability_365'])\n",
    "val_drop_availability = val_drop_hostSince.drop(columns = ['availability_365'])"
   ]
  },
  {
   "cell_type": "code",
   "execution_count": 165,
   "metadata": {},
   "outputs": [
    {
     "data": {
      "text/plain": [
       "0.8417237568420892"
      ]
     },
     "execution_count": 165,
     "metadata": {},
     "output_type": "execute_result"
    }
   ],
   "source": [
    "rfr_dropped_avail = RandomForestRegressor(n_estimators=40, max_features='log2')\n",
    "rfr_dropped_avail.fit(train_drop_availability, y_train)\n",
    "rfr_dropped_avail.score(val_drop_availability, y_val)"
   ]
  },
  {
   "cell_type": "code",
   "execution_count": 166,
   "metadata": {},
   "outputs": [
    {
     "data": {
      "text/plain": [
       "Index(['host_listings_count', 'longitude', 'beds', 'host_neighbourhood_is_na',\n",
       "       'summary_is_na', 'license_is_na', 'host_sinceElapsed',\n",
       "       'property_type_other', 'host_verifications_['email', 'phone']',\n",
       "       'room_type_Private room'],\n",
       "      dtype='object')"
      ]
     },
     "execution_count": 166,
     "metadata": {},
     "output_type": "execute_result"
    }
   ],
   "source": [
    "train_drop_availability.columns"
   ]
  },
  {
   "cell_type": "markdown",
   "metadata": {},
   "source": [
    "### Remove time based features"
   ]
  },
  {
   "cell_type": "markdown",
   "metadata": {},
   "source": [
    "Finally, random forests do not do so well with time based features.  If we can remove a time based feature, and the random forest continues to perform well, we would prefer this."
   ]
  },
  {
   "cell_type": "code",
   "execution_count": 174,
   "metadata": {},
   "outputs": [],
   "source": [
    "train_drop_sinceElapsed = train_drop_availability.drop(columns = ['host_sinceElapsed'])\n",
    "val_drop_sinceElapsed = val_drop_availability.drop(columns = ['host_sinceElapsed'])"
   ]
  },
  {
   "cell_type": "code",
   "execution_count": 175,
   "metadata": {},
   "outputs": [
    {
     "data": {
      "text/plain": [
       "0.7932218281526193"
      ]
     },
     "execution_count": 175,
     "metadata": {},
     "output_type": "execute_result"
    }
   ],
   "source": [
    "rfr_dropped_sinceElapsed = RandomForestRegressor(n_estimators=40, max_features='log2')\n",
    "rfr_dropped_sinceElapsed.fit(train_drop_sinceElapsed, y_train)\n",
    "rfr_dropped_sinceElapsed.score(val_drop_sinceElapsed, y_val)"
   ]
  },
  {
   "cell_type": "markdown",
   "metadata": {},
   "source": [
    "This is an accuracy hit for removing the feature, so it would determine on the business use case as to whether we should include in it.  It appears that this could give us trouble, as again we may see splits that our future data always surpasses.  Because of this, let's keep the feature removed."
   ]
  },
  {
   "cell_type": "markdown",
   "metadata": {},
   "source": [
    "We're down to just nine columns, beginning with over 300."
   ]
  },
  {
   "cell_type": "code",
   "execution_count": 171,
   "metadata": {},
   "outputs": [
    {
     "data": {
      "text/plain": [
       "9"
      ]
     },
     "execution_count": 171,
     "metadata": {},
     "output_type": "execute_result"
    }
   ],
   "source": [
    "len(train_drop_sinceElapsed.columns)"
   ]
  },
  {
   "cell_type": "code",
   "execution_count": 177,
   "metadata": {},
   "outputs": [
    {
     "data": {
      "text/html": [
       "<div>\n",
       "<style scoped>\n",
       "    .dataframe tbody tr th:only-of-type {\n",
       "        vertical-align: middle;\n",
       "    }\n",
       "\n",
       "    .dataframe tbody tr th {\n",
       "        vertical-align: top;\n",
       "    }\n",
       "\n",
       "    .dataframe thead th {\n",
       "        text-align: right;\n",
       "    }\n",
       "</style>\n",
       "<table border=\"1\" class=\"dataframe\">\n",
       "  <thead>\n",
       "    <tr style=\"text-align: right;\">\n",
       "      <th></th>\n",
       "      <th>feature</th>\n",
       "      <th>weight</th>\n",
       "      <th>std</th>\n",
       "    </tr>\n",
       "  </thead>\n",
       "  <tbody>\n",
       "    <tr>\n",
       "      <th>0</th>\n",
       "      <td>host_listings_count</td>\n",
       "      <td>0.510469</td>\n",
       "      <td>0.040369</td>\n",
       "    </tr>\n",
       "    <tr>\n",
       "      <th>1</th>\n",
       "      <td>host_verifications_['email', 'phone']</td>\n",
       "      <td>0.248430</td>\n",
       "      <td>0.041238</td>\n",
       "    </tr>\n",
       "    <tr>\n",
       "      <th>2</th>\n",
       "      <td>summary_is_na</td>\n",
       "      <td>0.205910</td>\n",
       "      <td>0.001159</td>\n",
       "    </tr>\n",
       "    <tr>\n",
       "      <th>3</th>\n",
       "      <td>property_type_other</td>\n",
       "      <td>0.178344</td>\n",
       "      <td>0.010635</td>\n",
       "    </tr>\n",
       "    <tr>\n",
       "      <th>4</th>\n",
       "      <td>license_is_na</td>\n",
       "      <td>0.149540</td>\n",
       "      <td>0.018367</td>\n",
       "    </tr>\n",
       "    <tr>\n",
       "      <th>5</th>\n",
       "      <td>longitude</td>\n",
       "      <td>0.115380</td>\n",
       "      <td>0.046263</td>\n",
       "    </tr>\n",
       "    <tr>\n",
       "      <th>6</th>\n",
       "      <td>beds</td>\n",
       "      <td>0.035706</td>\n",
       "      <td>0.018000</td>\n",
       "    </tr>\n",
       "    <tr>\n",
       "      <th>7</th>\n",
       "      <td>host_neighbourhood_is_na</td>\n",
       "      <td>0.030889</td>\n",
       "      <td>0.005351</td>\n",
       "    </tr>\n",
       "    <tr>\n",
       "      <th>8</th>\n",
       "      <td>room_type_Private room</td>\n",
       "      <td>0.010878</td>\n",
       "      <td>0.004295</td>\n",
       "    </tr>\n",
       "  </tbody>\n",
       "</table>\n",
       "</div>"
      ],
      "text/plain": [
       "                                 feature    weight       std\n",
       "0                    host_listings_count  0.510469  0.040369\n",
       "1  host_verifications_['email', 'phone']  0.248430  0.041238\n",
       "2                          summary_is_na  0.205910  0.001159\n",
       "3                    property_type_other  0.178344  0.010635\n",
       "4                          license_is_na  0.149540  0.018367\n",
       "5                              longitude  0.115380  0.046263\n",
       "6                                   beds  0.035706  0.018000\n",
       "7               host_neighbourhood_is_na  0.030889  0.005351\n",
       "8                 room_type_Private room  0.010878  0.004295"
      ]
     },
     "execution_count": 177,
     "metadata": {},
     "output_type": "execute_result"
    }
   ],
   "source": [
    "pmi_limited = PermutationImportance(rfr_dropped_avail).fit(val_drop_sinceElapsed, y_val)\n",
    "eli5.explain_weights_df(pmi_limited, feature_names = val_drop_sinceElapsed.columns.to_list())"
   ]
  },
  {
   "cell_type": "markdown",
   "metadata": {},
   "source": [
    "And from here, we can get a sense of what features are important.  "
   ]
  },
  {
   "cell_type": "code",
   "execution_count": 180,
   "metadata": {},
   "outputs": [],
   "source": [
    "train_drop_sinceElapsed.loc[:, 'price'] = y_train\n",
    "\n",
    "val_drop_sinceElapsed.loc[:, 'price'] = y_val\n",
    "\n",
    "train_drop_sinceElapsed.to_feather('./train_removed_corr.feather')\n",
    "val_drop_sinceElapsed.to_feather('./val_removed_corr.feather') "
   ]
  },
  {
   "cell_type": "markdown",
   "metadata": {},
   "source": [
    "### Summary"
   ]
  },
  {
   "cell_type": "markdown",
   "metadata": {},
   "source": [
    "In this lesson, we saw how to use correlation analysis to further limit the amount of features.  After performing correlation analysis, we also removed features that appeared to be a degree of data leakage, as well as features that are time based.  After removing these features, we also were able to see a greater significance of the remaining features."
   ]
  }
 ],
 "metadata": {
  "kernelspec": {
   "display_name": "Python 3",
   "language": "python",
   "name": "python3"
  },
  "language_info": {
   "codemirror_mode": {
    "name": "ipython",
    "version": 3
   },
   "file_extension": ".py",
   "mimetype": "text/x-python",
   "name": "python",
   "nbconvert_exporter": "python",
   "pygments_lexer": "ipython3",
   "version": "3.7.3"
  }
 },
 "nbformat": 4,
 "nbformat_minor": 2
}
