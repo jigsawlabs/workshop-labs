{
 "cells": [
  {
   "cell_type": "markdown",
   "metadata": {},
   "source": [
    "# Another source of variance"
   ]
  },
  {
   "cell_type": "markdown",
   "metadata": {},
   "source": [
    "### Introduction"
   ]
  },
  {
   "cell_type": "markdown",
   "metadata": {},
   "source": [
    "In the last lesson, we saw how decision trees can overfit.  \n",
    "\n",
    "An unbounded decision tree can perfectly predict the training set because each leaf node can predict just one sample.  But because each prediction is made on a sample size of just one, these predictions are not necessarily predictive of future data.  This is our problem of overfitting our model to our training data, which leads to high variance in our model.  \n",
    "\n",
    "Now we saw a way to limit this variance, which is limit the number of levels in our decision tree.  This solution, does a fine job of overfitting in the leaf nodes, but unfortunately, does not solve the problem of variance all together."
   ]
  },
  {
   "cell_type": "markdown",
   "metadata": {},
   "source": [
    "In this lesson, we'll see other ways that variance occurs in trees, and how we can respond to this variance."
   ]
  },
  {
   "cell_type": "markdown",
   "metadata": {},
   "source": [
    "### Loading our data"
   ]
  },
  {
   "cell_type": "markdown",
   "metadata": {},
   "source": [
    "Let's work with our Airbnb dataset again.  We have already cleaned our data, so we just need to load it into our notebook, and then can feed it into a decision tree."
   ]
  },
  {
   "cell_type": "code",
   "execution_count": 7,
   "metadata": {},
   "outputs": [],
   "source": [
    "import json\n",
    "with open('types.json', 'r') as f:\n",
    "    data_types = json.load(f)\n",
    "\n",
    "import pandas as pd\n",
    "df = pd.read_feather('cleaned_df.feather')\n",
    "X = df.drop(columns=['price'])\n",
    "y = df.price"
   ]
  },
  {
   "cell_type": "markdown",
   "metadata": {},
   "source": [
    "#### Training our trees"
   ]
  },
  {
   "cell_type": "markdown",
   "metadata": {},
   "source": [
    "1. The first tree"
   ]
  },
  {
   "cell_type": "markdown",
   "metadata": {},
   "source": [
    "Let's keep our first decision tree simple, by limiting our tree to a max depth of 3.  As we know this should reduce the variance of the tree as it is less responsive to the data."
   ]
  },
  {
   "cell_type": "code",
   "execution_count": 8,
   "metadata": {},
   "outputs": [
    {
     "data": {
      "text/plain": [
       "DecisionTreeRegressor(criterion='mse', max_depth=4, max_features=None,\n",
       "           max_leaf_nodes=None, min_impurity_decrease=0.0,\n",
       "           min_impurity_split=None, min_samples_leaf=1,\n",
       "           min_samples_split=2, min_weight_fraction_leaf=0.0,\n",
       "           presort=False, random_state=None, splitter='best')"
      ]
     },
     "execution_count": 8,
     "metadata": {},
     "output_type": "execute_result"
    }
   ],
   "source": [
    "from sklearn.model_selection import train_test_split\n",
    "X_train_1, X_test_1, y_train_1, y_test_1 = train_test_split(X, y, test_size=0.40, random_state=42)\n",
    "\n",
    "from sklearn.tree import DecisionTreeRegressor\n",
    "dtr_1 = DecisionTreeRegressor(max_depth=4)\n",
    "dtr_1.fit(X_train_1, y_train_1)"
   ]
  },
  {
   "cell_type": "markdown",
   "metadata": {},
   "source": [
    "2. The second tree"
   ]
  },
  {
   "cell_type": "markdown",
   "metadata": {},
   "source": [
    "Now let's train a second tree the same way.  To ensure our tree is different than the first, we'll  train on a different subset of the data by changing the value of our random state."
   ]
  },
  {
   "cell_type": "code",
   "execution_count": 21,
   "metadata": {},
   "outputs": [
    {
     "data": {
      "text/plain": [
       "DecisionTreeRegressor(criterion='mse', max_depth=4, max_features=None,\n",
       "           max_leaf_nodes=None, min_impurity_decrease=0.0,\n",
       "           min_impurity_split=None, min_samples_leaf=1,\n",
       "           min_samples_split=2, min_weight_fraction_leaf=0.0,\n",
       "           presort=False, random_state=None, splitter='best')"
      ]
     },
     "execution_count": 21,
     "metadata": {},
     "output_type": "execute_result"
    }
   ],
   "source": [
    "from sklearn.model_selection import train_test_split\n",
    "X_train_2, X_test_2, y_train_2, y_test_2 = train_test_split(X, y, test_size=0.40, random_state=21)\n",
    "from sklearn.tree import DecisionTreeRegressor\n",
    "dtr_2 = DecisionTreeRegressor(max_depth=4)\n",
    "dtr_2.fit(X_train_2, y_train_2)"
   ]
  },
  {
   "cell_type": "markdown",
   "metadata": {},
   "source": [
    "### Comparing our trees"
   ]
  },
  {
   "cell_type": "markdown",
   "metadata": {},
   "source": [
    "Ok, now let's compare our two trees.  As we'll see below, there is even a degree of variance in the early layers of the tree."
   ]
  },
  {
   "cell_type": "code",
   "execution_count": 29,
   "metadata": {},
   "outputs": [
    {
     "data": {
      "image/svg+xml": [
       "<?xml version=\"1.0\" encoding=\"UTF-8\" standalone=\"no\"?>\n",
       "<!DOCTYPE svg PUBLIC \"-//W3C//DTD SVG 1.1//EN\"\n",
       " \"http://www.w3.org/Graphics/SVG/1.1/DTD/svg11.dtd\">\n",
       "<!-- Generated by graphviz version 2.40.1 (20161225.0304)\n",
       " -->\n",
       "<!-- Title: Tree Pages: 1 -->\n",
       "<svg width=\"428pt\" height=\"344pt\"\n",
       " viewBox=\"0.00 0.00 427.52 344.00\" xmlns=\"http://www.w3.org/2000/svg\" xmlns:xlink=\"http://www.w3.org/1999/xlink\">\n",
       "<g id=\"graph0\" class=\"graph\" transform=\"scale(1 1) rotate(0) translate(4 340)\">\n",
       "<title>Tree</title>\n",
       "<polygon fill=\"#ffffff\" stroke=\"transparent\" points=\"-4,4 -4,-340 423.519,-340 423.519,4 -4,4\"/>\n",
       "<!-- 0 -->\n",
       "<g id=\"node1\" class=\"node\">\n",
       "<title>0</title>\n",
       "<polygon fill=\"none\" stroke=\"#000000\" points=\"347.5407,-336 198.9369,-336 198.9369,-272 347.5407,-272 347.5407,-336\"/>\n",
       "<text text-anchor=\"middle\" x=\"273.2388\" y=\"-320.8\" font-family=\"Times,serif\" font-size=\"14.00\" fill=\"#000000\">cleaning_fee &lt;= 1200.0</text>\n",
       "<text text-anchor=\"middle\" x=\"273.2388\" y=\"-306.8\" font-family=\"Times,serif\" font-size=\"14.00\" fill=\"#000000\">mse = 65250.458</text>\n",
       "<text text-anchor=\"middle\" x=\"273.2388\" y=\"-292.8\" font-family=\"Times,serif\" font-size=\"14.00\" fill=\"#000000\">samples = 13531</text>\n",
       "<text text-anchor=\"middle\" x=\"273.2388\" y=\"-278.8\" font-family=\"Times,serif\" font-size=\"14.00\" fill=\"#000000\">value = 70.083</text>\n",
       "</g>\n",
       "<!-- 1 -->\n",
       "<g id=\"node2\" class=\"node\">\n",
       "<title>1</title>\n",
       "<polygon fill=\"none\" stroke=\"#000000\" points=\"296.6646,-236 67.813,-236 67.813,-172 296.6646,-172 296.6646,-236\"/>\n",
       "<text text-anchor=\"middle\" x=\"182.2388\" y=\"-220.8\" font-family=\"Times,serif\" font-size=\"14.00\" fill=\"#000000\">calculated_host_listings_count &lt;= 9.5</text>\n",
       "<text text-anchor=\"middle\" x=\"182.2388\" y=\"-206.8\" font-family=\"Times,serif\" font-size=\"14.00\" fill=\"#000000\">mse = 59361.022</text>\n",
       "<text text-anchor=\"middle\" x=\"182.2388\" y=\"-192.8\" font-family=\"Times,serif\" font-size=\"14.00\" fill=\"#000000\">samples = 13530</text>\n",
       "<text text-anchor=\"middle\" x=\"182.2388\" y=\"-178.8\" font-family=\"Times,serif\" font-size=\"14.00\" fill=\"#000000\">value = 69.423</text>\n",
       "</g>\n",
       "<!-- 0&#45;&gt;1 -->\n",
       "<g id=\"edge1\" class=\"edge\">\n",
       "<title>0&#45;&gt;1</title>\n",
       "<path fill=\"none\" stroke=\"#000000\" d=\"M243.9449,-271.8089C235.8265,-262.8877 226.9164,-253.0963 218.4538,-243.7968\"/>\n",
       "<polygon fill=\"#000000\" stroke=\"#000000\" points=\"220.7968,-241.1712 211.4778,-236.1308 215.6196,-245.8825 220.7968,-241.1712\"/>\n",
       "<text text-anchor=\"middle\" x=\"210.3011\" y=\"-256.9031\" font-family=\"Times,serif\" font-size=\"14.00\" fill=\"#000000\">True</text>\n",
       "</g>\n",
       "<!-- 14 -->\n",
       "<g id=\"node9\" class=\"node\">\n",
       "<title>14</title>\n",
       "<polygon fill=\"none\" stroke=\"#000000\" points=\"413.9521,-229 314.5255,-229 314.5255,-179 413.9521,-179 413.9521,-229\"/>\n",
       "<text text-anchor=\"middle\" x=\"364.2388\" y=\"-213.8\" font-family=\"Times,serif\" font-size=\"14.00\" fill=\"#000000\">mse = 0.0</text>\n",
       "<text text-anchor=\"middle\" x=\"364.2388\" y=\"-199.8\" font-family=\"Times,serif\" font-size=\"14.00\" fill=\"#000000\">samples = 1</text>\n",
       "<text text-anchor=\"middle\" x=\"364.2388\" y=\"-185.8\" font-family=\"Times,serif\" font-size=\"14.00\" fill=\"#000000\">value = 9000.0</text>\n",
       "</g>\n",
       "<!-- 0&#45;&gt;14 -->\n",
       "<g id=\"edge8\" class=\"edge\">\n",
       "<title>0&#45;&gt;14</title>\n",
       "<path fill=\"none\" stroke=\"#000000\" d=\"M302.5326,-271.8089C312.7488,-260.5824 324.2187,-247.978 334.4728,-236.7098\"/>\n",
       "<polygon fill=\"#000000\" stroke=\"#000000\" points=\"337.2054,-238.9073 341.3472,-229.1555 332.0282,-234.196 337.2054,-238.9073\"/>\n",
       "<text text-anchor=\"middle\" x=\"342.5239\" y=\"-249.9278\" font-family=\"Times,serif\" font-size=\"14.00\" fill=\"#000000\">False</text>\n",
       "</g>\n",
       "<!-- 2 -->\n",
       "<g id=\"node3\" class=\"node\">\n",
       "<title>2</title>\n",
       "<polygon fill=\"none\" stroke=\"#000000\" points=\"146.7171,-136 -.2396,-136 -.2396,-72 146.7171,-72 146.7171,-136\"/>\n",
       "<text text-anchor=\"middle\" x=\"73.2388\" y=\"-120.8\" font-family=\"Times,serif\" font-size=\"14.00\" fill=\"#000000\">accommodates &lt;= 13.5</text>\n",
       "<text text-anchor=\"middle\" x=\"73.2388\" y=\"-106.8\" font-family=\"Times,serif\" font-size=\"14.00\" fill=\"#000000\">mse = 20435.714</text>\n",
       "<text text-anchor=\"middle\" x=\"73.2388\" y=\"-92.8\" font-family=\"Times,serif\" font-size=\"14.00\" fill=\"#000000\">samples = 13189</text>\n",
       "<text text-anchor=\"middle\" x=\"73.2388\" y=\"-78.8\" font-family=\"Times,serif\" font-size=\"14.00\" fill=\"#000000\">value = 62.122</text>\n",
       "</g>\n",
       "<!-- 1&#45;&gt;2 -->\n",
       "<g id=\"edge2\" class=\"edge\">\n",
       "<title>1&#45;&gt;2</title>\n",
       "<path fill=\"none\" stroke=\"#000000\" d=\"M147.1505,-171.8089C137.1346,-162.62 126.1125,-152.508 115.7065,-142.9612\"/>\n",
       "<polygon fill=\"#000000\" stroke=\"#000000\" points=\"117.9962,-140.312 108.2613,-136.1308 113.2639,-145.4702 117.9962,-140.312\"/>\n",
       "</g>\n",
       "<!-- 9 -->\n",
       "<g id=\"node6\" class=\"node\">\n",
       "<title>9</title>\n",
       "<polygon fill=\"none\" stroke=\"#000000\" points=\"419.2997,-136 165.1778,-136 165.1778,-72 419.2997,-72 419.2997,-136\"/>\n",
       "<text text-anchor=\"middle\" x=\"292.2388\" y=\"-120.8\" font-family=\"Times,serif\" font-size=\"14.00\" fill=\"#000000\">host_verifications_[&#39;email&#39;, &#39;phone&#39;] &lt;= 0.5</text>\n",
       "<text text-anchor=\"middle\" x=\"292.2388\" y=\"-106.8\" font-family=\"Times,serif\" font-size=\"14.00\" fill=\"#000000\">mse = 1483092.558</text>\n",
       "<text text-anchor=\"middle\" x=\"292.2388\" y=\"-92.8\" font-family=\"Times,serif\" font-size=\"14.00\" fill=\"#000000\">samples = 341</text>\n",
       "<text text-anchor=\"middle\" x=\"292.2388\" y=\"-78.8\" font-family=\"Times,serif\" font-size=\"14.00\" fill=\"#000000\">value = 351.801</text>\n",
       "</g>\n",
       "<!-- 1&#45;&gt;9 -->\n",
       "<g id=\"edge5\" class=\"edge\">\n",
       "<title>1&#45;&gt;9</title>\n",
       "<path fill=\"none\" stroke=\"#000000\" d=\"M217.649,-171.8089C227.7567,-162.62 238.8799,-152.508 249.3815,-142.9612\"/>\n",
       "<polygon fill=\"#000000\" stroke=\"#000000\" points=\"251.8499,-145.4473 256.8949,-136.1308 247.1411,-140.2677 251.8499,-145.4473\"/>\n",
       "</g>\n",
       "<!-- 3 -->\n",
       "<g id=\"node4\" class=\"node\">\n",
       "<title>3</title>\n",
       "<polygon fill=\"none\" stroke=\"#000000\" points=\"64.2388,-36 10.2388,-36 10.2388,0 64.2388,0 64.2388,-36\"/>\n",
       "<text text-anchor=\"middle\" x=\"37.2388\" y=\"-13.8\" font-family=\"Times,serif\" font-size=\"14.00\" fill=\"#000000\">(...)</text>\n",
       "</g>\n",
       "<!-- 2&#45;&gt;3 -->\n",
       "<g id=\"edge3\" class=\"edge\">\n",
       "<title>2&#45;&gt;3</title>\n",
       "<path fill=\"none\" stroke=\"#000000\" d=\"M59.8337,-71.9768C56.2129,-63.327 52.3262,-54.0421 48.8149,-45.654\"/>\n",
       "<polygon fill=\"#000000\" stroke=\"#000000\" points=\"51.9937,-44.1837 44.9037,-36.3108 45.5366,-46.8867 51.9937,-44.1837\"/>\n",
       "</g>\n",
       "<!-- 6 -->\n",
       "<g id=\"node5\" class=\"node\">\n",
       "<title>6</title>\n",
       "<polygon fill=\"none\" stroke=\"#000000\" points=\"136.2388,-36 82.2388,-36 82.2388,0 136.2388,0 136.2388,-36\"/>\n",
       "<text text-anchor=\"middle\" x=\"109.2388\" y=\"-13.8\" font-family=\"Times,serif\" font-size=\"14.00\" fill=\"#000000\">(...)</text>\n",
       "</g>\n",
       "<!-- 2&#45;&gt;6 -->\n",
       "<g id=\"edge4\" class=\"edge\">\n",
       "<title>2&#45;&gt;6</title>\n",
       "<path fill=\"none\" stroke=\"#000000\" d=\"M86.6438,-71.9768C90.2647,-63.327 94.1514,-54.0421 97.6627,-45.654\"/>\n",
       "<polygon fill=\"#000000\" stroke=\"#000000\" points=\"100.9409,-46.8867 101.5738,-36.3108 94.4838,-44.1837 100.9409,-46.8867\"/>\n",
       "</g>\n",
       "<!-- 10 -->\n",
       "<g id=\"node7\" class=\"node\">\n",
       "<title>10</title>\n",
       "<polygon fill=\"none\" stroke=\"#000000\" points=\"283.2388,-36 229.2388,-36 229.2388,0 283.2388,0 283.2388,-36\"/>\n",
       "<text text-anchor=\"middle\" x=\"256.2388\" y=\"-13.8\" font-family=\"Times,serif\" font-size=\"14.00\" fill=\"#000000\">(...)</text>\n",
       "</g>\n",
       "<!-- 9&#45;&gt;10 -->\n",
       "<g id=\"edge6\" class=\"edge\">\n",
       "<title>9&#45;&gt;10</title>\n",
       "<path fill=\"none\" stroke=\"#000000\" d=\"M278.8337,-71.9768C275.2129,-63.327 271.3262,-54.0421 267.8149,-45.654\"/>\n",
       "<polygon fill=\"#000000\" stroke=\"#000000\" points=\"270.9937,-44.1837 263.9037,-36.3108 264.5366,-46.8867 270.9937,-44.1837\"/>\n",
       "</g>\n",
       "<!-- 13 -->\n",
       "<g id=\"node8\" class=\"node\">\n",
       "<title>13</title>\n",
       "<polygon fill=\"none\" stroke=\"#000000\" points=\"355.2388,-36 301.2388,-36 301.2388,0 355.2388,0 355.2388,-36\"/>\n",
       "<text text-anchor=\"middle\" x=\"328.2388\" y=\"-13.8\" font-family=\"Times,serif\" font-size=\"14.00\" fill=\"#000000\">(...)</text>\n",
       "</g>\n",
       "<!-- 9&#45;&gt;13 -->\n",
       "<g id=\"edge7\" class=\"edge\">\n",
       "<title>9&#45;&gt;13</title>\n",
       "<path fill=\"none\" stroke=\"#000000\" d=\"M305.6438,-71.9768C309.2647,-63.327 313.1514,-54.0421 316.6627,-45.654\"/>\n",
       "<polygon fill=\"#000000\" stroke=\"#000000\" points=\"319.9409,-46.8867 320.5738,-36.3108 313.4838,-44.1837 319.9409,-46.8867\"/>\n",
       "</g>\n",
       "</g>\n",
       "</svg>\n"
      ],
      "text/plain": [
       "<graphviz.files.Source at 0x1a2a70c128>"
      ]
     },
     "execution_count": 29,
     "metadata": {},
     "output_type": "execute_result"
    }
   ],
   "source": [
    "from sklearn import tree\n",
    "from IPython.display import SVG, display\n",
    "from graphviz import Source \n",
    "\n",
    "\n",
    "graph_1 = Source(tree.export_graphviz(dtr_1, out_file=None,\n",
    "                                feature_names=X.columns, max_depth = 2))\n",
    "\n",
    "graph_1"
   ]
  },
  {
   "cell_type": "markdown",
   "metadata": {},
   "source": [
    "And this is the second."
   ]
  },
  {
   "cell_type": "code",
   "execution_count": 30,
   "metadata": {},
   "outputs": [
    {
     "data": {
      "image/svg+xml": [
       "<?xml version=\"1.0\" encoding=\"UTF-8\" standalone=\"no\"?>\n",
       "<!DOCTYPE svg PUBLIC \"-//W3C//DTD SVG 1.1//EN\"\n",
       " \"http://www.w3.org/Graphics/SVG/1.1/DTD/svg11.dtd\">\n",
       "<!-- Generated by graphviz version 2.40.1 (20161225.0304)\n",
       " -->\n",
       "<!-- Title: Tree Pages: 1 -->\n",
       "<svg width=\"646pt\" height=\"344pt\"\n",
       " viewBox=\"0.00 0.00 645.60 344.00\" xmlns=\"http://www.w3.org/2000/svg\" xmlns:xlink=\"http://www.w3.org/1999/xlink\">\n",
       "<g id=\"graph0\" class=\"graph\" transform=\"scale(1 1) rotate(0) translate(4 340)\">\n",
       "<title>Tree</title>\n",
       "<polygon fill=\"#ffffff\" stroke=\"transparent\" points=\"-4,4 -4,-340 641.5952,-340 641.5952,4 -4,4\"/>\n",
       "<!-- 0 -->\n",
       "<g id=\"node1\" class=\"node\">\n",
       "<title>0</title>\n",
       "<polygon fill=\"none\" stroke=\"#000000\" points=\"477.1646,-336 248.313,-336 248.313,-272 477.1646,-272 477.1646,-336\"/>\n",
       "<text text-anchor=\"middle\" x=\"362.7388\" y=\"-320.8\" font-family=\"Times,serif\" font-size=\"14.00\" fill=\"#000000\">calculated_host_listings_count &lt;= 9.5</text>\n",
       "<text text-anchor=\"middle\" x=\"362.7388\" y=\"-306.8\" font-family=\"Times,serif\" font-size=\"14.00\" fill=\"#000000\">mse = 53348.923</text>\n",
       "<text text-anchor=\"middle\" x=\"362.7388\" y=\"-292.8\" font-family=\"Times,serif\" font-size=\"14.00\" fill=\"#000000\">samples = 13531</text>\n",
       "<text text-anchor=\"middle\" x=\"362.7388\" y=\"-278.8\" font-family=\"Times,serif\" font-size=\"14.00\" fill=\"#000000\">value = 68.357</text>\n",
       "</g>\n",
       "<!-- 1 -->\n",
       "<g id=\"node2\" class=\"node\">\n",
       "<title>1</title>\n",
       "<polygon fill=\"none\" stroke=\"#000000\" points=\"327.2171,-236 180.2604,-236 180.2604,-172 327.2171,-172 327.2171,-236\"/>\n",
       "<text text-anchor=\"middle\" x=\"253.7388\" y=\"-220.8\" font-family=\"Times,serif\" font-size=\"14.00\" fill=\"#000000\">accommodates &lt;= 13.0</text>\n",
       "<text text-anchor=\"middle\" x=\"253.7388\" y=\"-206.8\" font-family=\"Times,serif\" font-size=\"14.00\" fill=\"#000000\">mse = 14281.94</text>\n",
       "<text text-anchor=\"middle\" x=\"253.7388\" y=\"-192.8\" font-family=\"Times,serif\" font-size=\"14.00\" fill=\"#000000\">samples = 13164</text>\n",
       "<text text-anchor=\"middle\" x=\"253.7388\" y=\"-178.8\" font-family=\"Times,serif\" font-size=\"14.00\" fill=\"#000000\">value = 61.047</text>\n",
       "</g>\n",
       "<!-- 0&#45;&gt;1 -->\n",
       "<g id=\"edge1\" class=\"edge\">\n",
       "<title>0&#45;&gt;1</title>\n",
       "<path fill=\"none\" stroke=\"#000000\" d=\"M327.6505,-271.8089C317.6346,-262.62 306.6125,-252.508 296.2065,-242.9612\"/>\n",
       "<polygon fill=\"#000000\" stroke=\"#000000\" points=\"298.4962,-240.312 288.7613,-236.1308 293.7639,-245.4702 298.4962,-240.312\"/>\n",
       "<text text-anchor=\"middle\" x=\"289.8369\" y=\"-256.9076\" font-family=\"Times,serif\" font-size=\"14.00\" fill=\"#000000\">True</text>\n",
       "</g>\n",
       "<!-- 14 -->\n",
       "<g id=\"node9\" class=\"node\">\n",
       "<title>14</title>\n",
       "<polygon fill=\"none\" stroke=\"#000000\" points=\"599.7997,-236 345.6778,-236 345.6778,-172 599.7997,-172 599.7997,-236\"/>\n",
       "<text text-anchor=\"middle\" x=\"472.7388\" y=\"-220.8\" font-family=\"Times,serif\" font-size=\"14.00\" fill=\"#000000\">host_verifications_[&#39;email&#39;, &#39;phone&#39;] &lt;= 0.5</text>\n",
       "<text text-anchor=\"middle\" x=\"472.7388\" y=\"-206.8\" font-family=\"Times,serif\" font-size=\"14.00\" fill=\"#000000\">mse = 1383974.26</text>\n",
       "<text text-anchor=\"middle\" x=\"472.7388\" y=\"-192.8\" font-family=\"Times,serif\" font-size=\"14.00\" fill=\"#000000\">samples = 367</text>\n",
       "<text text-anchor=\"middle\" x=\"472.7388\" y=\"-178.8\" font-family=\"Times,serif\" font-size=\"14.00\" fill=\"#000000\">value = 330.578</text>\n",
       "</g>\n",
       "<!-- 0&#45;&gt;14 -->\n",
       "<g id=\"edge8\" class=\"edge\">\n",
       "<title>0&#45;&gt;14</title>\n",
       "<path fill=\"none\" stroke=\"#000000\" d=\"M398.149,-271.8089C408.2567,-262.62 419.3799,-252.508 429.8815,-242.9612\"/>\n",
       "<polygon fill=\"#000000\" stroke=\"#000000\" points=\"432.3499,-245.4473 437.3949,-236.1308 427.6411,-240.2677 432.3499,-245.4473\"/>\n",
       "<text text-anchor=\"middle\" x=\"436.2058\" y=\"-256.9025\" font-family=\"Times,serif\" font-size=\"14.00\" fill=\"#000000\">False</text>\n",
       "</g>\n",
       "<!-- 2 -->\n",
       "<g id=\"node3\" class=\"node\">\n",
       "<title>2</title>\n",
       "<polygon fill=\"none\" stroke=\"#000000\" points=\"139.7171,-136 -.2396,-136 -.2396,-72 139.7171,-72 139.7171,-136\"/>\n",
       "<text text-anchor=\"middle\" x=\"69.7388\" y=\"-120.8\" font-family=\"Times,serif\" font-size=\"14.00\" fill=\"#000000\">accommodates &lt;= 4.5</text>\n",
       "<text text-anchor=\"middle\" x=\"69.7388\" y=\"-106.8\" font-family=\"Times,serif\" font-size=\"14.00\" fill=\"#000000\">mse = 8561.753</text>\n",
       "<text text-anchor=\"middle\" x=\"69.7388\" y=\"-92.8\" font-family=\"Times,serif\" font-size=\"14.00\" fill=\"#000000\">samples = 13142</text>\n",
       "<text text-anchor=\"middle\" x=\"69.7388\" y=\"-78.8\" font-family=\"Times,serif\" font-size=\"14.00\" fill=\"#000000\">value = 59.703</text>\n",
       "</g>\n",
       "<!-- 1&#45;&gt;2 -->\n",
       "<g id=\"edge2\" class=\"edge\">\n",
       "<title>1&#45;&gt;2</title>\n",
       "<path fill=\"none\" stroke=\"#000000\" d=\"M194.7608,-171.9467C176.5212,-162.0339 156.2849,-151.0359 137.5003,-140.8269\"/>\n",
       "<polygon fill=\"#000000\" stroke=\"#000000\" points=\"139.156,-137.7433 128.6984,-136.0433 135.8134,-143.8937 139.156,-137.7433\"/>\n",
       "</g>\n",
       "<!-- 9 -->\n",
       "<g id=\"node6\" class=\"node\">\n",
       "<title>9</title>\n",
       "<polygon fill=\"none\" stroke=\"#000000\" points=\"369.9303,-136 157.5473,-136 157.5473,-72 369.9303,-72 369.9303,-136\"/>\n",
       "<text text-anchor=\"middle\" x=\"263.7388\" y=\"-120.8\" font-family=\"Times,serif\" font-size=\"14.00\" fill=\"#000000\">first_reviewDayofweek_4.0 &lt;= 0.5</text>\n",
       "<text text-anchor=\"middle\" x=\"263.7388\" y=\"-106.8\" font-family=\"Times,serif\" font-size=\"14.00\" fill=\"#000000\">mse = 2785500.909</text>\n",
       "<text text-anchor=\"middle\" x=\"263.7388\" y=\"-92.8\" font-family=\"Times,serif\" font-size=\"14.00\" fill=\"#000000\">samples = 22</text>\n",
       "<text text-anchor=\"middle\" x=\"263.7388\" y=\"-78.8\" font-family=\"Times,serif\" font-size=\"14.00\" fill=\"#000000\">value = 864.0</text>\n",
       "</g>\n",
       "<!-- 1&#45;&gt;9 -->\n",
       "<g id=\"edge5\" class=\"edge\">\n",
       "<title>1&#45;&gt;9</title>\n",
       "<path fill=\"none\" stroke=\"#000000\" d=\"M256.9579,-171.8089C257.7697,-163.6906 258.6536,-154.8517 259.5069,-146.3186\"/>\n",
       "<polygon fill=\"#000000\" stroke=\"#000000\" points=\"263.0132,-146.4294 260.5257,-136.1308 256.0479,-145.7328 263.0132,-146.4294\"/>\n",
       "</g>\n",
       "<!-- 3 -->\n",
       "<g id=\"node4\" class=\"node\">\n",
       "<title>3</title>\n",
       "<polygon fill=\"none\" stroke=\"#000000\" points=\"60.7388,-36 6.7388,-36 6.7388,0 60.7388,0 60.7388,-36\"/>\n",
       "<text text-anchor=\"middle\" x=\"33.7388\" y=\"-13.8\" font-family=\"Times,serif\" font-size=\"14.00\" fill=\"#000000\">(...)</text>\n",
       "</g>\n",
       "<!-- 2&#45;&gt;3 -->\n",
       "<g id=\"edge3\" class=\"edge\">\n",
       "<title>2&#45;&gt;3</title>\n",
       "<path fill=\"none\" stroke=\"#000000\" d=\"M56.3337,-71.9768C52.7129,-63.327 48.8262,-54.0421 45.3149,-45.654\"/>\n",
       "<polygon fill=\"#000000\" stroke=\"#000000\" points=\"48.4937,-44.1837 41.4037,-36.3108 42.0366,-46.8867 48.4937,-44.1837\"/>\n",
       "</g>\n",
       "<!-- 6 -->\n",
       "<g id=\"node5\" class=\"node\">\n",
       "<title>6</title>\n",
       "<polygon fill=\"none\" stroke=\"#000000\" points=\"132.7388,-36 78.7388,-36 78.7388,0 132.7388,0 132.7388,-36\"/>\n",
       "<text text-anchor=\"middle\" x=\"105.7388\" y=\"-13.8\" font-family=\"Times,serif\" font-size=\"14.00\" fill=\"#000000\">(...)</text>\n",
       "</g>\n",
       "<!-- 2&#45;&gt;6 -->\n",
       "<g id=\"edge4\" class=\"edge\">\n",
       "<title>2&#45;&gt;6</title>\n",
       "<path fill=\"none\" stroke=\"#000000\" d=\"M83.1438,-71.9768C86.7647,-63.327 90.6514,-54.0421 94.1627,-45.654\"/>\n",
       "<polygon fill=\"#000000\" stroke=\"#000000\" points=\"97.4409,-46.8867 98.0738,-36.3108 90.9838,-44.1837 97.4409,-46.8867\"/>\n",
       "</g>\n",
       "<!-- 10 -->\n",
       "<g id=\"node7\" class=\"node\">\n",
       "<title>10</title>\n",
       "<polygon fill=\"none\" stroke=\"#000000\" points=\"273.7388,-36 219.7388,-36 219.7388,0 273.7388,0 273.7388,-36\"/>\n",
       "<text text-anchor=\"middle\" x=\"246.7388\" y=\"-13.8\" font-family=\"Times,serif\" font-size=\"14.00\" fill=\"#000000\">(...)</text>\n",
       "</g>\n",
       "<!-- 9&#45;&gt;10 -->\n",
       "<g id=\"edge6\" class=\"edge\">\n",
       "<title>9&#45;&gt;10</title>\n",
       "<path fill=\"none\" stroke=\"#000000\" d=\"M257.4086,-71.9768C255.7359,-63.515 253.9431,-54.4455 252.3136,-46.2023\"/>\n",
       "<polygon fill=\"#000000\" stroke=\"#000000\" points=\"255.7312,-45.4422 250.3583,-36.3108 248.8641,-46.7997 255.7312,-45.4422\"/>\n",
       "</g>\n",
       "<!-- 13 -->\n",
       "<g id=\"node8\" class=\"node\">\n",
       "<title>13</title>\n",
       "<polygon fill=\"none\" stroke=\"#000000\" points=\"345.7388,-36 291.7388,-36 291.7388,0 345.7388,0 345.7388,-36\"/>\n",
       "<text text-anchor=\"middle\" x=\"318.7388\" y=\"-13.8\" font-family=\"Times,serif\" font-size=\"14.00\" fill=\"#000000\">(...)</text>\n",
       "</g>\n",
       "<!-- 9&#45;&gt;13 -->\n",
       "<g id=\"edge7\" class=\"edge\">\n",
       "<title>9&#45;&gt;13</title>\n",
       "<path fill=\"none\" stroke=\"#000000\" d=\"M284.2187,-71.9768C289.931,-63.0449 296.0763,-53.4359 301.576,-44.8363\"/>\n",
       "<polygon fill=\"#000000\" stroke=\"#000000\" points=\"304.5892,-46.621 307.0284,-36.3108 298.692,-42.8495 304.5892,-46.621\"/>\n",
       "</g>\n",
       "<!-- 15 -->\n",
       "<g id=\"node10\" class=\"node\">\n",
       "<title>15</title>\n",
       "<polygon fill=\"none\" stroke=\"#000000\" points=\"520.186,-136 407.2915,-136 407.2915,-72 520.186,-72 520.186,-136\"/>\n",
       "<text text-anchor=\"middle\" x=\"463.7388\" y=\"-120.8\" font-family=\"Times,serif\" font-size=\"14.00\" fill=\"#000000\">bedrooms &lt;= 2.5</text>\n",
       "<text text-anchor=\"middle\" x=\"463.7388\" y=\"-106.8\" font-family=\"Times,serif\" font-size=\"14.00\" fill=\"#000000\">mse = 14880.034</text>\n",
       "<text text-anchor=\"middle\" x=\"463.7388\" y=\"-92.8\" font-family=\"Times,serif\" font-size=\"14.00\" fill=\"#000000\">samples = 352</text>\n",
       "<text text-anchor=\"middle\" x=\"463.7388\" y=\"-78.8\" font-family=\"Times,serif\" font-size=\"14.00\" fill=\"#000000\">value = 88.983</text>\n",
       "</g>\n",
       "<!-- 14&#45;&gt;15 -->\n",
       "<g id=\"edge9\" class=\"edge\">\n",
       "<title>14&#45;&gt;15</title>\n",
       "<path fill=\"none\" stroke=\"#000000\" d=\"M469.8416,-171.8089C469.1109,-163.6906 468.3154,-154.8517 467.5474,-146.3186\"/>\n",
       "<polygon fill=\"#000000\" stroke=\"#000000\" points=\"471.0129,-145.7767 466.6305,-136.1308 464.0411,-146.4043 471.0129,-145.7767\"/>\n",
       "</g>\n",
       "<!-- 22 -->\n",
       "<g id=\"node13\" class=\"node\">\n",
       "<title>22</title>\n",
       "<polygon fill=\"none\" stroke=\"#000000\" points=\"637.4521,-129 538.0255,-129 538.0255,-79 637.4521,-79 637.4521,-129\"/>\n",
       "<text text-anchor=\"middle\" x=\"587.7388\" y=\"-113.8\" font-family=\"Times,serif\" font-size=\"14.00\" fill=\"#000000\">mse = 0.0</text>\n",
       "<text text-anchor=\"middle\" x=\"587.7388\" y=\"-99.8\" font-family=\"Times,serif\" font-size=\"14.00\" fill=\"#000000\">samples = 15</text>\n",
       "<text text-anchor=\"middle\" x=\"587.7388\" y=\"-85.8\" font-family=\"Times,serif\" font-size=\"14.00\" fill=\"#000000\">value = 6000.0</text>\n",
       "</g>\n",
       "<!-- 14&#45;&gt;22 -->\n",
       "<g id=\"edge12\" class=\"edge\">\n",
       "<title>14&#45;&gt;22</title>\n",
       "<path fill=\"none\" stroke=\"#000000\" d=\"M509.7585,-171.8089C523.0414,-160.2586 538.0016,-147.2497 551.24,-135.7381\"/>\n",
       "<polygon fill=\"#000000\" stroke=\"#000000\" points=\"553.5605,-138.3585 558.8099,-129.1555 548.9672,-133.0762 553.5605,-138.3585\"/>\n",
       "</g>\n",
       "<!-- 16 -->\n",
       "<g id=\"node11\" class=\"node\">\n",
       "<title>16</title>\n",
       "<polygon fill=\"none\" stroke=\"#000000\" points=\"435.7388,-36 381.7388,-36 381.7388,0 435.7388,0 435.7388,-36\"/>\n",
       "<text text-anchor=\"middle\" x=\"408.7388\" y=\"-13.8\" font-family=\"Times,serif\" font-size=\"14.00\" fill=\"#000000\">(...)</text>\n",
       "</g>\n",
       "<!-- 15&#45;&gt;16 -->\n",
       "<g id=\"edge10\" class=\"edge\">\n",
       "<title>15&#45;&gt;16</title>\n",
       "<path fill=\"none\" stroke=\"#000000\" d=\"M443.2588,-71.9768C437.5466,-63.0449 431.4013,-53.4359 425.9015,-44.8363\"/>\n",
       "<polygon fill=\"#000000\" stroke=\"#000000\" points=\"428.7855,-42.8495 420.4491,-36.3108 422.8884,-46.621 428.7855,-42.8495\"/>\n",
       "</g>\n",
       "<!-- 19 -->\n",
       "<g id=\"node12\" class=\"node\">\n",
       "<title>19</title>\n",
       "<polygon fill=\"none\" stroke=\"#000000\" points=\"507.7388,-36 453.7388,-36 453.7388,0 507.7388,0 507.7388,-36\"/>\n",
       "<text text-anchor=\"middle\" x=\"480.7388\" y=\"-13.8\" font-family=\"Times,serif\" font-size=\"14.00\" fill=\"#000000\">(...)</text>\n",
       "</g>\n",
       "<!-- 15&#45;&gt;19 -->\n",
       "<g id=\"edge11\" class=\"edge\">\n",
       "<title>15&#45;&gt;19</title>\n",
       "<path fill=\"none\" stroke=\"#000000\" d=\"M470.0689,-71.9768C471.7416,-63.515 473.5344,-54.4455 475.1639,-46.2023\"/>\n",
       "<polygon fill=\"#000000\" stroke=\"#000000\" points=\"478.6135,-46.7997 477.1192,-36.3108 471.7463,-45.4422 478.6135,-46.7997\"/>\n",
       "</g>\n",
       "</g>\n",
       "</svg>\n"
      ],
      "text/plain": [
       "<graphviz.files.Source at 0x10f2e94e0>"
      ]
     },
     "execution_count": 30,
     "metadata": {},
     "output_type": "execute_result"
    }
   ],
   "source": [
    "graph_2 = Source(tree.export_graphviz(dtr_2, out_file=None,\n",
    "                                feature_names=X.columns, max_depth = 2))\n",
    "\n",
    "graph_2"
   ]
  },
  {
   "cell_type": "markdown",
   "metadata": {},
   "source": [
    "So while there is some overlap between the attributes selected, half of the attributes in the second tree are new.  So even early on in the tree, we see that variations in the splits near the top layers.  And variations of our tree in the top layers will impact later splits of the data and thus lead to more variation later on. \n",
    "\n",
    "And of course, this leads to differences in predictions."
   ]
  },
  {
   "cell_type": "markdown",
   "metadata": {},
   "source": [
    "### Viewing the different predictions"
   ]
  },
  {
   "cell_type": "markdown",
   "metadata": {},
   "source": [
    "Let's take a look at the different predictions of our two trees."
   ]
  },
  {
   "cell_type": "markdown",
   "metadata": {},
   "source": [
    "> Below we select ten datapoints that are not in training sets of either tree."
   ]
  },
  {
   "cell_type": "code",
   "execution_count": 20,
   "metadata": {},
   "outputs": [],
   "source": [
    "import numpy as np\n",
    "ten_in_both_tests = np.array([221,  7922, 17116, 11118,  2497,  4199,  8692,  5348, 14548, 1455])\n",
    "ten_X = X.iloc[ten_in_both_tests, :]\n",
    "ten_y = y[ten_in_both_tests]"
   ]
  },
  {
   "cell_type": "markdown",
   "metadata": {},
   "source": [
    "> Now let's find the predictions of the two trees."
   ]
  },
  {
   "cell_type": "code",
   "execution_count": 31,
   "metadata": {},
   "outputs": [
    {
     "data": {
      "text/html": [
       "<div>\n",
       "<style scoped>\n",
       "    .dataframe tbody tr th:only-of-type {\n",
       "        vertical-align: middle;\n",
       "    }\n",
       "\n",
       "    .dataframe tbody tr th {\n",
       "        vertical-align: top;\n",
       "    }\n",
       "\n",
       "    .dataframe thead th {\n",
       "        text-align: right;\n",
       "    }\n",
       "</style>\n",
       "<table border=\"1\" class=\"dataframe\">\n",
       "  <thead>\n",
       "    <tr style=\"text-align: right;\">\n",
       "      <th></th>\n",
       "      <th>dtr_1_predictions</th>\n",
       "      <th>dtr_2_predictions</th>\n",
       "      <th>ten_y</th>\n",
       "    </tr>\n",
       "  </thead>\n",
       "  <tbody>\n",
       "    <tr>\n",
       "      <th>0</th>\n",
       "      <td>51.46048</td>\n",
       "      <td>69.814031</td>\n",
       "      <td>63.0</td>\n",
       "    </tr>\n",
       "    <tr>\n",
       "      <th>1</th>\n",
       "      <td>51.46048</td>\n",
       "      <td>40.752675</td>\n",
       "      <td>20.0</td>\n",
       "    </tr>\n",
       "    <tr>\n",
       "      <th>2</th>\n",
       "      <td>51.46048</td>\n",
       "      <td>69.814031</td>\n",
       "      <td>45.0</td>\n",
       "    </tr>\n",
       "    <tr>\n",
       "      <th>3</th>\n",
       "      <td>51.46048</td>\n",
       "      <td>69.814031</td>\n",
       "      <td>40.0</td>\n",
       "    </tr>\n",
       "    <tr>\n",
       "      <th>4</th>\n",
       "      <td>51.46048</td>\n",
       "      <td>40.752675</td>\n",
       "      <td>22.0</td>\n",
       "    </tr>\n",
       "    <tr>\n",
       "      <th>5</th>\n",
       "      <td>106.64289</td>\n",
       "      <td>126.464427</td>\n",
       "      <td>95.0</td>\n",
       "    </tr>\n",
       "    <tr>\n",
       "      <th>6</th>\n",
       "      <td>51.46048</td>\n",
       "      <td>40.752675</td>\n",
       "      <td>43.0</td>\n",
       "    </tr>\n",
       "    <tr>\n",
       "      <th>7</th>\n",
       "      <td>51.46048</td>\n",
       "      <td>40.752675</td>\n",
       "      <td>25.0</td>\n",
       "    </tr>\n",
       "    <tr>\n",
       "      <th>8</th>\n",
       "      <td>51.46048</td>\n",
       "      <td>69.814031</td>\n",
       "      <td>42.0</td>\n",
       "    </tr>\n",
       "    <tr>\n",
       "      <th>9</th>\n",
       "      <td>51.46048</td>\n",
       "      <td>69.814031</td>\n",
       "      <td>100.0</td>\n",
       "    </tr>\n",
       "  </tbody>\n",
       "</table>\n",
       "</div>"
      ],
      "text/plain": [
       "   dtr_1_predictions  dtr_2_predictions  ten_y\n",
       "0           51.46048          69.814031   63.0\n",
       "1           51.46048          40.752675   20.0\n",
       "2           51.46048          69.814031   45.0\n",
       "3           51.46048          69.814031   40.0\n",
       "4           51.46048          40.752675   22.0\n",
       "5          106.64289         126.464427   95.0\n",
       "6           51.46048          40.752675   43.0\n",
       "7           51.46048          40.752675   25.0\n",
       "8           51.46048          69.814031   42.0\n",
       "9           51.46048          69.814031  100.0"
      ]
     },
     "execution_count": 31,
     "metadata": {},
     "output_type": "execute_result"
    }
   ],
   "source": [
    "dtr_1_predictions = dtr_1.predict(ten_X)\n",
    "dtr_2_predictions = dtr_2.predict(ten_X)\n",
    "df_predictions = pd.DataFrame({'dtr_1_predictions': dtr_1_predictions, \n",
    "                               'dtr_2_predictions': dtr_2_predictions, 'ten_y': ten_y.to_numpy()})\n",
    "df_predictions"
   ]
  },
  {
   "cell_type": "markdown",
   "metadata": {},
   "source": [
    "### Recognize the Variance"
   ]
  },
  {
   "cell_type": "markdown",
   "metadata": {},
   "source": [
    "Let's take a second to appreciate the variance in the predictions and the trees above.  First, note that our trees are both relatively simple, yet they both look different, and as we can see, make different predictions.  And unlike in our previous lesson, this isn't due to each leaf fitting to a small number of samples in the leaves.  Rather we see variance in our first splits. \n",
    "\n",
    "\n",
    "Decision trees are highly variant because they have very few assumptions about the data -- unlike say a linear model which assumes that the data fits some form of a line.  With a decision trees, we are working with a very flexible model and this gives us a wide degree of variation.\n",
    "\n",
    "In addition, a particular split at the top, will divide the data differently, and thus will affect the splits in subsequent layers.  These differences in splits lead to different predictions.  So the point is with decision trees we can get variation not only at the leaves of the tree, but also near the roots.  And early stopping won't correct for all of these sources of variance."
   ]
  },
  {
   "cell_type": "markdown",
   "metadata": {},
   "source": [
    "However, there are other ways to correct for variance.  Remember that with error due to variance, we expect each individual predictor to be incorrect yet the average of these predictions to approach the true target.  So if we were to fit many decision trees, and use the average of these predictions as our prediction of the target, this should reduce our error from variance.  This is a random forest. "
   ]
  },
  {
   "cell_type": "markdown",
   "metadata": {},
   "source": [
    "The idea is to use a highly flexible model that responds and fits to the data, yet has minimum variance by aggregating multiple instances of the model.  In the next lesson, we'll begin exploring the random forest, and better understand how it works."
   ]
  },
  {
   "cell_type": "markdown",
   "metadata": {},
   "source": [
    "### Summary"
   ]
  },
  {
   "cell_type": "markdown",
   "metadata": {},
   "source": [
    "In this lesson, we saw how decision trees not only have variance due to a small number of samples in the leaves, but can also vary near the root nodes.  This variance towards the top of the tree effects the splits that are made subsequently.  Early stopping won't correct for this type of variance, as it reduces variance near the leaves of the tree.  But a random forest can.  The idea of a random forest is that while each individual tree suffers from variance, we expect the average of the predictions of the trees to approach the observed target.  "
   ]
  }
 ],
 "metadata": {
  "kernelspec": {
   "display_name": "Python 3",
   "language": "python",
   "name": "python3"
  },
  "language_info": {
   "codemirror_mode": {
    "name": "ipython",
    "version": 3
   },
   "file_extension": ".py",
   "mimetype": "text/x-python",
   "name": "python",
   "nbconvert_exporter": "python",
   "pygments_lexer": "ipython3",
   "version": "3.7.3"
  }
 },
 "nbformat": 4,
 "nbformat_minor": 2
}
