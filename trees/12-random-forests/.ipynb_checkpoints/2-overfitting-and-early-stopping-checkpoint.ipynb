{
 "cells": [
  {
   "cell_type": "markdown",
   "metadata": {},
   "source": [
    "# Overfitting and Early Stopping"
   ]
  },
  {
   "cell_type": "markdown",
   "metadata": {},
   "source": [
    "## Introduction"
   ]
  },
  {
   "cell_type": "markdown",
   "metadata": {},
   "source": [
    "In previous lessons, we have seen that decision trees choose features that split our data into different groups of target variables.  For example, when we look at the decision tree for customer leads, our tree perfectly segments our dataset between customers and non-customers."
   ]
  },
  {
   "cell_type": "markdown",
   "metadata": {},
   "source": [
    "![](DTreeViz_customers.svg)"
   ]
  },
  {
   "cell_type": "markdown",
   "metadata": {},
   "source": [
    "## Working with the diabetes dataset"
   ]
  },
  {
   "cell_type": "markdown",
   "metadata": {},
   "source": [
    "For this lesson, let's work with the diabetes dataset provided with sklearn."
   ]
  },
  {
   "cell_type": "code",
   "execution_count": 13,
   "metadata": {},
   "outputs": [],
   "source": [
    "from sklearn.datasets import load_diabetes\n",
    "from sklearn.model_selection import train_test_split\n",
    "dataset = load_diabetes()\n",
    "X = dataset['data']\n",
    "y = dataset['target']\n",
    "\n",
    "X_train, X_test, y_train, y_test = train_test_split(\n",
    "     X, y, test_size=0.33, random_state=42)\n",
    "\n",
    "X_train, X_val, y_train, y_val = train_test_split(\n",
    "     X, y, test_size=0.33, random_state=42)"
   ]
  },
  {
   "cell_type": "markdown",
   "metadata": {},
   "source": [
    "So we have ten features and close to 300 observations."
   ]
  },
  {
   "cell_type": "markdown",
   "metadata": {},
   "source": [
    "## Training our decision tree"
   ]
  },
  {
   "cell_type": "code",
   "execution_count": null,
   "metadata": {},
   "outputs": [],
   "source": []
  },
  {
   "cell_type": "code",
   "execution_count": null,
   "metadata": {},
   "outputs": [],
   "source": []
  },
  {
   "cell_type": "markdown",
   "metadata": {},
   "source": [
    "Look at the score above, our first perfectly fit model.  Of course, what really matters is how well our decision tree performs on data it has not yet seen."
   ]
  },
  {
   "cell_type": "code",
   "execution_count": null,
   "metadata": {},
   "outputs": [],
   "source": []
  },
  {
   "cell_type": "markdown",
   "metadata": {},
   "source": [
    "![](./d-tree.png)"
   ]
  },
  {
   "cell_type": "markdown",
   "metadata": {},
   "source": [
    "### Correcting for Overfitting"
   ]
  },
  {
   "cell_type": "markdown",
   "metadata": {},
   "source": [
    "### Setting parameters in SKLearn"
   ]
  },
  {
   "cell_type": "markdown",
   "metadata": {},
   "source": [
    "The technique we learned above is called *early stopping*.  We can accomplish early stopping in `sklearn` by initializing our tree with either a `max_depth` parameter or a `min_samples_leaf` parameter."
   ]
  },
  {
   "cell_type": "code",
   "execution_count": 5,
   "metadata": {},
   "outputs": [],
   "source": [
    "# DecisionTreeRegressor(min_samples_leaf=1, max_depth=1)"
   ]
  },
  {
   "cell_type": "code",
   "execution_count": null,
   "metadata": {},
   "outputs": [],
   "source": []
  },
  {
   "cell_type": "code",
   "execution_count": 18,
   "metadata": {},
   "outputs": [],
   "source": []
  },
  {
   "cell_type": "code",
   "execution_count": 20,
   "metadata": {},
   "outputs": [
    {
     "data": {
      "application/vnd.plotly.v1+json": {
       "config": {
        "linkText": "Export to plot.ly",
        "plotlyServerURL": "https://plot.ly",
        "showLink": false
       },
       "data": [
        {
         "mode": "markers",
         "name": "data",
         "text": [],
         "type": "scatter",
         "uid": "8f2659f3-c1ac-42f9-a1e1-be98e5953d5f",
         "x": [
          1,
          2,
          3,
          4,
          5,
          6,
          7,
          8,
          9,
          10,
          11,
          12,
          13,
          14,
          15,
          16,
          17,
          18,
          19,
          20,
          21,
          22,
          23,
          24,
          25,
          26,
          27,
          28,
          29,
          30,
          31,
          32,
          33,
          34,
          35,
          36,
          37,
          38,
          39,
          40,
          41,
          42,
          43,
          44,
          45,
          46,
          47,
          48,
          49,
          50,
          51,
          52,
          53,
          54,
          55,
          56,
          57,
          58,
          59,
          60,
          61,
          62,
          63,
          64,
          65,
          66,
          67,
          68,
          69,
          70,
          71,
          72,
          73,
          74,
          75,
          76,
          77,
          78,
          79,
          80,
          81,
          82,
          83,
          84,
          85,
          86,
          87,
          88,
          89,
          90,
          91,
          92,
          93,
          94,
          95,
          96,
          97,
          98,
          99
         ],
         "y": [
          -0.20363391912168916,
          -0.00854373543309106,
          0.00864988294938307,
          0.05119052430060955,
          0.06621777863285383,
          0.1441146889778182,
          0.18719143325693754,
          0.2178785281121265,
          0.21445342821803415,
          0.26031845812536536,
          0.2704153708377188,
          0.2856706230706346,
          0.2889940109234653,
          0.2692838252546985,
          0.2958721048947832,
          0.2958721048947832,
          0.2972172697644383,
          0.2972172697644383,
          0.2956144809404726,
          0.31328340842141444,
          0.32648873388932476,
          0.3425433874821677,
          0.4599217913355835,
          0.46053864774606557,
          0.4068802443937598,
          0.4172847697584723,
          0.440521820801447,
          0.440521820801447,
          0.440521820801447,
          0.41170135804029634,
          0.4118440118371316,
          0.4148492072953931,
          0.4148492072953931,
          0.4148492072953931,
          0.4148492072953931,
          0.39078210578570693,
          0.39367916310530926,
          0.40033843557864335,
          0.40033843557864335,
          0.40033843557864335,
          0.40033843557864335,
          0.3994958610347171,
          0.3994958610347171,
          0.4158669828228674,
          0.4158669828228674,
          0.4158669828228674,
          0.4158669828228674,
          0.4158669828228674,
          0.4158669828228674,
          0.40617202678739256,
          0.4030100256488951,
          0.4030100256488951,
          0.4030100256488951,
          0.40623968398155685,
          0.40084474345416543,
          0.40084474345416543,
          0.40084474345416543,
          0.40084474345416543,
          0.39823474439860906,
          0.39823474439860906,
          0.39823474439860906,
          0.39823474439860906,
          0.39823474439860906,
          0.39823474439860906,
          0.39823474439860906,
          0.39823474439860906,
          0.39823474439860906,
          0.39823474439860906,
          0.39823474439860906,
          0.39823474439860906,
          0.39823474439860906,
          0.39858973271783027,
          0.39800567460886804,
          0.39800567460886804,
          0.39800567460886804,
          0.39800567460886804,
          0.39800567460886804,
          0.39800567460886804,
          0.39800567460886804,
          0.38842757480333645,
          0.38842757480333645,
          0.38842757480333645,
          0.38842757480333645,
          0.38842757480333645,
          0.3627566871930279,
          0.3627566871930279,
          0.3627566871930279,
          0.3627566871930279,
          0.3710987644435409,
          0.3710987644435409,
          0.3710987644435409,
          0.3710987644435409,
          0.2394411661268161,
          0.24665243974622098,
          0.24665243974622098,
          0.24665243974622098,
          0.24665243974622098,
          0.24665243974622098,
          0.24665243974622098
         ]
        }
       ],
       "layout": {
        "autosize": true,
        "xaxis": {
         "autorange": true,
         "range": [
          -5.083763895412556,
          105.08376389541256
         ],
         "type": "linear"
        },
        "yaxis": {
         "autorange": true,
         "range": [
          -0.2522835020451234,
          0.5091882306694998
         ],
         "type": "linear"
        }
       }
      },
      "image/png": "[encoded data removed]",
      "text/html": [
       "<div>\n",
       "        \n",
       "        \n",
       "            <div id=\"ca9721ff-fbf8-4eba-a574-7e109b52f2c5\" class=\"plotly-graph-div\" style=\"height:525px; width:100%;\"></div>\n",
       "            <script type=\"text/javascript\">\n",
       "                require([\"plotly\"], function(Plotly) {\n",
       "                    window.PLOTLYENV=window.PLOTLYENV || {};\n",
       "                    window.PLOTLYENV.BASE_URL='https://plot.ly';\n",
       "                    \n",
       "                if (document.getElementById(\"ca9721ff-fbf8-4eba-a574-7e109b52f2c5\")) {\n",
       "                    Plotly.newPlot(\n",
       "                        'ca9721ff-fbf8-4eba-a574-7e109b52f2c5',\n",
       "                        [{\"mode\": \"markers\", \"name\": \"data\", \"text\": [], \"type\": \"scatter\", \"uid\": \"8f2659f3-c1ac-42f9-a1e1-be98e5953d5f\", \"x\": [1.0, 2.0, 3.0, 4.0, 5.0, 6.0, 7.0, 8.0, 9.0, 10.0, 11.0, 12.0, 13.0, 14.0, 15.0, 16.0, 17.0, 18.0, 19.0, 20.0, 21.0, 22.0, 23.0, 24.0, 25.0, 26.0, 27.0, 28.0, 29.0, 30.0, 31.0, 32.0, 33.0, 34.0, 35.0, 36.0, 37.0, 38.0, 39.0, 40.0, 41.0, 42.0, 43.0, 44.0, 45.0, 46.0, 47.0, 48.0, 49.0, 50.0, 51.0, 52.0, 53.0, 54.0, 55.0, 56.0, 57.0, 58.0, 59.0, 60.0, 61.0, 62.0, 63.0, 64.0, 65.0, 66.0, 67.0, 68.0, 69.0, 70.0, 71.0, 72.0, 73.0, 74.0, 75.0, 76.0, 77.0, 78.0, 79.0, 80.0, 81.0, 82.0, 83.0, 84.0, 85.0, 86.0, 87.0, 88.0, 89.0, 90.0, 91.0, 92.0, 93.0, 94.0, 95.0, 96.0, 97.0, 98.0, 99.0], \"y\": [-0.20363391912168916, -0.00854373543309106, 0.00864988294938307, 0.05119052430060955, 0.06621777863285383, 0.1441146889778182, 0.18719143325693754, 0.2178785281121265, 0.21445342821803415, 0.26031845812536536, 0.2704153708377188, 0.2856706230706346, 0.2889940109234653, 0.2692838252546985, 0.2958721048947832, 0.2958721048947832, 0.2972172697644383, 0.2972172697644383, 0.2956144809404726, 0.31328340842141444, 0.32648873388932476, 0.3425433874821677, 0.4599217913355835, 0.46053864774606557, 0.4068802443937598, 0.4172847697584723, 0.440521820801447, 0.440521820801447, 0.440521820801447, 0.41170135804029634, 0.4118440118371316, 0.4148492072953931, 0.4148492072953931, 0.4148492072953931, 0.4148492072953931, 0.39078210578570693, 0.39367916310530926, 0.40033843557864335, 0.40033843557864335, 0.40033843557864335, 0.40033843557864335, 0.3994958610347171, 0.3994958610347171, 0.4158669828228674, 0.4158669828228674, 0.4158669828228674, 0.4158669828228674, 0.4158669828228674, 0.4158669828228674, 0.40617202678739256, 0.4030100256488951, 0.4030100256488951, 0.4030100256488951, 0.40623968398155685, 0.40084474345416543, 0.40084474345416543, 0.40084474345416543, 0.40084474345416543, 0.39823474439860906, 0.39823474439860906, 0.39823474439860906, 0.39823474439860906, 0.39823474439860906, 0.39823474439860906, 0.39823474439860906, 0.39823474439860906, 0.39823474439860906, 0.39823474439860906, 0.39823474439860906, 0.39823474439860906, 0.39823474439860906, 0.39858973271783027, 0.39800567460886804, 0.39800567460886804, 0.39800567460886804, 0.39800567460886804, 0.39800567460886804, 0.39800567460886804, 0.39800567460886804, 0.38842757480333645, 0.38842757480333645, 0.38842757480333645, 0.38842757480333645, 0.38842757480333645, 0.3627566871930279, 0.3627566871930279, 0.3627566871930279, 0.3627566871930279, 0.3710987644435409, 0.3710987644435409, 0.3710987644435409, 0.3710987644435409, 0.2394411661268161, 0.24665243974622098, 0.24665243974622098, 0.24665243974622098, 0.24665243974622098, 0.24665243974622098, 0.24665243974622098]}],\n",
       "                        {},\n",
       "                        {\"showLink\": false, \"linkText\": \"Export to plot.ly\", \"plotlyServerURL\": \"https://plot.ly\", \"responsive\": true}\n",
       "                    ).then(function(){\n",
       "                            \n",
       "var gd = document.getElementById('ca9721ff-fbf8-4eba-a574-7e109b52f2c5');\n",
       "var x = new MutationObserver(function (mutations, observer) {{\n",
       "        var display = window.getComputedStyle(gd).display;\n",
       "        if (!display || display === 'none') {{\n",
       "            console.log([gd, 'removed!']);\n",
       "            Plotly.purge(gd);\n",
       "            observer.disconnect();\n",
       "        }}\n",
       "}});\n",
       "\n",
       "// Listen for the removal of the full notebook cells\n",
       "var notebookContainer = gd.closest('#notebook-container');\n",
       "if (notebookContainer) {{\n",
       "    x.observe(notebookContainer, {childList: true});\n",
       "}}\n",
       "\n",
       "// Listen for the clearing of the current output cell\n",
       "var outputEl = gd.closest('.output');\n",
       "if (outputEl) {{\n",
       "    x.observe(outputEl, {childList: true});\n",
       "}}\n",
       "\n",
       "                        })\n",
       "                };\n",
       "                });\n",
       "            </script>\n",
       "        </div>"
      ]
     },
     "metadata": {},
     "output_type": "display_data"
    }
   ],
   "source": [
    "from graph import trace_values, plot\n",
    "trace = trace_values(num_sample_scores[:, 0], num_sample_scores[:, 1])\n",
    "plot([trace])"
   ]
  },
  {
   "cell_type": "code",
   "execution_count": 22,
   "metadata": {},
   "outputs": [
    {
     "data": {
      "text/plain": [
       "0.4068802443937598"
      ]
     },
     "execution_count": 22,
     "metadata": {},
     "output_type": "execute_result"
    }
   ],
   "source": [
    "dtc = DecisionTreeRegressor(min_samples_leaf=25)\n",
    "dtc.fit(X_train, y_train)\n",
    "dtc.score(X_val, y_val)"
   ]
  },
  {
   "cell_type": "code",
   "execution_count": 24,
   "metadata": {},
   "outputs": [],
   "source": [
    "from plot_tree import plot_tree\n",
    "# plot_tree(dtc, feature_names=dataset['feature_names'], max_depth=None)"
   ]
  },
  {
   "cell_type": "code",
   "execution_count": null,
   "metadata": {},
   "outputs": [],
   "source": []
  }
 ],
 "metadata": {
  "kernelspec": {
   "display_name": "Python 3",
   "language": "python",
   "name": "python3"
  },
  "language_info": {
   "codemirror_mode": {
    "name": "ipython",
    "version": 3
   },
   "file_extension": ".py",
   "mimetype": "text/x-python",
   "name": "python",
   "nbconvert_exporter": "python",
   "pygments_lexer": "ipython3",
   "version": "3.7.3"
  }
 },
 "nbformat": 4,
 "nbformat_minor": 2
}
