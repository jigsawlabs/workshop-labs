{
 "cells": [
  {
   "cell_type": "markdown",
   "metadata": {},
   "source": [
    "# Overfitting and Early Stopping"
   ]
  },
  {
   "cell_type": "markdown",
   "metadata": {},
   "source": [
    "## Introduction"
   ]
  },
  {
   "cell_type": "markdown",
   "metadata": {},
   "source": [
    "In previous lessons, we have seen that decision trees choose features that split our data into different groups of target variables.  For example, when we look at the decision tree for customer leads, our tree perfectly segments our dataset between customers and non-customers."
   ]
  },
  {
   "cell_type": "markdown",
   "metadata": {},
   "source": [
    "![](DTreeViz_customers.svg)"
   ]
  },
  {
   "cell_type": "markdown",
   "metadata": {},
   "source": [
    "In this lesson, we'll see how decision trees can segment our data a little too well.  That is, we'll learn one way that decision trees are prone to overfitting."
   ]
  },
  {
   "cell_type": "markdown",
   "metadata": {},
   "source": [
    "## Working with the diabetes dataset"
   ]
  },
  {
   "cell_type": "markdown",
   "metadata": {},
   "source": [
    "For this lesson, let's work with the diabetes dataset provided with sklearn."
   ]
  },
  {
   "cell_type": "code",
   "execution_count": 3,
   "metadata": {},
   "outputs": [],
   "source": [
    "from sklearn.datasets import load_diabetes\n",
    "from sklearn.model_selection import train_test_split\n",
    "dataset = load_diabetes()\n",
    "X = dataset['data']\n",
    "y = dataset['target']\n",
    "\n",
    "X_train, X_test, y_train, y_test = train_test_split(\n",
    "     X, y, test_size=0.33, random_state=42)"
   ]
  },
  {
   "cell_type": "markdown",
   "metadata": {},
   "source": [
    "The following information about the training and target data is provided. "
   ]
  },
  {
   "cell_type": "markdown",
   "metadata": {},
   "source": [
    "> **Target:** A quantitative measure of disease progression one year after baseline\n",
    "\n",
    "> **Attribute Information**\n",
    "      - Age\n",
    "      - Sex\n",
    "      - Body mass index\n",
    "      - Average blood pressure\n",
    "      - S1\n",
    "      - S2\n",
    "      - S3\n",
    "      - S4\n",
    "      - S5\n",
    "      - S6"
   ]
  },
  {
   "cell_type": "code",
   "execution_count": 4,
   "metadata": {},
   "outputs": [
    {
     "data": {
      "text/plain": [
       "(296, 10)"
      ]
     },
     "execution_count": 4,
     "metadata": {},
     "output_type": "execute_result"
    }
   ],
   "source": [
    "X_train.shape"
   ]
  },
  {
   "cell_type": "markdown",
   "metadata": {},
   "source": [
    "So we have ten features and close to 300 observations."
   ]
  },
  {
   "cell_type": "markdown",
   "metadata": {},
   "source": [
    "## Training our decision tree"
   ]
  },
  {
   "cell_type": "markdown",
   "metadata": {},
   "source": [
    "Now let's train our decision tree and see how it performs."
   ]
  },
  {
   "cell_type": "code",
   "execution_count": 5,
   "metadata": {},
   "outputs": [
    {
     "data": {
      "text/plain": [
       "DecisionTreeRegressor(criterion='mse', max_depth=None, max_features=None,\n",
       "           max_leaf_nodes=None, min_impurity_decrease=0.0,\n",
       "           min_impurity_split=None, min_samples_leaf=1,\n",
       "           min_samples_split=2, min_weight_fraction_leaf=0.0,\n",
       "           presort=False, random_state=None, splitter='best')"
      ]
     },
     "execution_count": 5,
     "metadata": {},
     "output_type": "execute_result"
    }
   ],
   "source": [
    "from sklearn.tree import DecisionTreeRegressor\n",
    "dtc = DecisionTreeRegressor()\n",
    "dtc.fit(X_train, y_train)"
   ]
  },
  {
   "cell_type": "code",
   "execution_count": 6,
   "metadata": {},
   "outputs": [
    {
     "data": {
      "text/plain": [
       "1.0"
      ]
     },
     "execution_count": 6,
     "metadata": {},
     "output_type": "execute_result"
    }
   ],
   "source": [
    "dtc.score(X_train, y_train)"
   ]
  },
  {
   "cell_type": "markdown",
   "metadata": {},
   "source": [
    "Look at the score above, our first perfectly fit model.  Of course, what really matters is how well our decision tree performs on data it has not yet seen."
   ]
  },
  {
   "cell_type": "code",
   "execution_count": 7,
   "metadata": {},
   "outputs": [
    {
     "data": {
      "text/plain": [
       "-0.08331039544463636"
      ]
     },
     "execution_count": 7,
     "metadata": {},
     "output_type": "execute_result"
    }
   ],
   "source": [
    "dtc.score(X_test, y_test)"
   ]
  },
  {
   "cell_type": "markdown",
   "metadata": {},
   "source": [
    "Oops."
   ]
  },
  {
   "cell_type": "markdown",
   "metadata": {},
   "source": [
    "Here is just a small portion of the decision tree that was created above."
   ]
  },
  {
   "cell_type": "markdown",
   "metadata": {},
   "source": [
    "![](./d-tree.png)"
   ]
  },
  {
   "cell_type": "markdown",
   "metadata": {},
   "source": [
    "Notice that at the bottom layer of decision tree we have a lot of leaves, each with a sample size of just one.  \n",
    "\n",
    "* So our decision tree is able to perfectly fit our data.  \n",
    "* But in most if not all of the occurrences, it's prediction is based on a sample size of one."
   ]
  },
  {
   "cell_type": "markdown",
   "metadata": {},
   "source": [
    "### Correcting for Overfitting"
   ]
  },
  {
   "cell_type": "markdown",
   "metadata": {},
   "source": [
    "So now we can better understand how our decision tree overfits to the training data.  It overfits because each time a prediction contain any error, our decision tree simply tries another split. At a certain point, the tree is no longer fitting to the pattern in the data, but on the data's random variation.  In the decision tree above, we would have done a better job predicting if we had just predicted the mean."
   ]
  },
  {
   "cell_type": "markdown",
   "metadata": {},
   "source": [
    "One way to correct for this overfitting is to use early stopping.  This prevents our the leaves of a decision tree from having a separate leaf for each datapoint.  Rather we can require each leaf to have multiple datapoints.\n",
    "\n",
    "1. We can define the number of layers we train for our decision tree.  \n",
    "2. Or we can simply define the number of samples a node must have for our decision tree to continue splitting"
   ]
  },
  {
   "cell_type": "markdown",
   "metadata": {},
   "source": [
    "Notice that each accomplishes the same thing: the more samples we require in our leaf nodes, the fewer the levels of our tree. To see this, consider two extremes:\n",
    "\n",
    "* If we set `min_samples_leaf` to $\\frac{1}{2}$ the size of our dataset, our tree would only have one split, and two leaves.\n",
    "* Or, in the opposite case, if we have just one sample per leaf, our tree would require a large number of levels to split the data into samples of one. "
   ]
  },
  {
   "cell_type": "markdown",
   "metadata": {},
   "source": [
    "### Setting parameters in SKLearn"
   ]
  },
  {
   "cell_type": "markdown",
   "metadata": {},
   "source": [
    "The technique we learned above is called *early stopping*.  We can accomplish early stopping in `sklearn` by initializing our tree with either a `max_depth` parameter or a `min_samples_leaf` parameter."
   ]
  },
  {
   "cell_type": "code",
   "execution_count": 12,
   "metadata": {},
   "outputs": [],
   "source": [
    "# DecisionTreeRegressor(min_samples_leaf=1, max_depth=1)"
   ]
  },
  {
   "cell_type": "markdown",
   "metadata": {},
   "source": [
    "Let's work with our `min_samples_leaf` feature.  \n",
    "\n",
    "And in doing so, let's tackle the next question: how do we know the correct number to use for max depth?  Here's a hint: `min_samples_leaf` is a hyperparameter.\n",
    "\n",
    "Because `min_samples_leaf` is just a hyperparameters, we use our technique of trying various values for the hyperparameter and scoring the performance of our models against the holdout set.  Let's do it."
   ]
  },
  {
   "cell_type": "code",
   "execution_count": 9,
   "metadata": {},
   "outputs": [],
   "source": [
    "import numpy as np\n",
    "num_sample_scores = []\n",
    "for sample in range(1, 100):\n",
    "    dtc = DecisionTreeRegressor(min_samples_leaf=sample)\n",
    "    dtc.fit(X_train, y_train)\n",
    "    score = dtc.score(X_test, y_test)\n",
    "    num_sample_scores.append(np.array([sample, score]))\n",
    "    \n",
    "num_sample_scores = np.array(num_sample_scores)"
   ]
  },
  {
   "cell_type": "markdown",
   "metadata": {},
   "source": [
    "Above, we created a matrix that has a column of indicating the parameter for `min_samples_leaf` and another column with the score of the related decision tree."
   ]
  },
  {
   "cell_type": "code",
   "execution_count": 10,
   "metadata": {},
   "outputs": [
    {
     "data": {
      "text/plain": [
       "array([[ 1.        , -0.13351581],\n",
       "       [ 2.        , -0.01357229],\n",
       "       [ 3.        , -0.00320926]])"
      ]
     },
     "execution_count": 10,
     "metadata": {},
     "output_type": "execute_result"
    }
   ],
   "source": [
    "num_sample_scores[:3]"
   ]
  },
  {
   "cell_type": "markdown",
   "metadata": {},
   "source": [
    "Ok, let's plot all of the scores to see how `min_samples_leaf` reduces overfitting in our decision tree."
   ]
  },
  {
   "cell_type": "code",
   "execution_count": 11,
   "metadata": {},
   "outputs": [
    {
     "data": {
      "text/html": [
       "        <script type=\"text/javascript\">\n",
       "        window.PlotlyConfig = {MathJaxConfig: 'local'};\n",
       "        if (window.MathJax) {MathJax.Hub.Config({SVG: {font: \"STIX-Web\"}});}\n",
       "        if (typeof require !== 'undefined') {\n",
       "        require.undef(\"plotly\");\n",
       "        requirejs.config({\n",
       "            paths: {\n",
       "                'plotly': ['https://cdn.plot.ly/plotly-latest.min']\n",
       "            }\n",
       "        });\n",
       "        require(['plotly'], function(Plotly) {\n",
       "            window._Plotly = Plotly;\n",
       "        });\n",
       "        }\n",
       "        </script>\n",
       "        "
      ]
     },
     "metadata": {},
     "output_type": "display_data"
    },
    {
     "data": {
      "application/vnd.plotly.v1+json": {
       "config": {
        "linkText": "Export to plot.ly",
        "plotlyServerURL": "https://plot.ly",
        "showLink": false
       },
       "data": [
        {
         "mode": "markers",
         "name": "data",
         "text": [],
         "type": "scatter",
         "uid": "3946cc9e-3063-4f94-8b83-722825831736",
         "x": [
          1,
          2,
          3,
          4,
          5,
          6,
          7,
          8,
          9,
          10,
          11,
          12,
          13,
          14,
          15,
          16,
          17,
          18,
          19,
          20,
          21,
          22,
          23,
          24,
          25,
          26,
          27,
          28,
          29,
          30,
          31,
          32,
          33,
          34,
          35,
          36,
          37,
          38,
          39,
          40,
          41,
          42,
          43,
          44,
          45,
          46,
          47,
          48,
          49,
          50,
          51,
          52,
          53,
          54,
          55,
          56,
          57,
          58,
          59,
          60,
          61,
          62,
          63,
          64,
          65,
          66,
          67,
          68,
          69,
          70,
          71,
          72,
          73,
          74,
          75,
          76,
          77,
          78,
          79,
          80,
          81,
          82,
          83,
          84,
          85,
          86,
          87,
          88,
          89,
          90,
          91,
          92,
          93,
          94,
          95,
          96,
          97,
          98,
          99
         ],
         "y": [
          -0.1335158093732658,
          -0.013572290142862986,
          -0.003209264085761942,
          0.051067587324863495,
          0.0738382049939168,
          0.1514694857843163,
          0.18719143325693754,
          0.2178785281121265,
          0.21445342821803415,
          0.26031845812536536,
          0.2704153708377188,
          0.2856706230706346,
          0.2889940109234653,
          0.2692838252546985,
          0.2958721048947832,
          0.2958721048947832,
          0.2972172697644383,
          0.2972172697644383,
          0.2956144809404726,
          0.31328340842141444,
          0.32648873388932476,
          0.3425433874821677,
          0.4599217913355835,
          0.46053864774606557,
          0.4068802443937598,
          0.4172847697584723,
          0.440521820801447,
          0.440521820801447,
          0.440521820801447,
          0.41170135804029634,
          0.4118440118371316,
          0.4148492072953931,
          0.4148492072953931,
          0.4148492072953931,
          0.4148492072953931,
          0.39078210578570693,
          0.39367916310530926,
          0.40033843557864335,
          0.40033843557864335,
          0.40033843557864335,
          0.40033843557864335,
          0.3994958610347171,
          0.3994958610347171,
          0.4158669828228674,
          0.4158669828228674,
          0.4158669828228674,
          0.4158669828228674,
          0.4158669828228674,
          0.4158669828228674,
          0.40617202678739256,
          0.4030100256488951,
          0.4030100256488951,
          0.4030100256488951,
          0.40623968398155685,
          0.40084474345416543,
          0.40084474345416543,
          0.40084474345416543,
          0.40084474345416543,
          0.39823474439860906,
          0.39823474439860906,
          0.39823474439860906,
          0.39823474439860906,
          0.39823474439860906,
          0.39823474439860906,
          0.39823474439860906,
          0.39823474439860906,
          0.39823474439860906,
          0.39823474439860906,
          0.39823474439860906,
          0.39823474439860906,
          0.39823474439860906,
          0.39858973271783027,
          0.39800567460886804,
          0.39800567460886804,
          0.39800567460886804,
          0.39800567460886804,
          0.39800567460886804,
          0.39800567460886804,
          0.39800567460886804,
          0.38842757480333645,
          0.38842757480333645,
          0.38842757480333645,
          0.38842757480333645,
          0.38842757480333645,
          0.3627566871930279,
          0.3627566871930279,
          0.3627566871930279,
          0.3627566871930279,
          0.3710987644435409,
          0.3710987644435409,
          0.3710987644435409,
          0.3710987644435409,
          0.2394411661268161,
          0.24665243974622098,
          0.24665243974622098,
          0.24665243974622098,
          0.24665243974622098,
          0.24665243974622098,
          0.24665243974622098
         ]
        }
       ],
       "layout": {
        "autosize": true,
        "xaxis": {
         "autorange": true,
         "range": [
          -5.075757575757576,
          105.07575757575758
         ],
         "type": "linear"
        },
        "yaxis": {
         "autorange": true,
         "range": [
          -0.17702935241066906,
          0.5040521907834689
         ],
         "type": "linear"
        }
       }
      },
      "image/png": "[encoded data removed]",
      "text/html": [
       "<div>\n",
       "        \n",
       "        \n",
       "            <div id=\"f5665dba-f938-45c6-8a74-d22605c499e2\" class=\"plotly-graph-div\" style=\"height:525px; width:100%;\"></div>\n",
       "            <script type=\"text/javascript\">\n",
       "                require([\"plotly\"], function(Plotly) {\n",
       "                    window.PLOTLYENV=window.PLOTLYENV || {};\n",
       "                    window.PLOTLYENV.BASE_URL='https://plot.ly';\n",
       "                    \n",
       "                if (document.getElementById(\"f5665dba-f938-45c6-8a74-d22605c499e2\")) {\n",
       "                    Plotly.newPlot(\n",
       "                        'f5665dba-f938-45c6-8a74-d22605c499e2',\n",
       "                        [{\"mode\": \"markers\", \"name\": \"data\", \"text\": [], \"type\": \"scatter\", \"uid\": \"3946cc9e-3063-4f94-8b83-722825831736\", \"x\": [1.0, 2.0, 3.0, 4.0, 5.0, 6.0, 7.0, 8.0, 9.0, 10.0, 11.0, 12.0, 13.0, 14.0, 15.0, 16.0, 17.0, 18.0, 19.0, 20.0, 21.0, 22.0, 23.0, 24.0, 25.0, 26.0, 27.0, 28.0, 29.0, 30.0, 31.0, 32.0, 33.0, 34.0, 35.0, 36.0, 37.0, 38.0, 39.0, 40.0, 41.0, 42.0, 43.0, 44.0, 45.0, 46.0, 47.0, 48.0, 49.0, 50.0, 51.0, 52.0, 53.0, 54.0, 55.0, 56.0, 57.0, 58.0, 59.0, 60.0, 61.0, 62.0, 63.0, 64.0, 65.0, 66.0, 67.0, 68.0, 69.0, 70.0, 71.0, 72.0, 73.0, 74.0, 75.0, 76.0, 77.0, 78.0, 79.0, 80.0, 81.0, 82.0, 83.0, 84.0, 85.0, 86.0, 87.0, 88.0, 89.0, 90.0, 91.0, 92.0, 93.0, 94.0, 95.0, 96.0, 97.0, 98.0, 99.0], \"y\": [-0.1335158093732658, -0.013572290142862986, -0.003209264085761942, 0.051067587324863495, 0.0738382049939168, 0.1514694857843163, 0.18719143325693754, 0.2178785281121265, 0.21445342821803415, 0.26031845812536536, 0.2704153708377188, 0.2856706230706346, 0.2889940109234653, 0.2692838252546985, 0.2958721048947832, 0.2958721048947832, 0.2972172697644383, 0.2972172697644383, 0.2956144809404726, 0.31328340842141444, 0.32648873388932476, 0.3425433874821677, 0.4599217913355835, 0.46053864774606557, 0.4068802443937598, 0.4172847697584723, 0.440521820801447, 0.440521820801447, 0.440521820801447, 0.41170135804029634, 0.4118440118371316, 0.4148492072953931, 0.4148492072953931, 0.4148492072953931, 0.4148492072953931, 0.39078210578570693, 0.39367916310530926, 0.40033843557864335, 0.40033843557864335, 0.40033843557864335, 0.40033843557864335, 0.3994958610347171, 0.3994958610347171, 0.4158669828228674, 0.4158669828228674, 0.4158669828228674, 0.4158669828228674, 0.4158669828228674, 0.4158669828228674, 0.40617202678739256, 0.4030100256488951, 0.4030100256488951, 0.4030100256488951, 0.40623968398155685, 0.40084474345416543, 0.40084474345416543, 0.40084474345416543, 0.40084474345416543, 0.39823474439860906, 0.39823474439860906, 0.39823474439860906, 0.39823474439860906, 0.39823474439860906, 0.39823474439860906, 0.39823474439860906, 0.39823474439860906, 0.39823474439860906, 0.39823474439860906, 0.39823474439860906, 0.39823474439860906, 0.39823474439860906, 0.39858973271783027, 0.39800567460886804, 0.39800567460886804, 0.39800567460886804, 0.39800567460886804, 0.39800567460886804, 0.39800567460886804, 0.39800567460886804, 0.38842757480333645, 0.38842757480333645, 0.38842757480333645, 0.38842757480333645, 0.38842757480333645, 0.3627566871930279, 0.3627566871930279, 0.3627566871930279, 0.3627566871930279, 0.3710987644435409, 0.3710987644435409, 0.3710987644435409, 0.3710987644435409, 0.2394411661268161, 0.24665243974622098, 0.24665243974622098, 0.24665243974622098, 0.24665243974622098, 0.24665243974622098, 0.24665243974622098]}],\n",
       "                        {},\n",
       "                        {\"showLink\": false, \"linkText\": \"Export to plot.ly\", \"plotlyServerURL\": \"https://plot.ly\", \"responsive\": true}\n",
       "                    ).then(function(){\n",
       "                            \n",
       "var gd = document.getElementById('f5665dba-f938-45c6-8a74-d22605c499e2');\n",
       "var x = new MutationObserver(function (mutations, observer) {{\n",
       "        var display = window.getComputedStyle(gd).display;\n",
       "        if (!display || display === 'none') {{\n",
       "            console.log([gd, 'removed!']);\n",
       "            Plotly.purge(gd);\n",
       "            observer.disconnect();\n",
       "        }}\n",
       "}});\n",
       "\n",
       "// Listen for the removal of the full notebook cells\n",
       "var notebookContainer = gd.closest('#notebook-container');\n",
       "if (notebookContainer) {{\n",
       "    x.observe(notebookContainer, {childList: true});\n",
       "}}\n",
       "\n",
       "// Listen for the clearing of the current output cell\n",
       "var outputEl = gd.closest('.output');\n",
       "if (outputEl) {{\n",
       "    x.observe(outputEl, {childList: true});\n",
       "}}\n",
       "\n",
       "                        })\n",
       "                };\n",
       "                });\n",
       "            </script>\n",
       "        </div>"
      ]
     },
     "metadata": {},
     "output_type": "display_data"
    }
   ],
   "source": [
    "from graph import trace_values, plot\n",
    "trace = trace_values(num_sample_scores[:, 0], num_sample_scores[:, 1])\n",
    "plot([trace])"
   ]
  },
  {
   "cell_type": "markdown",
   "metadata": {},
   "source": [
    "In the above graph, we are seeing our bias-variance tradeoff at work.  Remember that our models become simpler as we have a larger `min_sample_leaf` -- these are the models with fewer splits.  So the fewer the number of splits, the smaller the variance as there are more samples in each leaf, and thus the prediction is less sensitive to the varitation in the datapoints.  But for this same reason, the simpler model is more biased.  \n",
    "\n",
    "From the graph above, it seems a `min_samples_leaf` of 24 does the best job of balancing our bias variance tradeoff."
   ]
  },
  {
   "cell_type": "markdown",
   "metadata": {},
   "source": [
    "So fitting our decision tree with this hyperparameter we find the following."
   ]
  },
  {
   "cell_type": "code",
   "execution_count": 13,
   "metadata": {},
   "outputs": [
    {
     "data": {
      "text/plain": [
       "0.4068802443937598"
      ]
     },
     "execution_count": 13,
     "metadata": {},
     "output_type": "execute_result"
    }
   ],
   "source": [
    "dtc = DecisionTreeRegressor(min_samples_leaf=25)\n",
    "dtc.fit(X_train, y_train)\n",
    "dtc.score(X_test, y_test)"
   ]
  },
  {
   "cell_type": "markdown",
   "metadata": {},
   "source": [
    "Let's view the tree."
   ]
  },
  {
   "cell_type": "markdown",
   "metadata": {},
   "source": [
    "from sklearn import tree\n",
    "from IPython.display import SVG, display\n",
    "from graphviz import Source \n",
    "\n",
    "\n",
    "graph_1 = Source(tree.export_graphviz(dtc, out_file=None,\n",
    "                                feature_names=dataset['feature_names']))"
   ]
  },
  {
   "cell_type": "code",
   "execution_count": 16,
   "metadata": {},
   "outputs": [
    {
     "data": {
      "image/svg+xml": [
       "<?xml version=\"1.0\" encoding=\"UTF-8\" standalone=\"no\"?>\n",
       "<!DOCTYPE svg PUBLIC \"-//W3C//DTD SVG 1.1//EN\"\n",
       " \"http://www.w3.org/Graphics/SVG/1.1/DTD/svg11.dtd\">\n",
       "<!-- Generated by graphviz version 2.40.1 (20161225.0304)\n",
       " -->\n",
       "<!-- Title: Tree Pages: 1 -->\n",
       "<svg width=\"978pt\" height=\"458pt\"\n",
       " viewBox=\"0.00 0.00 977.95 458.00\" xmlns=\"http://www.w3.org/2000/svg\" xmlns:xlink=\"http://www.w3.org/1999/xlink\">\n",
       "<g id=\"graph0\" class=\"graph\" transform=\"scale(1 1) rotate(0) translate(4 454)\">\n",
       "<title>Tree</title>\n",
       "<polygon fill=\"#ffffff\" stroke=\"transparent\" points=\"-4,4 -4,-454 973.9473,-454 973.9473,4 -4,4\"/>\n",
       "<!-- 0 -->\n",
       "<g id=\"node1\" class=\"node\">\n",
       "<title>0</title>\n",
       "<polygon fill=\"none\" stroke=\"#000000\" points=\"541.1869,-450 434.7604,-450 434.7604,-386 541.1869,-386 541.1869,-450\"/>\n",
       "<text text-anchor=\"middle\" x=\"487.9736\" y=\"-434.8\" font-family=\"Times,serif\" font-size=\"14.00\" fill=\"#000000\">bmi &lt;= 0.009</text>\n",
       "<text text-anchor=\"middle\" x=\"487.9736\" y=\"-420.8\" font-family=\"Times,serif\" font-size=\"14.00\" fill=\"#000000\">mse = 6015.949</text>\n",
       "<text text-anchor=\"middle\" x=\"487.9736\" y=\"-406.8\" font-family=\"Times,serif\" font-size=\"14.00\" fill=\"#000000\">samples = 296</text>\n",
       "<text text-anchor=\"middle\" x=\"487.9736\" y=\"-392.8\" font-family=\"Times,serif\" font-size=\"14.00\" fill=\"#000000\">value = 151.983</text>\n",
       "</g>\n",
       "<!-- 1 -->\n",
       "<g id=\"node2\" class=\"node\">\n",
       "<title>1</title>\n",
       "<polygon fill=\"none\" stroke=\"#000000\" points=\"416.174,-350 309.7732,-350 309.7732,-286 416.174,-286 416.174,-350\"/>\n",
       "<text text-anchor=\"middle\" x=\"362.9736\" y=\"-334.8\" font-family=\"Times,serif\" font-size=\"14.00\" fill=\"#000000\">s5 &lt;= &#45;0.003</text>\n",
       "<text text-anchor=\"middle\" x=\"362.9736\" y=\"-320.8\" font-family=\"Times,serif\" font-size=\"14.00\" fill=\"#000000\">mse = 3767.542</text>\n",
       "<text text-anchor=\"middle\" x=\"362.9736\" y=\"-306.8\" font-family=\"Times,serif\" font-size=\"14.00\" fill=\"#000000\">samples = 187</text>\n",
       "<text text-anchor=\"middle\" x=\"362.9736\" y=\"-292.8\" font-family=\"Times,serif\" font-size=\"14.00\" fill=\"#000000\">value = 119.941</text>\n",
       "</g>\n",
       "<!-- 0&#45;&gt;1 -->\n",
       "<g id=\"edge1\" class=\"edge\">\n",
       "<title>0&#45;&gt;1</title>\n",
       "<path fill=\"none\" stroke=\"#000000\" d=\"M447.7348,-385.8089C436.0256,-376.4416 423.1174,-366.115 410.9808,-356.4057\"/>\n",
       "<polygon fill=\"#000000\" stroke=\"#000000\" points=\"413.1322,-353.6447 403.1371,-350.1308 408.7593,-359.1108 413.1322,-353.6447\"/>\n",
       "<text text-anchor=\"middle\" x=\"405.8979\" y=\"-370.7779\" font-family=\"Times,serif\" font-size=\"14.00\" fill=\"#000000\">True</text>\n",
       "</g>\n",
       "<!-- 10 -->\n",
       "<g id=\"node11\" class=\"node\">\n",
       "<title>10</title>\n",
       "<polygon fill=\"none\" stroke=\"#000000\" points=\"664.1869,-350 557.7604,-350 557.7604,-286 664.1869,-286 664.1869,-350\"/>\n",
       "<text text-anchor=\"middle\" x=\"610.9736\" y=\"-334.8\" font-family=\"Times,serif\" font-size=\"14.00\" fill=\"#000000\">bp &lt;= 0.024</text>\n",
       "<text text-anchor=\"middle\" x=\"610.9736\" y=\"-320.8\" font-family=\"Times,serif\" font-size=\"14.00\" fill=\"#000000\">mse = 5090.117</text>\n",
       "<text text-anchor=\"middle\" x=\"610.9736\" y=\"-306.8\" font-family=\"Times,serif\" font-size=\"14.00\" fill=\"#000000\">samples = 109</text>\n",
       "<text text-anchor=\"middle\" x=\"610.9736\" y=\"-292.8\" font-family=\"Times,serif\" font-size=\"14.00\" fill=\"#000000\">value = 206.954</text>\n",
       "</g>\n",
       "<!-- 0&#45;&gt;10 -->\n",
       "<g id=\"edge10\" class=\"edge\">\n",
       "<title>0&#45;&gt;10</title>\n",
       "<path fill=\"none\" stroke=\"#000000\" d=\"M527.5687,-385.8089C538.9807,-376.5308 551.5503,-366.3116 563.3932,-356.6833\"/>\n",
       "<polygon fill=\"#000000\" stroke=\"#000000\" points=\"565.9015,-359.1548 571.4528,-350.1308 561.4856,-353.7234 565.9015,-359.1548\"/>\n",
       "<text text-anchor=\"middle\" x=\"568.8879\" y=\"-370.7988\" font-family=\"Times,serif\" font-size=\"14.00\" fill=\"#000000\">False</text>\n",
       "</g>\n",
       "<!-- 2 -->\n",
       "<g id=\"node3\" class=\"node\">\n",
       "<title>2</title>\n",
       "<polygon fill=\"none\" stroke=\"#000000\" points=\"229.9091,-250 124.0382,-250 124.0382,-186 229.9091,-186 229.9091,-250\"/>\n",
       "<text text-anchor=\"middle\" x=\"176.9736\" y=\"-234.8\" font-family=\"Times,serif\" font-size=\"14.00\" fill=\"#000000\">s5 &lt;= &#45;0.043</text>\n",
       "<text text-anchor=\"middle\" x=\"176.9736\" y=\"-220.8\" font-family=\"Times,serif\" font-size=\"14.00\" fill=\"#000000\">mse = 2611.689</text>\n",
       "<text text-anchor=\"middle\" x=\"176.9736\" y=\"-206.8\" font-family=\"Times,serif\" font-size=\"14.00\" fill=\"#000000\">samples = 116</text>\n",
       "<text text-anchor=\"middle\" x=\"176.9736\" y=\"-192.8\" font-family=\"Times,serif\" font-size=\"14.00\" fill=\"#000000\">value = 99.836</text>\n",
       "</g>\n",
       "<!-- 1&#45;&gt;2 -->\n",
       "<g id=\"edge2\" class=\"edge\">\n",
       "<title>1&#45;&gt;2</title>\n",
       "<path fill=\"none\" stroke=\"#000000\" d=\"M309.6735,-289.344C287.5923,-277.4724 261.8353,-263.6246 238.9199,-251.3044\"/>\n",
       "<polygon fill=\"#000000\" stroke=\"#000000\" points=\"240.4249,-248.1398 229.9598,-246.4872 237.1101,-254.3053 240.4249,-248.1398\"/>\n",
       "</g>\n",
       "<!-- 7 -->\n",
       "<g id=\"node8\" class=\"node\">\n",
       "<title>7</title>\n",
       "<polygon fill=\"none\" stroke=\"#000000\" points=\"416.1869,-250 309.7604,-250 309.7604,-186 416.1869,-186 416.1869,-250\"/>\n",
       "<text text-anchor=\"middle\" x=\"362.9736\" y=\"-234.8\" font-family=\"Times,serif\" font-size=\"14.00\" fill=\"#000000\">s3 &lt;= 0.001</text>\n",
       "<text text-anchor=\"middle\" x=\"362.9736\" y=\"-220.8\" font-family=\"Times,serif\" font-size=\"14.00\" fill=\"#000000\">mse = 3916.617</text>\n",
       "<text text-anchor=\"middle\" x=\"362.9736\" y=\"-206.8\" font-family=\"Times,serif\" font-size=\"14.00\" fill=\"#000000\">samples = 71</text>\n",
       "<text text-anchor=\"middle\" x=\"362.9736\" y=\"-192.8\" font-family=\"Times,serif\" font-size=\"14.00\" fill=\"#000000\">value = 152.789</text>\n",
       "</g>\n",
       "<!-- 1&#45;&gt;7 -->\n",
       "<g id=\"edge7\" class=\"edge\">\n",
       "<title>1&#45;&gt;7</title>\n",
       "<path fill=\"none\" stroke=\"#000000\" d=\"M362.9736,-285.8089C362.9736,-277.6906 362.9736,-268.8517 362.9736,-260.3186\"/>\n",
       "<polygon fill=\"#000000\" stroke=\"#000000\" points=\"366.4737,-260.1307 362.9736,-250.1308 359.4737,-260.1308 366.4737,-260.1307\"/>\n",
       "</g>\n",
       "<!-- 3 -->\n",
       "<g id=\"node4\" class=\"node\">\n",
       "<title>3</title>\n",
       "<polygon fill=\"none\" stroke=\"#000000\" points=\"105.9209,-143 .0264,-143 .0264,-93 105.9209,-93 105.9209,-143\"/>\n",
       "<text text-anchor=\"middle\" x=\"52.9736\" y=\"-127.8\" font-family=\"Times,serif\" font-size=\"14.00\" fill=\"#000000\">mse = 1554.954</text>\n",
       "<text text-anchor=\"middle\" x=\"52.9736\" y=\"-113.8\" font-family=\"Times,serif\" font-size=\"14.00\" fill=\"#000000\">samples = 41</text>\n",
       "<text text-anchor=\"middle\" x=\"52.9736\" y=\"-99.8\" font-family=\"Times,serif\" font-size=\"14.00\" fill=\"#000000\">value = 79.146</text>\n",
       "</g>\n",
       "<!-- 2&#45;&gt;3 -->\n",
       "<g id=\"edge3\" class=\"edge\">\n",
       "<title>2&#45;&gt;3</title>\n",
       "<path fill=\"none\" stroke=\"#000000\" d=\"M137.0567,-185.8089C122.7343,-174.2586 106.6033,-161.2497 92.3288,-149.7381\"/>\n",
       "<polygon fill=\"#000000\" stroke=\"#000000\" points=\"94.1478,-146.7086 84.1665,-143.1555 89.7535,-152.1576 94.1478,-146.7086\"/>\n",
       "</g>\n",
       "<!-- 4 -->\n",
       "<g id=\"node5\" class=\"node\">\n",
       "<title>4</title>\n",
       "<polygon fill=\"none\" stroke=\"#000000\" points=\"229.9209,-150 124.0264,-150 124.0264,-86 229.9209,-86 229.9209,-150\"/>\n",
       "<text text-anchor=\"middle\" x=\"176.9736\" y=\"-134.8\" font-family=\"Times,serif\" font-size=\"14.00\" fill=\"#000000\">s3 &lt;= 0.025</text>\n",
       "<text text-anchor=\"middle\" x=\"176.9736\" y=\"-120.8\" font-family=\"Times,serif\" font-size=\"14.00\" fill=\"#000000\">mse = 2827.432</text>\n",
       "<text text-anchor=\"middle\" x=\"176.9736\" y=\"-106.8\" font-family=\"Times,serif\" font-size=\"14.00\" fill=\"#000000\">samples = 75</text>\n",
       "<text text-anchor=\"middle\" x=\"176.9736\" y=\"-92.8\" font-family=\"Times,serif\" font-size=\"14.00\" fill=\"#000000\">value = 111.147</text>\n",
       "</g>\n",
       "<!-- 2&#45;&gt;4 -->\n",
       "<g id=\"edge4\" class=\"edge\">\n",
       "<title>2&#45;&gt;4</title>\n",
       "<path fill=\"none\" stroke=\"#000000\" d=\"M176.9736,-185.8089C176.9736,-177.6906 176.9736,-168.8517 176.9736,-160.3186\"/>\n",
       "<polygon fill=\"#000000\" stroke=\"#000000\" points=\"180.4737,-160.1307 176.9736,-150.1308 173.4737,-160.1308 180.4737,-160.1307\"/>\n",
       "</g>\n",
       "<!-- 5 -->\n",
       "<g id=\"node6\" class=\"node\">\n",
       "<title>5</title>\n",
       "<polygon fill=\"none\" stroke=\"#000000\" points=\"168.1869,-50 61.7604,-50 61.7604,0 168.1869,0 168.1869,-50\"/>\n",
       "<text text-anchor=\"middle\" x=\"114.9736\" y=\"-34.8\" font-family=\"Times,serif\" font-size=\"14.00\" fill=\"#000000\">mse = 3221.575</text>\n",
       "<text text-anchor=\"middle\" x=\"114.9736\" y=\"-20.8\" font-family=\"Times,serif\" font-size=\"14.00\" fill=\"#000000\">samples = 46</text>\n",
       "<text text-anchor=\"middle\" x=\"114.9736\" y=\"-6.8\" font-family=\"Times,serif\" font-size=\"14.00\" fill=\"#000000\">value = 127.348</text>\n",
       "</g>\n",
       "<!-- 4&#45;&gt;5 -->\n",
       "<g id=\"edge5\" class=\"edge\">\n",
       "<title>4&#45;&gt;5</title>\n",
       "<path fill=\"none\" stroke=\"#000000\" d=\"M155.6367,-85.9947C149.6907,-77.0756 143.2177,-67.3661 137.2207,-58.3706\"/>\n",
       "<polygon fill=\"#000000\" stroke=\"#000000\" points=\"140.1089,-56.3931 131.6497,-50.014 134.2845,-60.276 140.1089,-56.3931\"/>\n",
       "</g>\n",
       "<!-- 6 -->\n",
       "<g id=\"node7\" class=\"node\">\n",
       "<title>6</title>\n",
       "<polygon fill=\"none\" stroke=\"#000000\" points=\"291.9091,-50 186.0382,-50 186.0382,0 291.9091,0 291.9091,-50\"/>\n",
       "<text text-anchor=\"middle\" x=\"238.9736\" y=\"-34.8\" font-family=\"Times,serif\" font-size=\"14.00\" fill=\"#000000\">mse = 1125.489</text>\n",
       "<text text-anchor=\"middle\" x=\"238.9736\" y=\"-20.8\" font-family=\"Times,serif\" font-size=\"14.00\" fill=\"#000000\">samples = 29</text>\n",
       "<text text-anchor=\"middle\" x=\"238.9736\" y=\"-6.8\" font-family=\"Times,serif\" font-size=\"14.00\" fill=\"#000000\">value = 85.448</text>\n",
       "</g>\n",
       "<!-- 4&#45;&gt;6 -->\n",
       "<g id=\"edge6\" class=\"edge\">\n",
       "<title>4&#45;&gt;6</title>\n",
       "<path fill=\"none\" stroke=\"#000000\" d=\"M198.3105,-85.9947C204.2565,-77.0756 210.7296,-67.3661 216.7265,-58.3706\"/>\n",
       "<polygon fill=\"#000000\" stroke=\"#000000\" points=\"219.6627,-60.276 222.2976,-50.014 213.8384,-56.3931 219.6627,-60.276\"/>\n",
       "</g>\n",
       "<!-- 8 -->\n",
       "<g id=\"node9\" class=\"node\">\n",
       "<title>8</title>\n",
       "<polygon fill=\"none\" stroke=\"#000000\" points=\"354.1869,-143 247.7604,-143 247.7604,-93 354.1869,-93 354.1869,-143\"/>\n",
       "<text text-anchor=\"middle\" x=\"300.9736\" y=\"-127.8\" font-family=\"Times,serif\" font-size=\"14.00\" fill=\"#000000\">mse = 4176.931</text>\n",
       "<text text-anchor=\"middle\" x=\"300.9736\" y=\"-113.8\" font-family=\"Times,serif\" font-size=\"14.00\" fill=\"#000000\">samples = 45</text>\n",
       "<text text-anchor=\"middle\" x=\"300.9736\" y=\"-99.8\" font-family=\"Times,serif\" font-size=\"14.00\" fill=\"#000000\">value = 166.956</text>\n",
       "</g>\n",
       "<!-- 7&#45;&gt;8 -->\n",
       "<g id=\"edge8\" class=\"edge\">\n",
       "<title>7&#45;&gt;8</title>\n",
       "<path fill=\"none\" stroke=\"#000000\" d=\"M343.0152,-185.8089C336.2555,-174.9063 328.6902,-162.7041 321.8603,-151.6882\"/>\n",
       "<polygon fill=\"#000000\" stroke=\"#000000\" points=\"324.8142,-149.8103 316.5701,-143.1555 318.8648,-153.4989 324.8142,-149.8103\"/>\n",
       "</g>\n",
       "<!-- 9 -->\n",
       "<g id=\"node10\" class=\"node\">\n",
       "<title>9</title>\n",
       "<polygon fill=\"none\" stroke=\"#000000\" points=\"479.1869,-143 372.7604,-143 372.7604,-93 479.1869,-93 479.1869,-143\"/>\n",
       "<text text-anchor=\"middle\" x=\"425.9736\" y=\"-127.8\" font-family=\"Times,serif\" font-size=\"14.00\" fill=\"#000000\">mse = 2517.504</text>\n",
       "<text text-anchor=\"middle\" x=\"425.9736\" y=\"-113.8\" font-family=\"Times,serif\" font-size=\"14.00\" fill=\"#000000\">samples = 26</text>\n",
       "<text text-anchor=\"middle\" x=\"425.9736\" y=\"-99.8\" font-family=\"Times,serif\" font-size=\"14.00\" fill=\"#000000\">value = 128.269</text>\n",
       "</g>\n",
       "<!-- 7&#45;&gt;9 -->\n",
       "<g id=\"edge9\" class=\"edge\">\n",
       "<title>7&#45;&gt;9</title>\n",
       "<path fill=\"none\" stroke=\"#000000\" d=\"M383.254,-185.8089C390.1227,-174.9063 397.8101,-162.7041 404.7501,-151.6882\"/>\n",
       "<polygon fill=\"#000000\" stroke=\"#000000\" points=\"407.7565,-153.4821 410.1256,-143.1555 401.8339,-149.7508 407.7565,-153.4821\"/>\n",
       "</g>\n",
       "<!-- 11 -->\n",
       "<g id=\"node12\" class=\"node\">\n",
       "<title>11</title>\n",
       "<polygon fill=\"none\" stroke=\"#000000\" points=\"663.9209,-250 558.0264,-250 558.0264,-186 663.9209,-186 663.9209,-250\"/>\n",
       "<text text-anchor=\"middle\" x=\"610.9736\" y=\"-234.8\" font-family=\"Times,serif\" font-size=\"14.00\" fill=\"#000000\">s5 &lt;= 0.025</text>\n",
       "<text text-anchor=\"middle\" x=\"610.9736\" y=\"-220.8\" font-family=\"Times,serif\" font-size=\"14.00\" fill=\"#000000\">mse = 4674.884</text>\n",
       "<text text-anchor=\"middle\" x=\"610.9736\" y=\"-206.8\" font-family=\"Times,serif\" font-size=\"14.00\" fill=\"#000000\">samples = 59</text>\n",
       "<text text-anchor=\"middle\" x=\"610.9736\" y=\"-192.8\" font-family=\"Times,serif\" font-size=\"14.00\" fill=\"#000000\">value = 177.22</text>\n",
       "</g>\n",
       "<!-- 10&#45;&gt;11 -->\n",
       "<g id=\"edge11\" class=\"edge\">\n",
       "<title>10&#45;&gt;11</title>\n",
       "<path fill=\"none\" stroke=\"#000000\" d=\"M610.9736,-285.8089C610.9736,-277.6906 610.9736,-268.8517 610.9736,-260.3186\"/>\n",
       "<polygon fill=\"#000000\" stroke=\"#000000\" points=\"614.4737,-260.1307 610.9736,-250.1308 607.4737,-260.1308 614.4737,-260.1307\"/>\n",
       "</g>\n",
       "<!-- 14 -->\n",
       "<g id=\"node15\" class=\"node\">\n",
       "<title>14</title>\n",
       "<polygon fill=\"none\" stroke=\"#000000\" points=\"848.9209,-250 743.0264,-250 743.0264,-186 848.9209,-186 848.9209,-250\"/>\n",
       "<text text-anchor=\"middle\" x=\"795.9736\" y=\"-234.8\" font-family=\"Times,serif\" font-size=\"14.00\" fill=\"#000000\">s2 &lt;= 0.004</text>\n",
       "<text text-anchor=\"middle\" x=\"795.9736\" y=\"-220.8\" font-family=\"Times,serif\" font-size=\"14.00\" fill=\"#000000\">mse = 3305.838</text>\n",
       "<text text-anchor=\"middle\" x=\"795.9736\" y=\"-206.8\" font-family=\"Times,serif\" font-size=\"14.00\" fill=\"#000000\">samples = 50</text>\n",
       "<text text-anchor=\"middle\" x=\"795.9736\" y=\"-192.8\" font-family=\"Times,serif\" font-size=\"14.00\" fill=\"#000000\">value = 242.04</text>\n",
       "</g>\n",
       "<!-- 10&#45;&gt;14 -->\n",
       "<g id=\"edge14\" class=\"edge\">\n",
       "<title>10&#45;&gt;14</title>\n",
       "<path fill=\"none\" stroke=\"#000000\" d=\"M664.4833,-289.0759C686.2454,-277.3125 711.5319,-263.6442 734.0827,-251.4545\"/>\n",
       "<polygon fill=\"#000000\" stroke=\"#000000\" points=\"735.7712,-254.5205 742.9039,-246.6863 732.4425,-248.3626 735.7712,-254.5205\"/>\n",
       "</g>\n",
       "<!-- 12 -->\n",
       "<g id=\"node13\" class=\"node\">\n",
       "<title>12</title>\n",
       "<polygon fill=\"none\" stroke=\"#000000\" points=\"604.1869,-143 497.7604,-143 497.7604,-93 604.1869,-93 604.1869,-143\"/>\n",
       "<text text-anchor=\"middle\" x=\"550.9736\" y=\"-127.8\" font-family=\"Times,serif\" font-size=\"14.00\" fill=\"#000000\">mse = 3747.291</text>\n",
       "<text text-anchor=\"middle\" x=\"550.9736\" y=\"-113.8\" font-family=\"Times,serif\" font-size=\"14.00\" fill=\"#000000\">samples = 34</text>\n",
       "<text text-anchor=\"middle\" x=\"550.9736\" y=\"-99.8\" font-family=\"Times,serif\" font-size=\"14.00\" fill=\"#000000\">value = 159.941</text>\n",
       "</g>\n",
       "<!-- 11&#45;&gt;12 -->\n",
       "<g id=\"edge12\" class=\"edge\">\n",
       "<title>11&#45;&gt;12</title>\n",
       "<path fill=\"none\" stroke=\"#000000\" d=\"M591.659,-185.8089C585.1822,-175.0142 577.941,-162.9456 571.3831,-152.0158\"/>\n",
       "<polygon fill=\"#000000\" stroke=\"#000000\" points=\"574.2132,-149.9297 566.067,-143.1555 568.2107,-153.5312 574.2132,-149.9297\"/>\n",
       "</g>\n",
       "<!-- 13 -->\n",
       "<g id=\"node14\" class=\"node\">\n",
       "<title>13</title>\n",
       "<polygon fill=\"none\" stroke=\"#000000\" points=\"727.9209,-143 622.0264,-143 622.0264,-93 727.9209,-93 727.9209,-143\"/>\n",
       "<text text-anchor=\"middle\" x=\"674.9736\" y=\"-127.8\" font-family=\"Times,serif\" font-size=\"14.00\" fill=\"#000000\">mse = 4978.122</text>\n",
       "<text text-anchor=\"middle\" x=\"674.9736\" y=\"-113.8\" font-family=\"Times,serif\" font-size=\"14.00\" fill=\"#000000\">samples = 25</text>\n",
       "<text text-anchor=\"middle\" x=\"674.9736\" y=\"-99.8\" font-family=\"Times,serif\" font-size=\"14.00\" fill=\"#000000\">value = 200.72</text>\n",
       "</g>\n",
       "<!-- 11&#45;&gt;13 -->\n",
       "<g id=\"edge13\" class=\"edge\">\n",
       "<title>11&#45;&gt;13</title>\n",
       "<path fill=\"none\" stroke=\"#000000\" d=\"M631.5759,-185.8089C638.5536,-174.9063 646.363,-162.7041 653.4132,-151.6882\"/>\n",
       "<polygon fill=\"#000000\" stroke=\"#000000\" points=\"656.4315,-153.465 658.8741,-143.1555 650.5355,-149.6916 656.4315,-153.465\"/>\n",
       "</g>\n",
       "<!-- 15 -->\n",
       "<g id=\"node16\" class=\"node\">\n",
       "<title>15</title>\n",
       "<polygon fill=\"none\" stroke=\"#000000\" points=\"845.6869,-143 746.2603,-143 746.2603,-93 845.6869,-93 845.6869,-143\"/>\n",
       "<text text-anchor=\"middle\" x=\"795.9736\" y=\"-127.8\" font-family=\"Times,serif\" font-size=\"14.00\" fill=\"#000000\">mse = 2147.69</text>\n",
       "<text text-anchor=\"middle\" x=\"795.9736\" y=\"-113.8\" font-family=\"Times,serif\" font-size=\"14.00\" fill=\"#000000\">samples = 25</text>\n",
       "<text text-anchor=\"middle\" x=\"795.9736\" y=\"-99.8\" font-family=\"Times,serif\" font-size=\"14.00\" fill=\"#000000\">value = 260.52</text>\n",
       "</g>\n",
       "<!-- 14&#45;&gt;15 -->\n",
       "<g id=\"edge15\" class=\"edge\">\n",
       "<title>14&#45;&gt;15</title>\n",
       "<path fill=\"none\" stroke=\"#000000\" d=\"M795.9736,-185.8089C795.9736,-175.446 795.9736,-163.909 795.9736,-153.3327\"/>\n",
       "<polygon fill=\"#000000\" stroke=\"#000000\" points=\"799.4737,-153.1555 795.9736,-143.1555 792.4737,-153.1556 799.4737,-153.1555\"/>\n",
       "</g>\n",
       "<!-- 16 -->\n",
       "<g id=\"node17\" class=\"node\">\n",
       "<title>16</title>\n",
       "<polygon fill=\"none\" stroke=\"#000000\" points=\"969.9209,-143 864.0264,-143 864.0264,-93 969.9209,-93 969.9209,-143\"/>\n",
       "<text text-anchor=\"middle\" x=\"916.9736\" y=\"-127.8\" font-family=\"Times,serif\" font-size=\"14.00\" fill=\"#000000\">mse = 3780.966</text>\n",
       "<text text-anchor=\"middle\" x=\"916.9736\" y=\"-113.8\" font-family=\"Times,serif\" font-size=\"14.00\" fill=\"#000000\">samples = 25</text>\n",
       "<text text-anchor=\"middle\" x=\"916.9736\" y=\"-99.8\" font-family=\"Times,serif\" font-size=\"14.00\" fill=\"#000000\">value = 223.56</text>\n",
       "</g>\n",
       "<!-- 14&#45;&gt;16 -->\n",
       "<g id=\"edge16\" class=\"edge\">\n",
       "<title>14&#45;&gt;16</title>\n",
       "<path fill=\"none\" stroke=\"#000000\" d=\"M834.9248,-185.8089C848.9008,-174.2586 864.6415,-161.2497 878.5706,-149.7381\"/>\n",
       "<polygon fill=\"#000000\" stroke=\"#000000\" points=\"881.0568,-152.2239 886.5354,-143.1555 876.5975,-146.8281 881.0568,-152.2239\"/>\n",
       "</g>\n",
       "</g>\n",
       "</svg>\n"
      ],
      "text/plain": [
       "<graphviz.files.Source at 0x1a1d28da90>"
      ]
     },
     "execution_count": 16,
     "metadata": {},
     "output_type": "execute_result"
    }
   ],
   "source": [
    "graph_1"
   ]
  },
  {
   "cell_type": "markdown",
   "metadata": {},
   "source": [
    "Here, we can see that our tree is much simpler than our unbounded tree.  And it also scores higher on our test set."
   ]
  },
  {
   "cell_type": "markdown",
   "metadata": {},
   "source": [
    "### Summary"
   ]
  },
  {
   "cell_type": "markdown",
   "metadata": {},
   "source": [
    "In this lesson, we saw overfitting in decision trees.  Decision trees are highly flexible, allowing decision trees to closely match any data.  This is useful when decision trees are responding to underlying patterns in the data, but makes them prone to overfitting as they are also flexible enough to respond to pure noise.\n",
    "\n",
    "The number of datapoints in our leaf nodes influences the flexibility of our decision trees.  Without a minimum sample size on our leaf nodes, our tree makes a separate prediction based on a sample size of just one datapoint.  To correct for this, we can assign a `min_samples_leaf` parameter.  \n",
    "\n",
    "We chose the value of this parameter the same way that we chose other hyperparameters, by trying different numbers and assessing the respective model's performance against the holdout set.  We then chose the hyperparameter that had the highest accuracy on our holdout set."
   ]
  }
 ],
 "metadata": {
  "kernelspec": {
   "display_name": "Python 3",
   "language": "python",
   "name": "python3"
  },
  "language_info": {
   "codemirror_mode": {
    "name": "ipython",
    "version": 3
   },
   "file_extension": ".py",
   "mimetype": "text/x-python",
   "name": "python",
   "nbconvert_exporter": "python",
   "pygments_lexer": "ipython3",
   "version": "3.7.3"
  }
 },
 "nbformat": 4,
 "nbformat_minor": 2
}
