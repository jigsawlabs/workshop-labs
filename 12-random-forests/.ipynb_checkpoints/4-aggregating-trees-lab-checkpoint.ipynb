{
 "cells": [
  {
   "cell_type": "markdown",
   "metadata": {},
   "source": [
    "# Aggregating Trees Lab"
   ]
  },
  {
   "cell_type": "markdown",
   "metadata": {},
   "source": [
    "### Introduction"
   ]
  },
  {
   "cell_type": "markdown",
   "metadata": {},
   "source": [
    "In this lesson, we'll see the benefits of aggregating trees in action."
   ]
  },
  {
   "cell_type": "markdown",
   "metadata": {},
   "source": [
    "### Loading our data"
   ]
  },
  {
   "cell_type": "markdown",
   "metadata": {},
   "source": [
    "For this lab, let's work with the diabetes dataset."
   ]
  },
  {
   "cell_type": "markdown",
   "metadata": {},
   "source": [
    "Begin by loading the diabetes dataset from sklearn.  Assign `X` to our feature variables and `y` to the target variable."
   ]
  },
  {
   "cell_type": "code",
   "execution_count": 140,
   "metadata": {},
   "outputs": [],
   "source": [
    "from sklearn.datasets import load_diabetes\n",
    "\n",
    "dataset = load_diabetes()\n",
    "X = dataset['data']\n",
    "y = dataset['target']\n"
   ]
  },
  {
   "cell_type": "code",
   "execution_count": 141,
   "metadata": {},
   "outputs": [
    {
     "data": {
      "text/plain": [
       "(442, 10)"
      ]
     },
     "execution_count": 141,
     "metadata": {},
     "output_type": "execute_result"
    }
   ],
   "source": [
    "X.shape\n",
    "# (442, 10)"
   ]
  },
  {
   "cell_type": "code",
   "execution_count": 142,
   "metadata": {},
   "outputs": [
    {
     "data": {
      "text/plain": [
       "(442,)"
      ]
     },
     "execution_count": 142,
     "metadata": {},
     "output_type": "execute_result"
    }
   ],
   "source": [
    "y.shape\n",
    "# (442,)"
   ]
  },
  {
   "cell_type": "markdown",
   "metadata": {},
   "source": [
    "Next, let's split our data into training, test and validation sets.\n",
    "\n",
    "Perform this by:\n",
    "1. Splitting the data into training and test sets\n",
    "2. Splitting the training set into training and validation sets\n",
    "\n",
    "* Use the `random_state=1` and `test_size=0.2` for both splits."
   ]
  },
  {
   "cell_type": "code",
   "execution_count": 143,
   "metadata": {},
   "outputs": [],
   "source": [
    "from sklearn.model_selection import train_test_split\n",
    "\n",
    "X_train, X_test, y_train, y_test = train_test_split(X, y, test_size=0.2, random_state=1)\n",
    "\n",
    "X_train, X_val, y_train, y_val = train_test_split(X_train, y_train, test_size=0.2, random_state=1)"
   ]
  },
  {
   "cell_type": "code",
   "execution_count": 144,
   "metadata": {},
   "outputs": [
    {
     "data": {
      "text/plain": [
       "array([[-0.07453279,  0.05068012, -0.00943939,  0.01498661, -0.03734373,\n",
       "        -0.02166853, -0.01394774, -0.00259226, -0.03324879,  0.01134862]])"
      ]
     },
     "execution_count": 144,
     "metadata": {},
     "output_type": "execute_result"
    }
   ],
   "source": [
    "X_train[:1]\n",
    "# array([[-0.07453279,  0.05068012, -0.00943939,  0.01498661, -0.03734373,\n",
    "#         -0.02166853, -0.01394774, -0.00259226, -0.03324879,  0.01134862]])"
   ]
  },
  {
   "cell_type": "code",
   "execution_count": 145,
   "metadata": {},
   "outputs": [
    {
     "data": {
      "text/plain": [
       "array([[ 0.01991321,  0.05068012,  0.01427248,  0.0631868 ,  0.01494247,\n",
       "         0.02029337, -0.04708248,  0.03430886,  0.04666077,  0.09004865]])"
      ]
     },
     "execution_count": 145,
     "metadata": {},
     "output_type": "execute_result"
    }
   ],
   "source": [
    "X_val[:1]\n",
    "# array([[ 0.01991321,  0.05068012,  0.01427248,  0.0631868 ,  0.01494247,\n",
    "#         0.02029337, -0.04708248,  0.03430886,  0.04666077,  0.09004865]])"
   ]
  },
  {
   "cell_type": "code",
   "execution_count": 146,
   "metadata": {},
   "outputs": [
    {
     "data": {
      "text/plain": [
       "array([[ 0.04170844, -0.04464164, -0.03207344, -0.06190417,  0.07961226,\n",
       "         0.05098192,  0.05600338, -0.00997249,  0.04506617, -0.05906719]])"
      ]
     },
     "execution_count": 146,
     "metadata": {},
     "output_type": "execute_result"
    }
   ],
   "source": [
    "X_test[:1]\n",
    "\n",
    "#array([[ 0.04170844, -0.04464164, -0.03207344, -0.06190417,  0.07961226,\n",
    "#         0.05098192,  0.05600338, -0.00997249,  0.04506617, -0.05906719]])"
   ]
  },
  {
   "cell_type": "markdown",
   "metadata": {},
   "source": [
    "### Now we'll begin aggregating our trees."
   ]
  },
  {
   "cell_type": "markdown",
   "metadata": {},
   "source": [
    "We'll begin by fitting multiple decision trees."
   ]
  },
  {
   "cell_type": "code",
   "execution_count": 147,
   "metadata": {},
   "outputs": [],
   "source": [
    "from sklearn.tree import DecisionTreeRegressor"
   ]
  },
  {
   "cell_type": "code",
   "execution_count": 148,
   "metadata": {},
   "outputs": [
    {
     "data": {
      "text/plain": [
       "DecisionTreeRegressor(criterion='mse', max_depth=None, max_features=None,\n",
       "           max_leaf_nodes=None, min_impurity_decrease=0.0,\n",
       "           min_impurity_split=None, min_samples_leaf=1,\n",
       "           min_samples_split=2, min_weight_fraction_leaf=0.0,\n",
       "           presort=False, random_state=None, splitter='best')"
      ]
     },
     "execution_count": 148,
     "metadata": {},
     "output_type": "execute_result"
    }
   ],
   "source": [
    "dtr = DecisionTreeRegressor()\n",
    "dtr.fit(X_train, y_train)"
   ]
  },
  {
   "cell_type": "code",
   "execution_count": 149,
   "metadata": {},
   "outputs": [
    {
     "data": {
      "text/plain": [
       "0.22211951488597947"
      ]
     },
     "execution_count": 149,
     "metadata": {},
     "output_type": "execute_result"
    }
   ],
   "source": [
    "dtr.score(X_val, y_val)"
   ]
  },
  {
   "cell_type": "markdown",
   "metadata": {},
   "source": [
    "Now let's create a list of five trees.  Fit each tree on the entire training set.  Set the random state on the `DecistionTreeRegressor` to one."
   ]
  },
  {
   "cell_type": "code",
   "execution_count": 154,
   "metadata": {},
   "outputs": [],
   "source": [
    "fitted_trees = []\n",
    "for idx in range(0, 5):\n",
    "    dtr = DecisionTreeRegressor(random_state=1)\n",
    "    dtr.fit(X_train, y_train)\n",
    "    fitted_trees.append(dtr)"
   ]
  },
  {
   "cell_type": "code",
   "execution_count": 155,
   "metadata": {},
   "outputs": [
    {
     "data": {
      "text/plain": [
       "[0.11528633202604144,\n",
       " 0.11528633202604144,\n",
       " 0.11528633202604144,\n",
       " 0.11528633202604144,\n",
       " 0.11528633202604144]"
      ]
     },
     "execution_count": 155,
     "metadata": {},
     "output_type": "execute_result"
    }
   ],
   "source": [
    "[tree.score(X_val, y_val) for tree in fitted_trees]"
   ]
  },
  {
   "cell_type": "markdown",
   "metadata": {},
   "source": [
    "Now each tree performs the same, because each tree is the same."
   ]
  },
  {
   "cell_type": "code",
   "execution_count": 158,
   "metadata": {},
   "outputs": [
    {
     "data": {
      "image/svg+xml": [
       "<?xml version=\"1.0\" encoding=\"UTF-8\" standalone=\"no\"?>\n",
       "<!DOCTYPE svg PUBLIC \"-//W3C//DTD SVG 1.1//EN\"\n",
       " \"http://www.w3.org/Graphics/SVG/1.1/DTD/svg11.dtd\">\n",
       "<!-- Generated by graphviz version 2.40.1 (20161225.0304)\n",
       " -->\n",
       "<!-- Title: Tree Pages: 1 -->\n",
       "<svg width=\"304pt\" height=\"244pt\"\n",
       " viewBox=\"0.00 0.00 304.00 244.00\" xmlns=\"http://www.w3.org/2000/svg\" xmlns:xlink=\"http://www.w3.org/1999/xlink\">\n",
       "<g id=\"graph0\" class=\"graph\" transform=\"scale(1 1) rotate(0) translate(4 240)\">\n",
       "<title>Tree</title>\n",
       "<polygon fill=\"#ffffff\" stroke=\"transparent\" points=\"-4,4 -4,-240 300,-240 300,4 -4,4\"/>\n",
       "<!-- 0 -->\n",
       "<g id=\"node1\" class=\"node\">\n",
       "<title>0</title>\n",
       "<polygon fill=\"none\" stroke=\"#000000\" points=\"201.2133,-236 94.7867,-236 94.7867,-172 201.2133,-172 201.2133,-236\"/>\n",
       "<text text-anchor=\"middle\" x=\"148\" y=\"-220.8\" font-family=\"Times,serif\" font-size=\"14.00\" fill=\"#000000\">s5 &lt;= 0.022</text>\n",
       "<text text-anchor=\"middle\" x=\"148\" y=\"-206.8\" font-family=\"Times,serif\" font-size=\"14.00\" fill=\"#000000\">mse = 5942.067</text>\n",
       "<text text-anchor=\"middle\" x=\"148\" y=\"-192.8\" font-family=\"Times,serif\" font-size=\"14.00\" fill=\"#000000\">samples = 282</text>\n",
       "<text text-anchor=\"middle\" x=\"148\" y=\"-178.8\" font-family=\"Times,serif\" font-size=\"14.00\" fill=\"#000000\">value = 150.337</text>\n",
       "</g>\n",
       "<!-- 1 -->\n",
       "<g id=\"node2\" class=\"node\">\n",
       "<title>1</title>\n",
       "<polygon fill=\"none\" stroke=\"#000000\" points=\"138.9473,-136 33.0527,-136 33.0527,-72 138.9473,-72 138.9473,-136\"/>\n",
       "<text text-anchor=\"middle\" x=\"86\" y=\"-120.8\" font-family=\"Times,serif\" font-size=\"14.00\" fill=\"#000000\">bmi &lt;= 0.006</text>\n",
       "<text text-anchor=\"middle\" x=\"86\" y=\"-106.8\" font-family=\"Times,serif\" font-size=\"14.00\" fill=\"#000000\">mse = 3929.642</text>\n",
       "<text text-anchor=\"middle\" x=\"86\" y=\"-92.8\" font-family=\"Times,serif\" font-size=\"14.00\" fill=\"#000000\">samples = 187</text>\n",
       "<text text-anchor=\"middle\" x=\"86\" y=\"-78.8\" font-family=\"Times,serif\" font-size=\"14.00\" fill=\"#000000\">value = 119.77</text>\n",
       "</g>\n",
       "<!-- 0&#45;&gt;1 -->\n",
       "<g id=\"edge1\" class=\"edge\">\n",
       "<title>0&#45;&gt;1</title>\n",
       "<path fill=\"none\" stroke=\"#000000\" d=\"M128.0415,-171.8089C122.6763,-163.1553 116.8035,-153.683 111.1937,-144.635\"/>\n",
       "<polygon fill=\"#000000\" stroke=\"#000000\" points=\"114.1652,-142.7855 105.9211,-136.1308 108.2159,-146.4741 114.1652,-142.7855\"/>\n",
       "<text text-anchor=\"middle\" x=\"100.2118\" y=\"-156.2701\" font-family=\"Times,serif\" font-size=\"14.00\" fill=\"#000000\">True</text>\n",
       "</g>\n",
       "<!-- 356 -->\n",
       "<g id=\"node5\" class=\"node\">\n",
       "<title>356</title>\n",
       "<polygon fill=\"none\" stroke=\"#000000\" points=\"263.2133,-136 156.7867,-136 156.7867,-72 263.2133,-72 263.2133,-136\"/>\n",
       "<text text-anchor=\"middle\" x=\"210\" y=\"-120.8\" font-family=\"Times,serif\" font-size=\"14.00\" fill=\"#000000\">bp &lt;= 0.058</text>\n",
       "<text text-anchor=\"middle\" x=\"210\" y=\"-106.8\" font-family=\"Times,serif\" font-size=\"14.00\" fill=\"#000000\">mse = 4443.976</text>\n",
       "<text text-anchor=\"middle\" x=\"210\" y=\"-92.8\" font-family=\"Times,serif\" font-size=\"14.00\" fill=\"#000000\">samples = 95</text>\n",
       "<text text-anchor=\"middle\" x=\"210\" y=\"-78.8\" font-family=\"Times,serif\" font-size=\"14.00\" fill=\"#000000\">value = 210.505</text>\n",
       "</g>\n",
       "<!-- 0&#45;&gt;356 -->\n",
       "<g id=\"edge4\" class=\"edge\">\n",
       "<title>0&#45;&gt;356</title>\n",
       "<path fill=\"none\" stroke=\"#000000\" d=\"M167.9585,-171.8089C173.3237,-163.1553 179.1965,-153.683 184.8063,-144.635\"/>\n",
       "<polygon fill=\"#000000\" stroke=\"#000000\" points=\"187.7841,-146.4741 190.0789,-136.1308 181.8348,-142.7855 187.7841,-146.4741\"/>\n",
       "<text text-anchor=\"middle\" x=\"195.7882\" y=\"-156.2701\" font-family=\"Times,serif\" font-size=\"14.00\" fill=\"#000000\">False</text>\n",
       "</g>\n",
       "<!-- 2 -->\n",
       "<g id=\"node3\" class=\"node\">\n",
       "<title>2</title>\n",
       "<polygon fill=\"none\" stroke=\"#000000\" points=\"54,-36 0,-36 0,0 54,0 54,-36\"/>\n",
       "<text text-anchor=\"middle\" x=\"27\" y=\"-13.8\" font-family=\"Times,serif\" font-size=\"14.00\" fill=\"#000000\">(...)</text>\n",
       "</g>\n",
       "<!-- 1&#45;&gt;2 -->\n",
       "<g id=\"edge2\" class=\"edge\">\n",
       "<title>1&#45;&gt;2</title>\n",
       "<path fill=\"none\" stroke=\"#000000\" d=\"M64.0306,-71.9768C57.8384,-62.9509 51.1718,-53.2335 45.2249,-44.5651\"/>\n",
       "<polygon fill=\"#000000\" stroke=\"#000000\" points=\"48.1053,-42.5768 39.562,-36.3108 42.3331,-46.5368 48.1053,-42.5768\"/>\n",
       "</g>\n",
       "<!-- 263 -->\n",
       "<g id=\"node4\" class=\"node\">\n",
       "<title>263</title>\n",
       "<polygon fill=\"none\" stroke=\"#000000\" points=\"126,-36 72,-36 72,0 126,0 126,-36\"/>\n",
       "<text text-anchor=\"middle\" x=\"99\" y=\"-13.8\" font-family=\"Times,serif\" font-size=\"14.00\" fill=\"#000000\">(...)</text>\n",
       "</g>\n",
       "<!-- 1&#45;&gt;263 -->\n",
       "<g id=\"edge3\" class=\"edge\">\n",
       "<title>1&#45;&gt;263</title>\n",
       "<path fill=\"none\" stroke=\"#000000\" d=\"M90.8407,-71.9768C92.1198,-63.515 93.4908,-54.4455 94.7369,-46.2023\"/>\n",
       "<polygon fill=\"#000000\" stroke=\"#000000\" points=\"98.198,-46.7216 96.2321,-36.3108 91.2767,-45.6753 98.198,-46.7216\"/>\n",
       "</g>\n",
       "<!-- 357 -->\n",
       "<g id=\"node6\" class=\"node\">\n",
       "<title>357</title>\n",
       "<polygon fill=\"none\" stroke=\"#000000\" points=\"224,-36 170,-36 170,0 224,0 224,-36\"/>\n",
       "<text text-anchor=\"middle\" x=\"197\" y=\"-13.8\" font-family=\"Times,serif\" font-size=\"14.00\" fill=\"#000000\">(...)</text>\n",
       "</g>\n",
       "<!-- 356&#45;&gt;357 -->\n",
       "<g id=\"edge5\" class=\"edge\">\n",
       "<title>356&#45;&gt;357</title>\n",
       "<path fill=\"none\" stroke=\"#000000\" d=\"M205.1593,-71.9768C203.8802,-63.515 202.5092,-54.4455 201.2631,-46.2023\"/>\n",
       "<polygon fill=\"#000000\" stroke=\"#000000\" points=\"204.7233,-45.6753 199.7679,-36.3108 197.802,-46.7216 204.7233,-45.6753\"/>\n",
       "</g>\n",
       "<!-- 492 -->\n",
       "<g id=\"node7\" class=\"node\">\n",
       "<title>492</title>\n",
       "<polygon fill=\"none\" stroke=\"#000000\" points=\"296,-36 242,-36 242,0 296,0 296,-36\"/>\n",
       "<text text-anchor=\"middle\" x=\"269\" y=\"-13.8\" font-family=\"Times,serif\" font-size=\"14.00\" fill=\"#000000\">(...)</text>\n",
       "</g>\n",
       "<!-- 356&#45;&gt;492 -->\n",
       "<g id=\"edge6\" class=\"edge\">\n",
       "<title>356&#45;&gt;492</title>\n",
       "<path fill=\"none\" stroke=\"#000000\" d=\"M231.9694,-71.9768C238.1616,-62.9509 244.8282,-53.2335 250.7751,-44.5651\"/>\n",
       "<polygon fill=\"#000000\" stroke=\"#000000\" points=\"253.6669,-46.5368 256.438,-36.3108 247.8947,-42.5768 253.6669,-46.5368\"/>\n",
       "</g>\n",
       "</g>\n",
       "</svg>\n"
      ],
      "text/plain": [
       "<graphviz.files.Source at 0x1a27f88278>"
      ]
     },
     "execution_count": 158,
     "metadata": {},
     "output_type": "execute_result"
    }
   ],
   "source": [
    "from sklearn import tree\n",
    "from IPython.display import SVG, display\n",
    "from graphviz import Source \n",
    "\n",
    "\n",
    "graph_1 = Source(tree.export_graphviz(fitted_trees[0], out_file=None,\n",
    "                                feature_names=dataset['feature_names'], max_depth = 1))\n",
    "\n",
    "graph_1"
   ]
  },
  {
   "cell_type": "code",
   "execution_count": 159,
   "metadata": {},
   "outputs": [
    {
     "data": {
      "image/svg+xml": [
       "<?xml version=\"1.0\" encoding=\"UTF-8\" standalone=\"no\"?>\n",
       "<!DOCTYPE svg PUBLIC \"-//W3C//DTD SVG 1.1//EN\"\n",
       " \"http://www.w3.org/Graphics/SVG/1.1/DTD/svg11.dtd\">\n",
       "<!-- Generated by graphviz version 2.40.1 (20161225.0304)\n",
       " -->\n",
       "<!-- Title: Tree Pages: 1 -->\n",
       "<svg width=\"304pt\" height=\"244pt\"\n",
       " viewBox=\"0.00 0.00 304.00 244.00\" xmlns=\"http://www.w3.org/2000/svg\" xmlns:xlink=\"http://www.w3.org/1999/xlink\">\n",
       "<g id=\"graph0\" class=\"graph\" transform=\"scale(1 1) rotate(0) translate(4 240)\">\n",
       "<title>Tree</title>\n",
       "<polygon fill=\"#ffffff\" stroke=\"transparent\" points=\"-4,4 -4,-240 300,-240 300,4 -4,4\"/>\n",
       "<!-- 0 -->\n",
       "<g id=\"node1\" class=\"node\">\n",
       "<title>0</title>\n",
       "<polygon fill=\"none\" stroke=\"#000000\" points=\"201.2133,-236 94.7867,-236 94.7867,-172 201.2133,-172 201.2133,-236\"/>\n",
       "<text text-anchor=\"middle\" x=\"148\" y=\"-220.8\" font-family=\"Times,serif\" font-size=\"14.00\" fill=\"#000000\">s5 &lt;= 0.022</text>\n",
       "<text text-anchor=\"middle\" x=\"148\" y=\"-206.8\" font-family=\"Times,serif\" font-size=\"14.00\" fill=\"#000000\">mse = 5942.067</text>\n",
       "<text text-anchor=\"middle\" x=\"148\" y=\"-192.8\" font-family=\"Times,serif\" font-size=\"14.00\" fill=\"#000000\">samples = 282</text>\n",
       "<text text-anchor=\"middle\" x=\"148\" y=\"-178.8\" font-family=\"Times,serif\" font-size=\"14.00\" fill=\"#000000\">value = 150.337</text>\n",
       "</g>\n",
       "<!-- 1 -->\n",
       "<g id=\"node2\" class=\"node\">\n",
       "<title>1</title>\n",
       "<polygon fill=\"none\" stroke=\"#000000\" points=\"138.9473,-136 33.0527,-136 33.0527,-72 138.9473,-72 138.9473,-136\"/>\n",
       "<text text-anchor=\"middle\" x=\"86\" y=\"-120.8\" font-family=\"Times,serif\" font-size=\"14.00\" fill=\"#000000\">bmi &lt;= 0.006</text>\n",
       "<text text-anchor=\"middle\" x=\"86\" y=\"-106.8\" font-family=\"Times,serif\" font-size=\"14.00\" fill=\"#000000\">mse = 3929.642</text>\n",
       "<text text-anchor=\"middle\" x=\"86\" y=\"-92.8\" font-family=\"Times,serif\" font-size=\"14.00\" fill=\"#000000\">samples = 187</text>\n",
       "<text text-anchor=\"middle\" x=\"86\" y=\"-78.8\" font-family=\"Times,serif\" font-size=\"14.00\" fill=\"#000000\">value = 119.77</text>\n",
       "</g>\n",
       "<!-- 0&#45;&gt;1 -->\n",
       "<g id=\"edge1\" class=\"edge\">\n",
       "<title>0&#45;&gt;1</title>\n",
       "<path fill=\"none\" stroke=\"#000000\" d=\"M128.0415,-171.8089C122.6763,-163.1553 116.8035,-153.683 111.1937,-144.635\"/>\n",
       "<polygon fill=\"#000000\" stroke=\"#000000\" points=\"114.1652,-142.7855 105.9211,-136.1308 108.2159,-146.4741 114.1652,-142.7855\"/>\n",
       "<text text-anchor=\"middle\" x=\"100.2118\" y=\"-156.2701\" font-family=\"Times,serif\" font-size=\"14.00\" fill=\"#000000\">True</text>\n",
       "</g>\n",
       "<!-- 356 -->\n",
       "<g id=\"node5\" class=\"node\">\n",
       "<title>356</title>\n",
       "<polygon fill=\"none\" stroke=\"#000000\" points=\"263.2133,-136 156.7867,-136 156.7867,-72 263.2133,-72 263.2133,-136\"/>\n",
       "<text text-anchor=\"middle\" x=\"210\" y=\"-120.8\" font-family=\"Times,serif\" font-size=\"14.00\" fill=\"#000000\">bp &lt;= 0.058</text>\n",
       "<text text-anchor=\"middle\" x=\"210\" y=\"-106.8\" font-family=\"Times,serif\" font-size=\"14.00\" fill=\"#000000\">mse = 4443.976</text>\n",
       "<text text-anchor=\"middle\" x=\"210\" y=\"-92.8\" font-family=\"Times,serif\" font-size=\"14.00\" fill=\"#000000\">samples = 95</text>\n",
       "<text text-anchor=\"middle\" x=\"210\" y=\"-78.8\" font-family=\"Times,serif\" font-size=\"14.00\" fill=\"#000000\">value = 210.505</text>\n",
       "</g>\n",
       "<!-- 0&#45;&gt;356 -->\n",
       "<g id=\"edge4\" class=\"edge\">\n",
       "<title>0&#45;&gt;356</title>\n",
       "<path fill=\"none\" stroke=\"#000000\" d=\"M167.9585,-171.8089C173.3237,-163.1553 179.1965,-153.683 184.8063,-144.635\"/>\n",
       "<polygon fill=\"#000000\" stroke=\"#000000\" points=\"187.7841,-146.4741 190.0789,-136.1308 181.8348,-142.7855 187.7841,-146.4741\"/>\n",
       "<text text-anchor=\"middle\" x=\"195.7882\" y=\"-156.2701\" font-family=\"Times,serif\" font-size=\"14.00\" fill=\"#000000\">False</text>\n",
       "</g>\n",
       "<!-- 2 -->\n",
       "<g id=\"node3\" class=\"node\">\n",
       "<title>2</title>\n",
       "<polygon fill=\"none\" stroke=\"#000000\" points=\"54,-36 0,-36 0,0 54,0 54,-36\"/>\n",
       "<text text-anchor=\"middle\" x=\"27\" y=\"-13.8\" font-family=\"Times,serif\" font-size=\"14.00\" fill=\"#000000\">(...)</text>\n",
       "</g>\n",
       "<!-- 1&#45;&gt;2 -->\n",
       "<g id=\"edge2\" class=\"edge\">\n",
       "<title>1&#45;&gt;2</title>\n",
       "<path fill=\"none\" stroke=\"#000000\" d=\"M64.0306,-71.9768C57.8384,-62.9509 51.1718,-53.2335 45.2249,-44.5651\"/>\n",
       "<polygon fill=\"#000000\" stroke=\"#000000\" points=\"48.1053,-42.5768 39.562,-36.3108 42.3331,-46.5368 48.1053,-42.5768\"/>\n",
       "</g>\n",
       "<!-- 263 -->\n",
       "<g id=\"node4\" class=\"node\">\n",
       "<title>263</title>\n",
       "<polygon fill=\"none\" stroke=\"#000000\" points=\"126,-36 72,-36 72,0 126,0 126,-36\"/>\n",
       "<text text-anchor=\"middle\" x=\"99\" y=\"-13.8\" font-family=\"Times,serif\" font-size=\"14.00\" fill=\"#000000\">(...)</text>\n",
       "</g>\n",
       "<!-- 1&#45;&gt;263 -->\n",
       "<g id=\"edge3\" class=\"edge\">\n",
       "<title>1&#45;&gt;263</title>\n",
       "<path fill=\"none\" stroke=\"#000000\" d=\"M90.8407,-71.9768C92.1198,-63.515 93.4908,-54.4455 94.7369,-46.2023\"/>\n",
       "<polygon fill=\"#000000\" stroke=\"#000000\" points=\"98.198,-46.7216 96.2321,-36.3108 91.2767,-45.6753 98.198,-46.7216\"/>\n",
       "</g>\n",
       "<!-- 357 -->\n",
       "<g id=\"node6\" class=\"node\">\n",
       "<title>357</title>\n",
       "<polygon fill=\"none\" stroke=\"#000000\" points=\"224,-36 170,-36 170,0 224,0 224,-36\"/>\n",
       "<text text-anchor=\"middle\" x=\"197\" y=\"-13.8\" font-family=\"Times,serif\" font-size=\"14.00\" fill=\"#000000\">(...)</text>\n",
       "</g>\n",
       "<!-- 356&#45;&gt;357 -->\n",
       "<g id=\"edge5\" class=\"edge\">\n",
       "<title>356&#45;&gt;357</title>\n",
       "<path fill=\"none\" stroke=\"#000000\" d=\"M205.1593,-71.9768C203.8802,-63.515 202.5092,-54.4455 201.2631,-46.2023\"/>\n",
       "<polygon fill=\"#000000\" stroke=\"#000000\" points=\"204.7233,-45.6753 199.7679,-36.3108 197.802,-46.7216 204.7233,-45.6753\"/>\n",
       "</g>\n",
       "<!-- 492 -->\n",
       "<g id=\"node7\" class=\"node\">\n",
       "<title>492</title>\n",
       "<polygon fill=\"none\" stroke=\"#000000\" points=\"296,-36 242,-36 242,0 296,0 296,-36\"/>\n",
       "<text text-anchor=\"middle\" x=\"269\" y=\"-13.8\" font-family=\"Times,serif\" font-size=\"14.00\" fill=\"#000000\">(...)</text>\n",
       "</g>\n",
       "<!-- 356&#45;&gt;492 -->\n",
       "<g id=\"edge6\" class=\"edge\">\n",
       "<title>356&#45;&gt;492</title>\n",
       "<path fill=\"none\" stroke=\"#000000\" d=\"M231.9694,-71.9768C238.1616,-62.9509 244.8282,-53.2335 250.7751,-44.5651\"/>\n",
       "<polygon fill=\"#000000\" stroke=\"#000000\" points=\"253.6669,-46.5368 256.438,-36.3108 247.8947,-42.5768 253.6669,-46.5368\"/>\n",
       "</g>\n",
       "</g>\n",
       "</svg>\n"
      ],
      "text/plain": [
       "<graphviz.files.Source at 0x1a27fb37b8>"
      ]
     },
     "execution_count": 159,
     "metadata": {},
     "output_type": "execute_result"
    }
   ],
   "source": [
    "from sklearn import tree\n",
    "from IPython.display import SVG, display\n",
    "from graphviz import Source \n",
    "\n",
    "\n",
    "graph_1 = Source(tree.export_graphviz(fitted_trees[1], out_file=None,\n",
    "                                feature_names=dataset['feature_names'], max_depth = 1))\n",
    "\n",
    "graph_1"
   ]
  },
  {
   "cell_type": "markdown",
   "metadata": {},
   "source": [
    "### Using Subsampling"
   ]
  },
  {
   "cell_type": "markdown",
   "metadata": {},
   "source": [
    "Ok, next, let's use subsampling to get a different set of trees."
   ]
  },
  {
   "cell_type": "markdown",
   "metadata": {},
   "source": [
    "With numpy we cannot directly subsample from the array.  But we can subsample from our training data by first selecting a set of indices."
   ]
  },
  {
   "cell_type": "code",
   "execution_count": 182,
   "metadata": {},
   "outputs": [
    {
     "data": {
      "text/plain": [
       "(225, 10)"
      ]
     },
     "execution_count": 182,
     "metadata": {},
     "output_type": "execute_result"
    }
   ],
   "source": [
    "int(.8*len(X_train))\n",
    "# 225\n",
    "np.random.seed(1)\n",
    "\n",
    "selected_idx = np.random.choice(len(X_train), 225)\n",
    "selected_idx[:3]\n",
    "\n",
    "# array([ 37, 235,  72])\n",
    "selected_X_train = X_train[selected_idx]\n",
    "selected_X_train.shape"
   ]
  },
  {
   "cell_type": "markdown",
   "metadata": {},
   "source": [
    "So the above code randomly selects eighty percent of the data.  Use this code to create ten additional trees, each trained on a random subset of 80 percent of the data."
   ]
  },
  {
   "cell_type": "code",
   "execution_count": 183,
   "metadata": {},
   "outputs": [],
   "source": [
    "subsample_trees = []\n",
    "for idx in range(0, 10):\n",
    "    selected_idx = np.random.choice(len(X_train), int(.8*len(X_train)))\n",
    "    selected_X_train = X_train[selected_idx]\n",
    "    selected_y_train = y_train[selected_idx]\n",
    "    dtr = DecisionTreeRegressor(random_state=1)\n",
    "    dtr.fit(selected_X_train, selected_y_train)\n",
    "    subsample_trees.append(dtr)"
   ]
  },
  {
   "cell_type": "markdown",
   "metadata": {},
   "source": [
    "Now we can see a range of scores."
   ]
  },
  {
   "cell_type": "code",
   "execution_count": 207,
   "metadata": {},
   "outputs": [
    {
     "data": {
      "text/plain": [
       "[0.24923843719791383,\n",
       " 0.03647017991735613,\n",
       " 0.1325589994677966,\n",
       " 0.07175112929272864,\n",
       " -0.03401705945212541,\n",
       " -0.4232647229908093,\n",
       " -0.10466898863321772,\n",
       " 0.13665209025236702,\n",
       " 0.11395563834822497,\n",
       " -0.01769080946109436]"
      ]
     },
     "execution_count": 207,
     "metadata": {},
     "output_type": "execute_result"
    }
   ],
   "source": [
    "tree_subsample_scores = [tree.score(X_val, y_val) for tree in subsample_trees]\n",
    "tree_subsample_scores"
   ]
  },
  {
   "cell_type": "markdown",
   "metadata": {},
   "source": [
    "As we can see, individually, our trees don't perform any better than they did originally.  In many cases, the trees perform worse.  But the key component of a random forest is that our trees are different.  And that aggregating these differences will produce a more accurate model."
   ]
  },
  {
   "cell_type": "markdown",
   "metadata": {},
   "source": [
    "Let's test this theory."
   ]
  },
  {
   "cell_type": "markdown",
   "metadata": {},
   "source": [
    "### Aggregating trees"
   ]
  },
  {
   "cell_type": "markdown",
   "metadata": {},
   "source": [
    "First, let's use our first tree to make predictions on our validation set."
   ]
  },
  {
   "cell_type": "code",
   "execution_count": 186,
   "metadata": {},
   "outputs": [],
   "source": [
    "first_tree = subsample_trees[0]"
   ]
  },
  {
   "cell_type": "code",
   "execution_count": 188,
   "metadata": {},
   "outputs": [],
   "source": [
    "predictions = first_tree.predict(X_val)"
   ]
  },
  {
   "cell_type": "code",
   "execution_count": 190,
   "metadata": {},
   "outputs": [
    {
     "data": {
      "text/plain": [
       "array([268.,  48., 221., 197.,  63.,  48.,  61., 233., 131., 248., 257.,\n",
       "       111.,  99.,  47., 128., 175., 270., 210., 143., 237.,  72., 104.,\n",
       "       197., 101., 221., 175., 160., 185., 206., 116.,  84.,  75., 248.,\n",
       "       175.,  95., 232., 134.,  70.,  73., 259.,  45., 198.,  83.,  71.,\n",
       "       128., 232.,  72., 110., 150.,  73., 206., 185.,  44., 248., 235.,\n",
       "       143.,  53., 122.,  86.,  70., 116., 107., 113.,  71., 151., 134.,\n",
       "       192.,  65.,  48.,  84., 197.])"
      ]
     },
     "execution_count": 190,
     "metadata": {},
     "output_type": "execute_result"
    }
   ],
   "source": [
    "predictions"
   ]
  },
  {
   "cell_type": "markdown",
   "metadata": {},
   "source": [
    "So here, we see the predictions that our tree makes for each observation.  \n",
    "\n",
    "Now for a random forest of three trees, we should have three trees make predictions, and then get the mean prediction for each observation across these trees."
   ]
  },
  {
   "cell_type": "markdown",
   "metadata": {},
   "source": [
    "#### 1. Have each tree make predictions"
   ]
  },
  {
   "cell_type": "markdown",
   "metadata": {},
   "source": [
    "Ok, so now let's first create a matrix where each row is a set of predictions for each tree."
   ]
  },
  {
   "cell_type": "markdown",
   "metadata": {},
   "source": [
    "> Use `vstack` along with list comprehension, to place each set of tree predictions into a separate row"
   ]
  },
  {
   "cell_type": "code",
   "execution_count": 194,
   "metadata": {},
   "outputs": [],
   "source": [
    "import numpy as np\n",
    "tree_predictions = np.vstack([ tree.predict(X_val) for tree in subsample_trees])"
   ]
  },
  {
   "cell_type": "code",
   "execution_count": 195,
   "metadata": {},
   "outputs": [
    {
     "data": {
      "text/plain": [
       "(3, 71)"
      ]
     },
     "execution_count": 195,
     "metadata": {},
     "output_type": "execute_result"
    }
   ],
   "source": [
    "tree_predictions[:3].shape"
   ]
  },
  {
   "cell_type": "markdown",
   "metadata": {},
   "source": [
    "Now we have a matrix where each row is a separate set of predictions.  The next step is to begin to aggregate these predictions."
   ]
  },
  {
   "cell_type": "markdown",
   "metadata": {},
   "source": [
    "### 2. Aggregate predictions"
   ]
  },
  {
   "cell_type": "markdown",
   "metadata": {},
   "source": [
    "Our tree prediction matrix has a separate row for each set of predictions."
   ]
  },
  {
   "cell_type": "code",
   "execution_count": 198,
   "metadata": {},
   "outputs": [
    {
     "data": {
      "text/plain": [
       "array([[268.,  48., 221., 197.,  63.,  48.,  61., 233., 131., 248., 257.,\n",
       "        111.,  99.,  47., 128., 175., 270., 210., 143., 237.,  72., 104.,\n",
       "        197., 101., 221., 175., 160., 185., 206., 116.,  84.,  75., 248.,\n",
       "        175.,  95., 232., 134.,  70.,  73., 259.,  45., 198.,  83.,  71.,\n",
       "        128., 232.,  72., 110., 150.,  73., 206., 185.,  44., 248., 235.,\n",
       "        143.,  53., 122.,  86.,  70., 116., 107., 113.,  71., 151., 134.,\n",
       "        192.,  65.,  48.,  84., 197.],\n",
       "       [150.,  77., 221., 202., 158., 153.,  63., 281., 259., 118., 295.,\n",
       "         59.,  65.,  64., 150., 140., 246., 277.,  67.,  70., 141.,  72.,\n",
       "         96.,  65., 220., 277.,  87., 161., 146., 143.,  74.,  64., 202.,\n",
       "        277., 103., 259., 141., 281., 197., 279., 101., 236.,  49., 101.,\n",
       "        192., 265., 118.,  70.,  87., 190., 249., 249., 153., 202., 220.,\n",
       "         61., 129.,  67.,  87., 244., 104., 131., 145.,  54., 225.,  83.,\n",
       "        128.,  42.,  52.,  70., 202.]])"
      ]
     },
     "execution_count": 198,
     "metadata": {},
     "output_type": "execute_result"
    }
   ],
   "source": [
    "tree_predictions[:2]"
   ]
  },
  {
   "cell_type": "markdown",
   "metadata": {},
   "source": [
    "We want to take the mean prediction for each observation, across all of our rows.  If we just use `np.mean` numpy will calculate the mean score across all of our predictions.  But this isn't what we want."
   ]
  },
  {
   "cell_type": "code",
   "execution_count": 200,
   "metadata": {},
   "outputs": [
    {
     "data": {
      "text/plain": [
       "150.25774647887323"
      ]
     },
     "execution_count": 200,
     "metadata": {},
     "output_type": "execute_result"
    }
   ],
   "source": [
    "np.mean(tree_predictions)"
   ]
  },
  {
   "cell_type": "markdown",
   "metadata": {},
   "source": [
    "Instead, we want the mean prediction for each observation.  Or the mean across our rows.  To do so, use `np.mean` with `axis` set to `0`."
   ]
  },
  {
   "cell_type": "code",
   "execution_count": 201,
   "metadata": {},
   "outputs": [],
   "source": [
    "aggregated_predictions = np.mean(tree_predictions, axis = 0)"
   ]
  },
  {
   "cell_type": "code",
   "execution_count": 204,
   "metadata": {},
   "outputs": [
    {
     "data": {
      "text/plain": [
       "array([238.8,  68.5, 186.8, 161.1,  96.6,  83.9,  78.3, 259.6, 183.5,\n",
       "       149.2, 265.3,  83.3,  76.7,  59.8, 192.5, 118.2, 250.6, 201.5,\n",
       "       218.8, 167.3, 108. ,  89. , 137.1, 118.2, 218.6, 201.4, 109.3,\n",
       "       142.4, 155.9,  91.5, 117.4,  68.3, 205.5, 217.4, 156. , 233.9,\n",
       "       175.9, 209.3, 135.7, 268. , 118.3, 241.7,  83.6,  89.4, 197.6,\n",
       "       220.3,  85.8, 179.7, 158.4, 158.7, 143.9, 152.9,  73.7, 188.6,\n",
       "       255.3,  90.2,  60.5, 211.9, 160.4, 191.8,  81.1, 164.9, 107.7,\n",
       "        76.2, 158.2, 155.3, 181. ,  60.9,  71.7, 108.3, 141.2])"
      ]
     },
     "execution_count": 204,
     "metadata": {},
     "output_type": "execute_result"
    }
   ],
   "source": [
    "aggregated_predictions"
   ]
  },
  {
   "cell_type": "code",
   "execution_count": 203,
   "metadata": {},
   "outputs": [
    {
     "data": {
      "text/plain": [
       "(71,)"
      ]
     },
     "execution_count": 203,
     "metadata": {},
     "output_type": "execute_result"
    }
   ],
   "source": [
    "aggregated_predictions.shape"
   ]
  },
  {
   "cell_type": "markdown",
   "metadata": {},
   "source": [
    "So we still have a prediction for each of our datapoints, but now they are mean of the predictions of our trees."
   ]
  },
  {
   "cell_type": "markdown",
   "metadata": {},
   "source": [
    "Finally, let's see how this performs."
   ]
  },
  {
   "cell_type": "markdown",
   "metadata": {},
   "source": [
    "3. Calculate the $r^2$ for our combined trees."
   ]
  },
  {
   "cell_type": "code",
   "execution_count": 205,
   "metadata": {},
   "outputs": [
    {
     "data": {
      "text/plain": [
       "0.42552761574430875"
      ]
     },
     "execution_count": 205,
     "metadata": {},
     "output_type": "execute_result"
    }
   ],
   "source": [
    "r2_score(y_val, aggregated_predictions)"
   ]
  },
  {
   "cell_type": "markdown",
   "metadata": {},
   "source": [
    "So we can see that our score dramatically increased by aggregating the trees.  In fact, we performed better than with any individual tree."
   ]
  },
  {
   "cell_type": "code",
   "execution_count": 208,
   "metadata": {},
   "outputs": [
    {
     "data": {
      "text/plain": [
       "[0.24923843719791383,\n",
       " 0.03647017991735613,\n",
       " 0.1325589994677966,\n",
       " 0.07175112929272864,\n",
       " -0.03401705945212541,\n",
       " -0.4232647229908093,\n",
       " -0.10466898863321772,\n",
       " 0.13665209025236702,\n",
       " 0.11395563834822497,\n",
       " -0.01769080946109436]"
      ]
     },
     "execution_count": 208,
     "metadata": {},
     "output_type": "execute_result"
    }
   ],
   "source": [
    "tree_subsample_scores"
   ]
  },
  {
   "cell_type": "markdown",
   "metadata": {},
   "source": [
    "Ok, finally, we'll provide the code to show how our predictions improve as we add each additional estimator."
   ]
  },
  {
   "cell_type": "code",
   "execution_count": 209,
   "metadata": {},
   "outputs": [],
   "source": [
    "from sklearn.metrics import r2_score\n",
    "r2_scores = [r2_score(y_val, np.mean(tree_predictions[:i + 1], axis = 0)) for i in range(0, len(subsample_trees)) ]"
   ]
  },
  {
   "cell_type": "code",
   "execution_count": 210,
   "metadata": {},
   "outputs": [
    {
     "data": {
      "application/vnd.plotly.v1+json": {
       "config": {
        "linkText": "Export to plot.ly",
        "plotlyServerURL": "https://plot.ly",
        "showLink": false
       },
       "data": [
        {
         "mode": "markers",
         "name": "data",
         "text": [],
         "type": "scatter",
         "uid": "065d1b96-de97-48a3-8023-e0272c44951a",
         "x": [
          1,
          2,
          3,
          4,
          5,
          6,
          7,
          8,
          9,
          10,
          11,
          12,
          13,
          14,
          15,
          16,
          17,
          18,
          19,
          20,
          21,
          22,
          23,
          24,
          25,
          26,
          27,
          28,
          29,
          30,
          31,
          32,
          33,
          34,
          35,
          36,
          37,
          38,
          39,
          40,
          41,
          42,
          43,
          44,
          45,
          46,
          47,
          48,
          49,
          50
         ],
         "y": [
          0.24923843719791383,
          0.33082082917562416,
          0.4338864581119427,
          0.453339481417917,
          0.46214081786104744,
          0.3998070734028383,
          0.40191055317088786,
          0.41359458038845254,
          0.42443502503868535,
          0.42552761574430875
         ]
        }
       ],
       "layout": {
        "autosize": true,
        "xaxis": {
         "autorange": true,
         "range": [
          0.4319912948857455,
          10.568008705114254
         ],
         "type": "linear"
        },
        "yaxis": {
         "autorange": true,
         "range": [
          0.233643676830869,
          0.47773557822809226
         ],
         "type": "linear"
        }
       }
      },
      "image/png": "[encoded data removed]",
      "text/html": [
       "<div>\n",
       "        \n",
       "        \n",
       "            <div id=\"5a179071-4e22-4a84-aa4e-dbafcaffa391\" class=\"plotly-graph-div\" style=\"height:525px; width:100%;\"></div>\n",
       "            <script type=\"text/javascript\">\n",
       "                require([\"plotly\"], function(Plotly) {\n",
       "                    window.PLOTLYENV=window.PLOTLYENV || {};\n",
       "                    window.PLOTLYENV.BASE_URL='https://plot.ly';\n",
       "                    \n",
       "                if (document.getElementById(\"5a179071-4e22-4a84-aa4e-dbafcaffa391\")) {\n",
       "                    Plotly.newPlot(\n",
       "                        '5a179071-4e22-4a84-aa4e-dbafcaffa391',\n",
       "                        [{\"mode\": \"markers\", \"name\": \"data\", \"text\": [], \"type\": \"scatter\", \"uid\": \"065d1b96-de97-48a3-8023-e0272c44951a\", \"x\": [1, 2, 3, 4, 5, 6, 7, 8, 9, 10, 11, 12, 13, 14, 15, 16, 17, 18, 19, 20, 21, 22, 23, 24, 25, 26, 27, 28, 29, 30, 31, 32, 33, 34, 35, 36, 37, 38, 39, 40, 41, 42, 43, 44, 45, 46, 47, 48, 49, 50], \"y\": [0.24923843719791383, 0.33082082917562416, 0.4338864581119427, 0.453339481417917, 0.46214081786104744, 0.3998070734028383, 0.40191055317088786, 0.41359458038845254, 0.42443502503868535, 0.42552761574430875]}],\n",
       "                        {},\n",
       "                        {\"showLink\": false, \"linkText\": \"Export to plot.ly\", \"plotlyServerURL\": \"https://plot.ly\", \"responsive\": true}\n",
       "                    ).then(function(){\n",
       "                            \n",
       "var gd = document.getElementById('5a179071-4e22-4a84-aa4e-dbafcaffa391');\n",
       "var x = new MutationObserver(function (mutations, observer) {{\n",
       "        var display = window.getComputedStyle(gd).display;\n",
       "        if (!display || display === 'none') {{\n",
       "            console.log([gd, 'removed!']);\n",
       "            Plotly.purge(gd);\n",
       "            observer.disconnect();\n",
       "        }}\n",
       "}});\n",
       "\n",
       "// Listen for the removal of the full notebook cells\n",
       "var notebookContainer = gd.closest('#notebook-container');\n",
       "if (notebookContainer) {{\n",
       "    x.observe(notebookContainer, {childList: true});\n",
       "}}\n",
       "\n",
       "// Listen for the clearing of the current output cell\n",
       "var outputEl = gd.closest('.output');\n",
       "if (outputEl) {{\n",
       "    x.observe(outputEl, {childList: true});\n",
       "}}\n",
       "\n",
       "                        })\n",
       "                };\n",
       "                });\n",
       "            </script>\n",
       "        </div>"
      ]
     },
     "metadata": {},
     "output_type": "display_data"
    }
   ],
   "source": [
    "from graph import trace_values, plot\n",
    "x_vals = list(range(1, len(rfr.estimators_) + 1))\n",
    "trace = trace_values(x_vals, r2_scores)\n",
    "plot([trace])"
   ]
  },
  {
   "cell_type": "markdown",
   "metadata": {},
   "source": [
    "As we can see, as we aggregate our trees, the performance of our model begins to improve.  This is the idea behind aggregating our trees."
   ]
  },
  {
   "cell_type": "markdown",
   "metadata": {},
   "source": [
    "### Resources"
   ]
  },
  {
   "cell_type": "markdown",
   "metadata": {},
   "source": [
    "[Random Forest Top to Bottom](https://www.gormanalysis.com/blog/random-forest-from-top-to-bottom/)"
   ]
  }
 ],
 "metadata": {
  "kernelspec": {
   "display_name": "Python 3",
   "language": "python",
   "name": "python3"
  },
  "language_info": {
   "codemirror_mode": {
    "name": "ipython",
    "version": 3
   },
   "file_extension": ".py",
   "mimetype": "text/x-python",
   "name": "python",
   "nbconvert_exporter": "python",
   "pygments_lexer": "ipython3",
   "version": "3.7.3"
  }
 },
 "nbformat": 4,
 "nbformat_minor": 2
}
