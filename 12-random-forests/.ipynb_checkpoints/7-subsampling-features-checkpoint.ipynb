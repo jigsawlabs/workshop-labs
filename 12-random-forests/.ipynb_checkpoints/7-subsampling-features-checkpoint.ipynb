{
 "cells": [
  {
   "cell_type": "markdown",
   "metadata": {},
   "source": [
    "# Tree Numbers and Subsampling Features"
   ]
  },
  {
   "cell_type": "markdown",
   "metadata": {},
   "source": [
    "### Introduction"
   ]
  },
  {
   "cell_type": "markdown",
   "metadata": {},
   "source": [
    "In previous lessons we saw the different mechanisms that random forests increase the variance between individual trees, and then reduce that variance through aggregation.  So far we have an increase of variance with subsampling and bootstrapping.  These two components are the default behavior of random forests.  \n",
    "\n",
    "In this lesson, we will look at hyperparameters particular to random forests that also change the variance and aggregation of the trees."
   ]
  },
  {
   "cell_type": "markdown",
   "metadata": {},
   "source": [
    "### Loading Data"
   ]
  },
  {
   "cell_type": "markdown",
   "metadata": {},
   "source": [
    "Once again, let's work with our diabetes dataset."
   ]
  },
  {
   "cell_type": "code",
   "execution_count": 4,
   "metadata": {},
   "outputs": [
    {
     "name": "stderr",
     "output_type": "stream",
     "text": [
      "/anaconda3/lib/python3.7/importlib/_bootstrap.py:219: RuntimeWarning: numpy.ufunc size changed, may indicate binary incompatibility. Expected 192 from C header, got 216 from PyObject\n",
      "  return f(*args, **kwds)\n",
      "/anaconda3/lib/python3.7/importlib/_bootstrap.py:219: RuntimeWarning: numpy.ufunc size changed, may indicate binary incompatibility. Expected 192 from C header, got 216 from PyObject\n",
      "  return f(*args, **kwds)\n"
     ]
    }
   ],
   "source": [
    "from sklearn.model_selection import train_test_split\n",
    "import json\n",
    "with open('types.json', 'r') as f:\n",
    "    data_types = json.load(f)\n",
    "\n",
    "import pandas as pd\n",
    "df = pd.read_feather('cleaned_df.feather')\n",
    "X = df.drop(columns=['price'])\n",
    "y = df.price\n",
    "\n",
    "X_train, X, y_train, y_test = train_test_split(X, y, test_size=0.2, random_state=1)\n",
    "\n",
    "X_train, X_val, y_train, y_val = train_test_split(X_train, y_train, test_size=0.2, random_state=1)"
   ]
  },
  {
   "cell_type": "markdown",
   "metadata": {},
   "source": [
    "### Number of trees"
   ]
  },
  {
   "cell_type": "markdown",
   "metadata": {},
   "source": [
    "One hyperparameter that we can vary with sklearn is the number of estimators of our random forest.  Now, in general, increasing the number of trees should improve our model.  With more trees, our trees will be more varied, thus reducing the error due to variance when we aggregate our trees.  In addition, we expect more of our trees to find the underlying pattern in the data thus reducing the bias of our random forest.  \n",
    "\n",
    "However, at a certain point, adding new estimators will only provide a small benefit as they begin to be similar to earlier trained estimators.  At this point, the main cost is simply the time that it takes to work on our random forest. \n",
    "\n",
    "Let's see the benefit of adding additional trees.  We can do so by training one large random forest, and then seeing the improvement of including an additional estimator."
   ]
  },
  {
   "cell_type": "code",
   "execution_count": 3,
   "metadata": {},
   "outputs": [
    {
     "data": {
      "text/plain": [
       "RandomForestRegressor(bootstrap=True, criterion='mse', max_depth=None,\n",
       "           max_features='auto', max_leaf_nodes=None,\n",
       "           min_impurity_decrease=0.0, min_impurity_split=None,\n",
       "           min_samples_leaf=1, min_samples_split=2,\n",
       "           min_weight_fraction_leaf=0.0, n_estimators=100, n_jobs=None,\n",
       "           oob_score=False, random_state=None, verbose=0, warm_start=False)"
      ]
     },
     "execution_count": 3,
     "metadata": {},
     "output_type": "execute_result"
    }
   ],
   "source": [
    "from sklearn.ensemble import RandomForestRegressor\n",
    "rfr = RandomForestRegressor(n_estimators = 100)\n",
    "rfr.fit(X_train, y_train)"
   ]
  },
  {
   "cell_type": "code",
   "execution_count": 28,
   "metadata": {},
   "outputs": [],
   "source": [
    "import numpy as np\n",
    "tree_predictions = np.vstack([estimator.predict(X_val) for estimator in rfr.estimators_])"
   ]
  },
  {
   "cell_type": "markdown",
   "metadata": {},
   "source": [
    "Each row of `tree_predictions` contains a separate prediction for each observation in the validation set made by the respective tree."
   ]
  },
  {
   "cell_type": "code",
   "execution_count": 30,
   "metadata": {},
   "outputs": [
    {
     "data": {
      "text/plain": [
       "(100, 3609)"
      ]
     },
     "execution_count": 30,
     "metadata": {},
     "output_type": "execute_result"
    }
   ],
   "source": [
    "tree_predictions.shape"
   ]
  },
  {
   "cell_type": "markdown",
   "metadata": {},
   "source": [
    "Then we can see the benefit of taking the mean aggregation of each additional tree."
   ]
  },
  {
   "cell_type": "code",
   "execution_count": 11,
   "metadata": {},
   "outputs": [],
   "source": [
    "from sklearn.metrics import r2_score\n",
    "r2_scores = [r2_score(y_val, np.mean(tree_predictions[:i + 1], axis = 0)) for i in range(0, 100)]\n",
    "x_vals = list(range(1, 100))"
   ]
  },
  {
   "cell_type": "markdown",
   "metadata": {},
   "source": [
    "Let's plot the data."
   ]
  },
  {
   "cell_type": "code",
   "execution_count": 32,
   "metadata": {},
   "outputs": [
    {
     "data": {
      "application/vnd.plotly.v1+json": {
       "config": {
        "linkText": "Export to plot.ly",
        "plotlyServerURL": "https://plot.ly",
        "showLink": false
       },
       "data": [
        {
         "mode": "markers",
         "name": "data",
         "text": [],
         "type": "scatter",
         "uid": "93139f54-bba1-4085-8cef-c26766b53542",
         "x": [
          1,
          2,
          3,
          4,
          5,
          6,
          7,
          8,
          9,
          10,
          11,
          12,
          13,
          14,
          15,
          16,
          17,
          18,
          19,
          20,
          21,
          22,
          23,
          24,
          25,
          26,
          27,
          28,
          29,
          30,
          31,
          32,
          33,
          34,
          35,
          36,
          37,
          38,
          39,
          40,
          41,
          42,
          43,
          44,
          45,
          46,
          47,
          48,
          49,
          50,
          51,
          52,
          53,
          54,
          55,
          56,
          57,
          58,
          59,
          60,
          61,
          62,
          63,
          64,
          65,
          66,
          67,
          68,
          69,
          70,
          71,
          72,
          73,
          74,
          75,
          76,
          77,
          78,
          79,
          80,
          81,
          82,
          83,
          84,
          85,
          86,
          87,
          88,
          89,
          90,
          91,
          92,
          93,
          94,
          95,
          96,
          97,
          98,
          99
         ],
         "y": [
          0.3073366110059431,
          0.348023777930464,
          0.42395602844916214,
          0.4105221890217182,
          0.4233397225763782,
          0.40468561259633984,
          0.3845980912930209,
          0.3859243589321505,
          0.39408078154369186,
          0.3724777555868348,
          0.39752456284799786,
          0.40122575413741335,
          0.385271299065738,
          0.373203584142871,
          0.38306659803749255,
          0.3967785326045774,
          0.4080802370684177,
          0.40547796035622663,
          0.4028989827700381,
          0.3999355875724232,
          0.3963953540372581,
          0.3958799649449598,
          0.4001279607140005,
          0.40615762309421666,
          0.40531264404559564,
          0.40318200147389605,
          0.4009781776078368,
          0.398137232303015,
          0.39245947818240734,
          0.3945885388028507,
          0.3924305902096473,
          0.39508419610288914,
          0.3963921462262614,
          0.3935403814529572,
          0.39051110532638944,
          0.3917405223773043,
          0.39735517181728386,
          0.40224071318305277,
          0.3977074594888562,
          0.39995261100928325,
          0.4022958929267909,
          0.394222947288417,
          0.39031856087339367,
          0.3897462358241567,
          0.3931388653433907,
          0.392490710938044,
          0.3891905716866918,
          0.38714579979067065,
          0.39181536083636437,
          0.39282393016879813,
          0.39703419613128144,
          0.39908206972792004,
          0.4009291668694659,
          0.40343378553333753,
          0.4032081300173397,
          0.4032200318320709,
          0.4003396067877728,
          0.40283005306189246,
          0.40154115895740616,
          0.401873681063989,
          0.4022734044484074,
          0.40308609528267003,
          0.40176180591949007,
          0.40373481687936386,
          0.401444399875586,
          0.4013350908816572,
          0.4029194445595824,
          0.40180855081504796,
          0.39976298051056824,
          0.4023393010247417,
          0.40215231896200776,
          0.40245442950844623,
          0.4021562659893686,
          0.40289126334285086,
          0.40240047807295953,
          0.4028628821702672,
          0.40303190681165246,
          0.40135112249699556,
          0.3987200286289856,
          0.39951372707169885,
          0.39691810644857495,
          0.3971130118091988,
          0.3951567231911908,
          0.3953088649764296,
          0.3957835807648201,
          0.3956930241960751,
          0.39723529066441865,
          0.396996908657695,
          0.39575065746000326,
          0.3938321180914802,
          0.39397777740117235,
          0.3950752746994193,
          0.39353251541359147,
          0.3936799100845093,
          0.395326879173835,
          0.3968580559583732,
          0.3980813450640114,
          0.3983225285186086,
          0.40055220134564506,
          0.40030942378297774
         ]
        }
       ],
       "layout": {
        "autosize": true,
        "xaxis": {
         "autorange": true,
         "range": [
          -5.084666039510819,
          105.08466603951082
         ],
         "type": "linear"
        },
        "yaxis": {
         "autorange": true,
         "range": [
          0.29879442437793663,
          0.4324982150771686
         ],
         "type": "linear"
        }
       }
      },
      "image/png": "[encoded data removed]",
      "text/html": [
       "<div>\n",
       "        \n",
       "        \n",
       "            <div id=\"d507f1d6-64f1-41d4-928b-d818796d6c6c\" class=\"plotly-graph-div\" style=\"height:525px; width:100%;\"></div>\n",
       "            <script type=\"text/javascript\">\n",
       "                require([\"plotly\"], function(Plotly) {\n",
       "                    window.PLOTLYENV=window.PLOTLYENV || {};\n",
       "                    window.PLOTLYENV.BASE_URL='https://plot.ly';\n",
       "                    \n",
       "                if (document.getElementById(\"d507f1d6-64f1-41d4-928b-d818796d6c6c\")) {\n",
       "                    Plotly.newPlot(\n",
       "                        'd507f1d6-64f1-41d4-928b-d818796d6c6c',\n",
       "                        [{\"mode\": \"markers\", \"name\": \"data\", \"text\": [], \"type\": \"scatter\", \"uid\": \"93139f54-bba1-4085-8cef-c26766b53542\", \"x\": [1, 2, 3, 4, 5, 6, 7, 8, 9, 10, 11, 12, 13, 14, 15, 16, 17, 18, 19, 20, 21, 22, 23, 24, 25, 26, 27, 28, 29, 30, 31, 32, 33, 34, 35, 36, 37, 38, 39, 40, 41, 42, 43, 44, 45, 46, 47, 48, 49, 50, 51, 52, 53, 54, 55, 56, 57, 58, 59, 60, 61, 62, 63, 64, 65, 66, 67, 68, 69, 70, 71, 72, 73, 74, 75, 76, 77, 78, 79, 80, 81, 82, 83, 84, 85, 86, 87, 88, 89, 90, 91, 92, 93, 94, 95, 96, 97, 98, 99], \"y\": [0.3073366110059431, 0.348023777930464, 0.42395602844916214, 0.4105221890217182, 0.4233397225763782, 0.40468561259633984, 0.3845980912930209, 0.3859243589321505, 0.39408078154369186, 0.3724777555868348, 0.39752456284799786, 0.40122575413741335, 0.385271299065738, 0.373203584142871, 0.38306659803749255, 0.3967785326045774, 0.4080802370684177, 0.40547796035622663, 0.4028989827700381, 0.3999355875724232, 0.3963953540372581, 0.3958799649449598, 0.4001279607140005, 0.40615762309421666, 0.40531264404559564, 0.40318200147389605, 0.4009781776078368, 0.398137232303015, 0.39245947818240734, 0.3945885388028507, 0.3924305902096473, 0.39508419610288914, 0.3963921462262614, 0.3935403814529572, 0.39051110532638944, 0.3917405223773043, 0.39735517181728386, 0.40224071318305277, 0.3977074594888562, 0.39995261100928325, 0.4022958929267909, 0.394222947288417, 0.39031856087339367, 0.3897462358241567, 0.3931388653433907, 0.392490710938044, 0.3891905716866918, 0.38714579979067065, 0.39181536083636437, 0.39282393016879813, 0.39703419613128144, 0.39908206972792004, 0.4009291668694659, 0.40343378553333753, 0.4032081300173397, 0.4032200318320709, 0.4003396067877728, 0.40283005306189246, 0.40154115895740616, 0.401873681063989, 0.4022734044484074, 0.40308609528267003, 0.40176180591949007, 0.40373481687936386, 0.401444399875586, 0.4013350908816572, 0.4029194445595824, 0.40180855081504796, 0.39976298051056824, 0.4023393010247417, 0.40215231896200776, 0.40245442950844623, 0.4021562659893686, 0.40289126334285086, 0.40240047807295953, 0.4028628821702672, 0.40303190681165246, 0.40135112249699556, 0.3987200286289856, 0.39951372707169885, 0.39691810644857495, 0.3971130118091988, 0.3951567231911908, 0.3953088649764296, 0.3957835807648201, 0.3956930241960751, 0.39723529066441865, 0.396996908657695, 0.39575065746000326, 0.3938321180914802, 0.39397777740117235, 0.3950752746994193, 0.39353251541359147, 0.3936799100845093, 0.395326879173835, 0.3968580559583732, 0.3980813450640114, 0.3983225285186086, 0.40055220134564506, 0.40030942378297774]}],\n",
       "                        {},\n",
       "                        {\"showLink\": false, \"linkText\": \"Export to plot.ly\", \"plotlyServerURL\": \"https://plot.ly\", \"responsive\": true}\n",
       "                    ).then(function(){\n",
       "                            \n",
       "var gd = document.getElementById('d507f1d6-64f1-41d4-928b-d818796d6c6c');\n",
       "var x = new MutationObserver(function (mutations, observer) {{\n",
       "        var display = window.getComputedStyle(gd).display;\n",
       "        if (!display || display === 'none') {{\n",
       "            console.log([gd, 'removed!']);\n",
       "            Plotly.purge(gd);\n",
       "            observer.disconnect();\n",
       "        }}\n",
       "}});\n",
       "\n",
       "// Listen for the removal of the full notebook cells\n",
       "var notebookContainer = gd.closest('#notebook-container');\n",
       "if (notebookContainer) {{\n",
       "    x.observe(notebookContainer, {childList: true});\n",
       "}}\n",
       "\n",
       "// Listen for the clearing of the current output cell\n",
       "var outputEl = gd.closest('.output');\n",
       "if (outputEl) {{\n",
       "    x.observe(outputEl, {childList: true});\n",
       "}}\n",
       "\n",
       "                        })\n",
       "                };\n",
       "                });\n",
       "            </script>\n",
       "        </div>"
      ]
     },
     "metadata": {},
     "output_type": "display_data"
    }
   ],
   "source": [
    "from graph import trace_values, plot\n",
    "trace = trace_values(x_vals, r2_scores)\n",
    "plot([trace])"
   ]
  },
  {
   "cell_type": "markdown",
   "metadata": {},
   "source": [
    "So we can see that our accuracy level stabalizes around 55 trees.  Fitting this model with fifty five trees still takes a while, so just for the purpose of developing our model, we'll knock it down to 20 trees, which also performs well."
   ]
  },
  {
   "cell_type": "code",
   "execution_count": 25,
   "metadata": {},
   "outputs": [
    {
     "data": {
      "text/plain": [
       "RandomForestRegressor(bootstrap=True, criterion='mse', max_depth=None,\n",
       "           max_features='auto', max_leaf_nodes=None,\n",
       "           min_impurity_decrease=0.0, min_impurity_split=None,\n",
       "           min_samples_leaf=1, min_samples_split=2,\n",
       "           min_weight_fraction_leaf=0.0, n_estimators=20, n_jobs=None,\n",
       "           oob_score=False, random_state=None, verbose=0, warm_start=False)"
      ]
     },
     "execution_count": 25,
     "metadata": {},
     "output_type": "execute_result"
    }
   ],
   "source": [
    "%timeit\n",
    "from sklearn.ensemble import RandomForestRegressor\n",
    "rfr = RandomForestRegressor(n_estimators = 20)\n",
    "rfr.fit(X_train, y_train)"
   ]
  },
  {
   "cell_type": "markdown",
   "metadata": {},
   "source": [
    "### Subsampling Features"
   ]
  },
  {
   "cell_type": "markdown",
   "metadata": {},
   "source": [
    "The next hyperparameter to work with is sampling the features at each split.  Here is how it works:\n",
    "\n",
    "* For each split, the random forest first takes a random sample of the features, and then determines what what the next best split is from this subsample.  \n",
    "\n",
    "The idea behind this is to again increase the variation of the trees.  The problem if that certain features are dominant, the features will be repeatedly selected early and this can have a large impact on what occurs later in the trees.  \n",
    "\n",
    "Let's see this by looking at the first two estimators of the random forest we just trained."
   ]
  },
  {
   "cell_type": "markdown",
   "metadata": {},
   "source": [
    "* plot the first estimator, with the plot set to a max_depth of 1"
   ]
  },
  {
   "cell_type": "code",
   "execution_count": 26,
   "metadata": {},
   "outputs": [],
   "source": [
    "from plot_tree import plot_tree"
   ]
  },
  {
   "cell_type": "code",
   "execution_count": null,
   "metadata": {},
   "outputs": [],
   "source": []
  },
  {
   "cell_type": "markdown",
   "metadata": {},
   "source": [
    "* plot the second estimator, with the plot set to a max_depth of 1"
   ]
  },
  {
   "cell_type": "code",
   "execution_count": null,
   "metadata": {},
   "outputs": [],
   "source": []
  },
  {
   "cell_type": "markdown",
   "metadata": {},
   "source": [
    "What's the problem here?\n",
    "\n",
    "So we can see that even with subsampling and bootstrapping our data, two of the first three nodes are the same.  This means that immediately, we are dividing up the data similarly, and this decreases the variance among our trees."
   ]
  },
  {
   "cell_type": "markdown",
   "metadata": {},
   "source": [
    "One way of reducing this repetition among trees, is to restrict the types of parameters that can be selected for each split.  We do this by selecting a different random sample of features for each split, and then find the best feature to split among this subset.  In sklearn, our random forest can be initialized with a `max_features` argument, with any of the following values:"
   ]
  },
  {
   "cell_type": "markdown",
   "metadata": {},
   "source": [
    "> * If int, then consider max_features features at each split.\n",
    "> * If float, then max_features is a fraction and int(max_features * n_features) features are considered at each split.\n",
    "> * If “auto”, then max_features=n_features.\n",
    "> * If “sqrt”, then max_features=sqrt(n_features).\n",
    "> * If “log2”, then max_features=log2(n_features).\n"
   ]
  },
  {
   "cell_type": "markdown",
   "metadata": {},
   "source": [
    "For now let's just see what happens if we train a single random forest using `max_features = 'log_2'`, fit a new `RandomForestRegressor` on our training set, and set `n_estimators` to 20, with the `max_features` parameter also set."
   ]
  },
  {
   "cell_type": "code",
   "execution_count": 27,
   "metadata": {},
   "outputs": [],
   "source": [
    "rfr_max_log = None"
   ]
  },
  {
   "cell_type": "markdown",
   "metadata": {},
   "source": [
    "Now plot the first and second estimators again."
   ]
  },
  {
   "cell_type": "code",
   "execution_count": 29,
   "metadata": {},
   "outputs": [],
   "source": [
    "# plot_tree()"
   ]
  },
  {
   "cell_type": "code",
   "execution_count": 30,
   "metadata": {},
   "outputs": [],
   "source": [
    "# plot_tree()"
   ]
  },
  {
   "cell_type": "markdown",
   "metadata": {},
   "source": [
    "As you can see, our trees are now more varied.  Subsampling the features allow the random forest to find different trends in the data by increasing the variance of the trees.  "
   ]
  },
  {
   "cell_type": "markdown",
   "metadata": {},
   "source": [
    "### Combining Feature Subsampling with Max Features"
   ]
  },
  {
   "cell_type": "markdown",
   "metadata": {},
   "source": [
    "Now create a random forest for each of the parameters with values of .5, 'sqrt', 'log2', and 'auto'.  Each tree should have `n_estimators` equal to 50, and `random_state = 1`. \n",
    "\n",
    "Store the random forests in a list of name `max_param_trees`.  Each element in the list should be of the form [parameter, RandomForestRegressor] (see answer below). "
   ]
  },
  {
   "cell_type": "code",
   "execution_count": 65,
   "metadata": {},
   "outputs": [],
   "source": [
    "from sklearn.ensemble import RandomForestRegressor\n",
    "\n",
    "max_param_trees = []"
   ]
  },
  {
   "cell_type": "code",
   "execution_count": 66,
   "metadata": {},
   "outputs": [
    {
     "data": {
      "text/plain": [
       "0"
      ]
     },
     "execution_count": 66,
     "metadata": {},
     "output_type": "execute_result"
    }
   ],
   "source": [
    "len(max_param_trees)"
   ]
  },
  {
   "cell_type": "code",
   "execution_count": 59,
   "metadata": {},
   "outputs": [
    {
     "data": {
      "text/plain": [
       "[0.5, RandomForestRegressor(bootstrap=True, criterion='mse', max_depth=None,\n",
       "            max_features=0.5, max_leaf_nodes=None,\n",
       "            min_impurity_decrease=0.0, min_impurity_split=None,\n",
       "            min_samples_leaf=1, min_samples_split=2,\n",
       "            min_weight_fraction_leaf=0.0, n_estimators=50, n_jobs=None,\n",
       "            oob_score=False, random_state=1, verbose=0, warm_start=False)]"
      ]
     },
     "execution_count": 59,
     "metadata": {},
     "output_type": "execute_result"
    }
   ],
   "source": [
    "max_param_trees[0]\n",
    "\n",
    "# [0.5, RandomForestRegressor(bootstrap=True, criterion='mse', max_depth=None,\n",
    "#             max_features=0.5, max_leaf_nodes=None,\n",
    "#             min_impurity_decrease=0.0, min_impurity_split=None,\n",
    "#             min_samples_leaf=1, min_samples_split=2,\n",
    "#             min_weight_fraction_leaf=0.0, n_estimators=50, n_jobs=None,\n",
    "#             oob_score=False, random_state=None, verbose=0, warm_start=False)]"
   ]
  },
  {
   "cell_type": "code",
   "execution_count": 60,
   "metadata": {},
   "outputs": [],
   "source": [
    "dict_scores = dict(scores)"
   ]
  },
  {
   "cell_type": "code",
   "execution_count": 62,
   "metadata": {},
   "outputs": [],
   "source": [
    "import numpy as np\n",
    "half = dict_scores[.5]\n",
    "sqrt = dict_scores['sqrt']\n",
    "log2 = dict_scores['log2']\n",
    "auto = dict_scores['auto']\n",
    "\n",
    "tree_predictions_half = np.vstack([estimator.predict(X_val) for estimator in half.estimators_])\n",
    "tree_predictions_sqrt = np.vstack([estimator.predict(X_val) for estimator in sqrt.estimators_])\n",
    "tree_predictions_log2 = np.vstack([estimator.predict(X_val) for estimator in log2.estimators_])\n",
    "tree_predictions_auto = np.vstack([estimator.predict(X_val) for estimator in auto.estimators_])"
   ]
  },
  {
   "cell_type": "code",
   "execution_count": 63,
   "metadata": {},
   "outputs": [],
   "source": [
    "import numpy as np\n",
    "from sklearn.metrics import r2_score\n",
    "r2_scores_half = [r2_score(y_val, np.mean(tree_predictions_half[:i + 1], axis = 0)) for i in range(0, 50)]\n",
    "r2_scores_sqrt = [r2_score(y_val, np.mean(tree_predictions_sqrt[:i + 1], axis = 0)) for i in range(0, 50)]\n",
    "r2_scores_log2 = [r2_score(y_val, np.mean(tree_predictions_log2[:i + 1], axis = 0)) for i in range(0, 50)]\n",
    "r2_scores_auto = [r2_score(y_val, np.mean(tree_predictions_auto[:i + 1], axis = 0)) for i in range(0, 50)]"
   ]
  },
  {
   "cell_type": "code",
   "execution_count": 64,
   "metadata": {},
   "outputs": [
    {
     "data": {
      "application/vnd.plotly.v1+json": {
       "config": {
        "linkText": "Export to plot.ly",
        "plotlyServerURL": "https://plot.ly",
        "showLink": false
       },
       "data": [
        {
         "mode": "markers",
         "name": "sqrt",
         "text": [],
         "type": "scatter",
         "uid": "0f88107b-de90-4ac3-a91e-150eb016f7e3",
         "x": [
          0,
          1,
          2,
          3,
          4,
          5,
          6,
          7,
          8,
          9,
          10,
          11,
          12,
          13,
          14,
          15,
          16,
          17,
          18,
          19,
          20,
          21,
          22,
          23,
          24,
          25,
          26,
          27,
          28,
          29,
          30,
          31,
          32,
          33,
          34,
          35,
          36,
          37,
          38,
          39,
          40,
          41,
          42,
          43,
          44,
          45,
          46,
          47,
          48,
          49
         ],
         "y": [
          -1.6569876867006648,
          0.002834543625432784,
          0.347907104769147,
          0.2653811522310292,
          0.34866486408802866,
          0.4477086304748964,
          0.5143068771347163,
          0.5436524537285745,
          0.5765393275255388,
          0.6002635496387725,
          0.6065297434826897,
          0.6222274372138275,
          0.619694574474769,
          0.6293667453111305,
          0.6265885403545928,
          0.634806952225041,
          0.6291140675296567,
          0.6192694661741502,
          0.625729263861699,
          0.6325429718445283,
          0.6144968189563997,
          0.6215772440283476,
          0.6332777175823809,
          0.6366922739416612,
          0.6426956553791976,
          0.6392562183316982,
          0.6416112028872122,
          0.644673565132629,
          0.6485504022494368,
          0.6470386767244356,
          0.6497857993436444,
          0.6529146835396318,
          0.6510975699667028,
          0.6529634703841929,
          0.6564416305517924,
          0.6588209967586881,
          0.6594433775704012,
          0.6592078864906503,
          0.6601492169760645,
          0.6586372005399926,
          0.660007520382323,
          0.6616239073706585,
          0.6629413840091649,
          0.6640533548093039,
          0.6605906638432666,
          0.6619066298754019,
          0.6634862095739764,
          0.6642068723380286,
          0.6650116767432812,
          0.6657846388917718
         ]
        },
        {
         "mode": "markers",
         "name": "half",
         "text": [],
         "type": "scatter",
         "uid": "251f43b6-28c3-4c20-a1d8-5b8aa647463c",
         "x": [
          0,
          1,
          2,
          3,
          4,
          5,
          6,
          7,
          8,
          9,
          10,
          11,
          12,
          13,
          14,
          15,
          16,
          17,
          18,
          19,
          20,
          21,
          22,
          23,
          24,
          25,
          26,
          27,
          28,
          29,
          30,
          31,
          32,
          33,
          34,
          35,
          36,
          37,
          38,
          39,
          40,
          41,
          42,
          43,
          44,
          45,
          46,
          47,
          48,
          49
         ],
         "y": [
          0.05416047735938612,
          0.5291156042153942,
          0.6176225011599363,
          0.5974413760134624,
          0.628065974452203,
          0.569254830995722,
          0.5425519845462952,
          0.5523350549961098,
          0.5638434504295017,
          0.5804066984117336,
          0.5990465716700332,
          0.6024825600949868,
          0.5972843907151135,
          0.6084445974343724,
          0.6179080317804122,
          0.6136839840219194,
          0.5841832213221919,
          0.5885818439266778,
          0.585775665862055,
          0.5960749535100507,
          0.6029113316368258,
          0.6118131143857118,
          0.6179358827284616,
          0.6251660750417967,
          0.6320388475896365,
          0.6334007365107852,
          0.6383203400360173,
          0.6222365234024556,
          0.6273854507758186,
          0.6344953957431392,
          0.6383166495180115,
          0.6277293786264545,
          0.6327363632743939,
          0.6298298193261682,
          0.6240098291015899,
          0.6273846849156937,
          0.6310334840341201,
          0.6280061872832868,
          0.6355534401630182,
          0.6392531195473635,
          0.6385498026640073,
          0.6393938913361761,
          0.641596676904845,
          0.6468494639331055,
          0.6459390679678898,
          0.6491619552805334,
          0.6502567053019964,
          0.6436148490218535,
          0.6444632909072323,
          0.6474525958279329
         ]
        },
        {
         "mode": "markers",
         "name": "log2",
         "text": [],
         "type": "scatter",
         "uid": "1f428370-0e1f-45de-8dde-5574df026e8b",
         "x": [
          0,
          1,
          2,
          3,
          4,
          5,
          6,
          7,
          8,
          9,
          10,
          11,
          12,
          13,
          14,
          15,
          16,
          17,
          18,
          19,
          20,
          21,
          22,
          23,
          24,
          25,
          26,
          27,
          28,
          29,
          30,
          31,
          32,
          33,
          34,
          35,
          36,
          37,
          38,
          39,
          40,
          41,
          42,
          43,
          44,
          45,
          46,
          47,
          48,
          49
         ],
         "y": [
          -0.3472762183924254,
          0.2768000822569019,
          0.4614764857826089,
          0.5282614511620495,
          0.5122304791648267,
          0.5244276686293032,
          0.4916140349378123,
          0.5054516833751446,
          0.5432958878619922,
          0.5580248092916524,
          0.5640668318239521,
          0.5823727052715887,
          0.5762605823460756,
          0.5915888888168073,
          0.5916555822710905,
          0.591444419323663,
          0.5857574289250073,
          0.5687254426503665,
          0.5751818292937408,
          0.5853049079396524,
          0.5969400825935591,
          0.6050095294316424,
          0.6073217009931726,
          0.6105033038525681,
          0.6149883777735523,
          0.6109757854805058,
          0.6168966130987648,
          0.617232799212994,
          0.6234753748091075,
          0.6284721786258334,
          0.6298448623638059,
          0.6336584188913542,
          0.6362536391145827,
          0.637347361052352,
          0.6388022740695386,
          0.6394527473678184,
          0.6417085136466263,
          0.6434127981281936,
          0.6452942194932108,
          0.6469319374126691,
          0.6488380953412919,
          0.6497123654804218,
          0.6495067740009487,
          0.6510280661920155,
          0.6483600151364044,
          0.6487854166851014,
          0.6510671866605933,
          0.6515573079185477,
          0.6501129850183993,
          0.652023045688898
         ]
        },
        {
         "mode": "markers",
         "name": "auto",
         "text": [],
         "type": "scatter",
         "uid": "b8ee1df1-52d1-4620-9c67-f5032e91778e",
         "x": [
          0,
          1,
          2,
          3,
          4,
          5,
          6,
          7,
          8,
          9,
          10,
          11,
          12,
          13,
          14,
          15,
          16,
          17,
          18,
          19,
          20,
          21,
          22,
          23,
          24,
          25,
          26,
          27,
          28,
          29,
          30,
          31,
          32,
          33,
          34,
          35,
          36,
          37,
          38,
          39,
          40,
          41,
          42,
          43,
          44,
          45,
          46,
          47,
          48,
          49
         ],
         "y": [
          0.24974213950386692,
          0.34962992260577397,
          0.3758966783869322,
          0.37019092900931905,
          0.4795713772350084,
          0.4239847616388238,
          0.45311571840397546,
          0.47617428835707054,
          0.5061869062309773,
          0.47303150559810425,
          0.4136549441821562,
          0.4571204991368213,
          0.43954087936432684,
          0.47244093167587775,
          0.4974300601959176,
          0.5148269832265338,
          0.5131056999286262,
          0.5147016112646141,
          0.5121345232967252,
          0.5079039853570169,
          0.5200178774021205,
          0.5294345052390435,
          0.5214146920501075,
          0.537508099395365,
          0.5445364634550929,
          0.5564159682864855,
          0.566797392717266,
          0.5488137656862292,
          0.54369272838411,
          0.5538893003766592,
          0.5574374764335719,
          0.5422232846582437,
          0.5185837346861928,
          0.4947859458024295,
          0.48486322755907674,
          0.49209245648922517,
          0.49191766101387,
          0.47374016925057216,
          0.4765003100744548,
          0.47141562669301984,
          0.4832921440776443,
          0.49317037610059633,
          0.4737873625359029,
          0.4824827214348488,
          0.4662107387957919,
          0.4530229638557026,
          0.4599956299665706,
          0.469457611284783,
          0.4742015208731699,
          0.4832796991826711
         ]
        }
       ],
       "layout": {
        "autosize": true,
        "xaxis": {
         "autorange": true,
         "range": [
          -3.050200803212851,
          52.05020080321285
         ],
         "type": "linear"
        },
        "yaxis": {
         "autorange": true,
         "range": [
          -1.8271270608682637,
          0.8359240130593706
         ],
         "type": "linear"
        }
       }
      },
      "image/png": "[encoded data removed]",
      "text/html": [
       "<div>\n",
       "        \n",
       "        \n",
       "            <div id=\"f0758a22-87e0-41c0-9180-0662fa0725df\" class=\"plotly-graph-div\" style=\"height:525px; width:100%;\"></div>\n",
       "            <script type=\"text/javascript\">\n",
       "                require([\"plotly\"], function(Plotly) {\n",
       "                    window.PLOTLYENV=window.PLOTLYENV || {};\n",
       "                    window.PLOTLYENV.BASE_URL='https://plot.ly';\n",
       "                    \n",
       "                if (document.getElementById(\"f0758a22-87e0-41c0-9180-0662fa0725df\")) {\n",
       "                    Plotly.newPlot(\n",
       "                        'f0758a22-87e0-41c0-9180-0662fa0725df',\n",
       "                        [{\"mode\": \"markers\", \"name\": \"sqrt\", \"text\": [], \"type\": \"scatter\", \"uid\": \"0f88107b-de90-4ac3-a91e-150eb016f7e3\", \"x\": [0, 1, 2, 3, 4, 5, 6, 7, 8, 9, 10, 11, 12, 13, 14, 15, 16, 17, 18, 19, 20, 21, 22, 23, 24, 25, 26, 27, 28, 29, 30, 31, 32, 33, 34, 35, 36, 37, 38, 39, 40, 41, 42, 43, 44, 45, 46, 47, 48, 49], \"y\": [-1.6569876867006648, 0.002834543625432784, 0.347907104769147, 0.2653811522310292, 0.34866486408802866, 0.4477086304748964, 0.5143068771347163, 0.5436524537285745, 0.5765393275255388, 0.6002635496387725, 0.6065297434826897, 0.6222274372138275, 0.619694574474769, 0.6293667453111305, 0.6265885403545928, 0.634806952225041, 0.6291140675296567, 0.6192694661741502, 0.625729263861699, 0.6325429718445283, 0.6144968189563997, 0.6215772440283476, 0.6332777175823809, 0.6366922739416612, 0.6426956553791976, 0.6392562183316982, 0.6416112028872122, 0.644673565132629, 0.6485504022494368, 0.6470386767244356, 0.6497857993436444, 0.6529146835396318, 0.6510975699667028, 0.6529634703841929, 0.6564416305517924, 0.6588209967586881, 0.6594433775704012, 0.6592078864906503, 0.6601492169760645, 0.6586372005399926, 0.660007520382323, 0.6616239073706585, 0.6629413840091649, 0.6640533548093039, 0.6605906638432666, 0.6619066298754019, 0.6634862095739764, 0.6642068723380286, 0.6650116767432812, 0.6657846388917718]}, {\"mode\": \"markers\", \"name\": \"half\", \"text\": [], \"type\": \"scatter\", \"uid\": \"251f43b6-28c3-4c20-a1d8-5b8aa647463c\", \"x\": [0, 1, 2, 3, 4, 5, 6, 7, 8, 9, 10, 11, 12, 13, 14, 15, 16, 17, 18, 19, 20, 21, 22, 23, 24, 25, 26, 27, 28, 29, 30, 31, 32, 33, 34, 35, 36, 37, 38, 39, 40, 41, 42, 43, 44, 45, 46, 47, 48, 49], \"y\": [0.05416047735938612, 0.5291156042153942, 0.6176225011599363, 0.5974413760134624, 0.628065974452203, 0.569254830995722, 0.5425519845462952, 0.5523350549961098, 0.5638434504295017, 0.5804066984117336, 0.5990465716700332, 0.6024825600949868, 0.5972843907151135, 0.6084445974343724, 0.6179080317804122, 0.6136839840219194, 0.5841832213221919, 0.5885818439266778, 0.585775665862055, 0.5960749535100507, 0.6029113316368258, 0.6118131143857118, 0.6179358827284616, 0.6251660750417967, 0.6320388475896365, 0.6334007365107852, 0.6383203400360173, 0.6222365234024556, 0.6273854507758186, 0.6344953957431392, 0.6383166495180115, 0.6277293786264545, 0.6327363632743939, 0.6298298193261682, 0.6240098291015899, 0.6273846849156937, 0.6310334840341201, 0.6280061872832868, 0.6355534401630182, 0.6392531195473635, 0.6385498026640073, 0.6393938913361761, 0.641596676904845, 0.6468494639331055, 0.6459390679678898, 0.6491619552805334, 0.6502567053019964, 0.6436148490218535, 0.6444632909072323, 0.6474525958279329]}, {\"mode\": \"markers\", \"name\": \"log2\", \"text\": [], \"type\": \"scatter\", \"uid\": \"1f428370-0e1f-45de-8dde-5574df026e8b\", \"x\": [0, 1, 2, 3, 4, 5, 6, 7, 8, 9, 10, 11, 12, 13, 14, 15, 16, 17, 18, 19, 20, 21, 22, 23, 24, 25, 26, 27, 28, 29, 30, 31, 32, 33, 34, 35, 36, 37, 38, 39, 40, 41, 42, 43, 44, 45, 46, 47, 48, 49], \"y\": [-0.3472762183924254, 0.2768000822569019, 0.4614764857826089, 0.5282614511620495, 0.5122304791648267, 0.5244276686293032, 0.4916140349378123, 0.5054516833751446, 0.5432958878619922, 0.5580248092916524, 0.5640668318239521, 0.5823727052715887, 0.5762605823460756, 0.5915888888168073, 0.5916555822710905, 0.591444419323663, 0.5857574289250073, 0.5687254426503665, 0.5751818292937408, 0.5853049079396524, 0.5969400825935591, 0.6050095294316424, 0.6073217009931726, 0.6105033038525681, 0.6149883777735523, 0.6109757854805058, 0.6168966130987648, 0.617232799212994, 0.6234753748091075, 0.6284721786258334, 0.6298448623638059, 0.6336584188913542, 0.6362536391145827, 0.637347361052352, 0.6388022740695386, 0.6394527473678184, 0.6417085136466263, 0.6434127981281936, 0.6452942194932108, 0.6469319374126691, 0.6488380953412919, 0.6497123654804218, 0.6495067740009487, 0.6510280661920155, 0.6483600151364044, 0.6487854166851014, 0.6510671866605933, 0.6515573079185477, 0.6501129850183993, 0.652023045688898]}, {\"mode\": \"markers\", \"name\": \"auto\", \"text\": [], \"type\": \"scatter\", \"uid\": \"b8ee1df1-52d1-4620-9c67-f5032e91778e\", \"x\": [0, 1, 2, 3, 4, 5, 6, 7, 8, 9, 10, 11, 12, 13, 14, 15, 16, 17, 18, 19, 20, 21, 22, 23, 24, 25, 26, 27, 28, 29, 30, 31, 32, 33, 34, 35, 36, 37, 38, 39, 40, 41, 42, 43, 44, 45, 46, 47, 48, 49], \"y\": [0.24974213950386692, 0.34962992260577397, 0.3758966783869322, 0.37019092900931905, 0.4795713772350084, 0.4239847616388238, 0.45311571840397546, 0.47617428835707054, 0.5061869062309773, 0.47303150559810425, 0.4136549441821562, 0.4571204991368213, 0.43954087936432684, 0.47244093167587775, 0.4974300601959176, 0.5148269832265338, 0.5131056999286262, 0.5147016112646141, 0.5121345232967252, 0.5079039853570169, 0.5200178774021205, 0.5294345052390435, 0.5214146920501075, 0.537508099395365, 0.5445364634550929, 0.5564159682864855, 0.566797392717266, 0.5488137656862292, 0.54369272838411, 0.5538893003766592, 0.5574374764335719, 0.5422232846582437, 0.5185837346861928, 0.4947859458024295, 0.48486322755907674, 0.49209245648922517, 0.49191766101387, 0.47374016925057216, 0.4765003100744548, 0.47141562669301984, 0.4832921440776443, 0.49317037610059633, 0.4737873625359029, 0.4824827214348488, 0.4662107387957919, 0.4530229638557026, 0.4599956299665706, 0.469457611284783, 0.4742015208731699, 0.4832796991826711]}],\n",
       "                        {},\n",
       "                        {\"showLink\": false, \"linkText\": \"Export to plot.ly\", \"plotlyServerURL\": \"https://plot.ly\", \"responsive\": true}\n",
       "                    ).then(function(){\n",
       "                            \n",
       "var gd = document.getElementById('f0758a22-87e0-41c0-9180-0662fa0725df');\n",
       "var x = new MutationObserver(function (mutations, observer) {{\n",
       "        var display = window.getComputedStyle(gd).display;\n",
       "        if (!display || display === 'none') {{\n",
       "            console.log([gd, 'removed!']);\n",
       "            Plotly.purge(gd);\n",
       "            observer.disconnect();\n",
       "        }}\n",
       "}});\n",
       "\n",
       "// Listen for the removal of the full notebook cells\n",
       "var notebookContainer = gd.closest('#notebook-container');\n",
       "if (notebookContainer) {{\n",
       "    x.observe(notebookContainer, {childList: true});\n",
       "}}\n",
       "\n",
       "// Listen for the clearing of the current output cell\n",
       "var outputEl = gd.closest('.output');\n",
       "if (outputEl) {{\n",
       "    x.observe(outputEl, {childList: true});\n",
       "}}\n",
       "\n",
       "                        })\n",
       "                };\n",
       "                });\n",
       "            </script>\n",
       "        </div>"
      ]
     },
     "metadata": {},
     "output_type": "display_data"
    }
   ],
   "source": [
    "from graph import trace_values, plot\n",
    "x_vals = list(range(0, 50))\n",
    "sqrt_trace = trace_values(x_vals,r2_scores_sqrt, name = 'sqrt')\n",
    "half_trace = trace_values(x_vals,r2_scores_half, name = 'half')\n",
    "log2_trace = trace_values(x_vals,r2_scores_log2, name = 'log2')\n",
    "auto_trace = trace_values(x_vals,r2_scores_auto, name = 'auto')\n",
    "plot([sqrt_trace, half_trace, log2_trace, auto_trace])"
   ]
  },
  {
   "cell_type": "markdown",
   "metadata": {},
   "source": [
    "What takeaways do you have from the above graph?  How does number of trees change now that we added in a `max_features` hyperparameter?  Why might that be the case?"
   ]
  },
  {
   "cell_type": "markdown",
   "metadata": {},
   "source": [
    "### Early Stopping"
   ]
  },
  {
   "cell_type": "markdown",
   "metadata": {},
   "source": [
    "The last hyperparameter for us to work with is the early stopping parameter that we saw with decision trees.  Let's work with different amounts of `min_samples_leaf` to see what is an ideal number.  We'll let you take this one on your own."
   ]
  },
  {
   "cell_type": "markdown",
   "metadata": {},
   "source": [
    "### Evaluate"
   ]
  },
  {
   "cell_type": "markdown",
   "metadata": {},
   "source": [
    "Finally, retrain your final model and evaluate it's performance on the test set."
   ]
  },
  {
   "cell_type": "markdown",
   "metadata": {},
   "source": [
    "### Summary"
   ]
  },
  {
   "cell_type": "markdown",
   "metadata": {},
   "source": [
    "### Resources"
   ]
  },
  {
   "cell_type": "markdown",
   "metadata": {},
   "source": [
    "[RF top to bottom](https://www.gormanalysis.com/blog/random-forest-from-top-to-bottom/)"
   ]
  }
 ],
 "metadata": {
  "kernelspec": {
   "display_name": "Python 3",
   "language": "python",
   "name": "python3"
  },
  "language_info": {
   "codemirror_mode": {
    "name": "ipython",
    "version": 3
   },
   "file_extension": ".py",
   "mimetype": "text/x-python",
   "name": "python",
   "nbconvert_exporter": "python",
   "pygments_lexer": "ipython3",
   "version": "3.7.3"
  }
 },
 "nbformat": 4,
 "nbformat_minor": 2
}
