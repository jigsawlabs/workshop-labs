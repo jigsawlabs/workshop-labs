{
 "cells": [
  {
   "cell_type": "markdown",
   "metadata": {},
   "source": [
    "# Tuning Random Forests Lab"
   ]
  },
  {
   "cell_type": "markdown",
   "metadata": {},
   "source": [
    "### Introduction"
   ]
  },
  {
   "cell_type": "markdown",
   "metadata": {},
   "source": [
    "We have now moved through the main hyperparameters to tune our random forests.  We have seen hyperparameters particular to random forests such as:\n",
    "* altering the number of trees and \n",
    "* the number of features selected.\n",
    "\n",
    "We have also learned of a hyperparameter in trees, which is:\n",
    "* altering the depth of a tree\n",
    "\n",
    "We can adjust the max depth of our trees in our random forest with the same `min_samples_leaf` or `max_depth` argument. Each of these hyperparameters adjust the bias variance tradeoff, and as we move through this lab, we'll review how they play a part.  Also use this lab to review how the hyperparameters can be used to allow our random forests to acheive the twin goals of making each tree:\n",
    "1. As varied from the other trees as possible\n",
    "2. As unbiased from the underlying trend as possible"
   ]
  },
  {
   "cell_type": "markdown",
   "metadata": {},
   "source": [
    "### Loading our data"
   ]
  },
  {
   "cell_type": "markdown",
   "metadata": {},
   "source": [
    "For this lab, let's work with the diabetes dataset."
   ]
  },
  {
   "cell_type": "markdown",
   "metadata": {},
   "source": [
    "Begin by loading the diabetes dataset from sklearn.  Assign `X` to our feature variables and `y` to the target variable."
   ]
  },
  {
   "cell_type": "code",
   "execution_count": 6,
   "metadata": {},
   "outputs": [],
   "source": [
    "from sklearn.datasets import load_diabetes\n",
    "\n",
    "dataset = load_diabetes()\n",
    "X = dataset['data']\n",
    "y = dataset['target']"
   ]
  },
  {
   "cell_type": "code",
   "execution_count": 7,
   "metadata": {},
   "outputs": [
    {
     "data": {
      "text/plain": [
       "(442, 10)"
      ]
     },
     "execution_count": 7,
     "metadata": {},
     "output_type": "execute_result"
    }
   ],
   "source": [
    "X.shape\n",
    "# (442, 10)"
   ]
  },
  {
   "cell_type": "code",
   "execution_count": 8,
   "metadata": {},
   "outputs": [
    {
     "data": {
      "text/plain": [
       "(442,)"
      ]
     },
     "execution_count": 8,
     "metadata": {},
     "output_type": "execute_result"
    }
   ],
   "source": [
    "y.shape\n",
    "# (442,)"
   ]
  },
  {
   "cell_type": "markdown",
   "metadata": {},
   "source": [
    "Next, let's split our data into training, test and validation sets.\n",
    "\n",
    "Perform this by:\n",
    "1. Splitting the data into training and test sets\n",
    "2. Splitting the training set into training and validation sets\n",
    "\n",
    "* Use the `random_state=1` and `test_size=0.2` for both splits."
   ]
  },
  {
   "cell_type": "code",
   "execution_count": 1,
   "metadata": {},
   "outputs": [],
   "source": [
    "from sklearn.model_selection import train_test_split\n",
    "\n",
    "X_train, X_test, y_train, y_test = None, None, None, None\n",
    "\n",
    "X_train, X_val, y_train, y_val = None, None, None, None"
   ]
  },
  {
   "cell_type": "code",
   "execution_count": 63,
   "metadata": {},
   "outputs": [
    {
     "data": {
      "text/plain": [
       "array([[ 0.0562386 ,  0.05068012,  0.00996123,  0.04941532, -0.00432087,\n",
       "        -0.01227407, -0.04340085,  0.03430886,  0.06078775,  0.03205916]])"
      ]
     },
     "execution_count": 63,
     "metadata": {},
     "output_type": "execute_result"
    }
   ],
   "source": [
    "X_train[:1]\n",
    "# array([[-0.07453279,  0.05068012, -0.00943939,  0.01498661, -0.03734373,\n",
    "#         -0.02166853, -0.01394774, -0.00259226, -0.03324879,  0.01134862]])"
   ]
  },
  {
   "cell_type": "code",
   "execution_count": 64,
   "metadata": {},
   "outputs": [
    {
     "data": {
      "text/plain": [
       "array([[-0.02730979, -0.04464164,  0.06492964, -0.00222774, -0.02496016,\n",
       "        -0.01728445,  0.02286863, -0.03949338, -0.0611766 , -0.0632093 ]])"
      ]
     },
     "execution_count": 64,
     "metadata": {},
     "output_type": "execute_result"
    }
   ],
   "source": [
    "X_val[:1]\n",
    "# array([[ 0.01991321,  0.05068012,  0.01427248,  0.0631868 ,  0.01494247,\n",
    "#         0.02029337, -0.04708248,  0.03430886,  0.04666077,  0.09004865]])"
   ]
  },
  {
   "cell_type": "code",
   "execution_count": 65,
   "metadata": {},
   "outputs": [
    {
     "data": {
      "text/plain": [
       "array([[ 0.04170844, -0.04464164, -0.03207344, -0.06190417,  0.07961226,\n",
       "         0.05098192,  0.05600338, -0.00997249,  0.04506617, -0.05906719]])"
      ]
     },
     "execution_count": 65,
     "metadata": {},
     "output_type": "execute_result"
    }
   ],
   "source": [
    "X_test[:1]\n",
    "\n",
    "#array([[ 0.04170844, -0.04464164, -0.03207344, -0.06190417,  0.07961226,\n",
    "#         0.05098192,  0.05600338, -0.00997249,  0.04506617, -0.05906719]])"
   ]
  },
  {
   "cell_type": "code",
   "execution_count": 66,
   "metadata": {},
   "outputs": [
    {
     "data": {
      "text/plain": [
       "(216, 10)"
      ]
     },
     "execution_count": 66,
     "metadata": {},
     "output_type": "execute_result"
    }
   ],
   "source": [
    "X_train.shape"
   ]
  },
  {
   "cell_type": "code",
   "execution_count": 67,
   "metadata": {},
   "outputs": [
    {
     "data": {
      "text/plain": [
       "(133, 10)"
      ]
     },
     "execution_count": 67,
     "metadata": {},
     "output_type": "execute_result"
    }
   ],
   "source": [
    "X_test.shape"
   ]
  },
  {
   "cell_type": "code",
   "execution_count": 68,
   "metadata": {},
   "outputs": [
    {
     "data": {
      "text/plain": [
       "(93, 10)"
      ]
     },
     "execution_count": 68,
     "metadata": {},
     "output_type": "execute_result"
    }
   ],
   "source": [
    "X_val.shape"
   ]
  },
  {
   "cell_type": "markdown",
   "metadata": {},
   "source": [
    "### 1. Sampling the Features"
   ]
  },
  {
   "cell_type": "markdown",
   "metadata": {},
   "source": [
    "Let's first work with the feature sampling parameter.  Feature sampling can make each individual tree less accurate as each tree has fewer parameters to split on.  However, it increases the variance of our trees.  \n",
    "\n",
    "Below, create four random forest regressors, each with 15 estimators and with a different parameter for feature sampling:  half, square root, and $log_2$ and None.  Use the `feature_sampling_scores` variable to store a list where each element of the list is the value of the parameter along with the related score (see answer below.)\n",
    "\n",
    "Reference the [documentation](https://scikit-learn.org/stable/modules/generated/sklearn.ensemble.RandomForestRegressor.html) as needed.  Use the parameter `random_state=1` in each random forest regressor.  "
   ]
  },
  {
   "cell_type": "code",
   "execution_count": 2,
   "metadata": {},
   "outputs": [],
   "source": [
    "feature_sampling_scores = []"
   ]
  },
  {
   "cell_type": "code",
   "execution_count": 3,
   "metadata": {},
   "outputs": [
    {
     "data": {
      "text/plain": [
       "[]"
      ]
     },
     "execution_count": 3,
     "metadata": {},
     "output_type": "execute_result"
    }
   ],
   "source": [
    "feature_sampling_scores\n",
    "\n",
    "# remember to set random_state=1 in the RandomForestRegressor\n",
    "\n",
    "# [(0.5, 0.4475590559478998),\n",
    "#  ('sqrt', 0.4928566781545344),\n",
    "#  ('log2', 0.4928566781545344),\n",
    "#  (None, 0.43123659150584004)]"
   ]
  },
  {
   "cell_type": "markdown",
   "metadata": {},
   "source": [
    "We can see from above that using `sqrt` and `log2` perform the best."
   ]
  },
  {
   "cell_type": "markdown",
   "metadata": {},
   "source": [
    "### 2. Number of Trees"
   ]
  },
  {
   "cell_type": "markdown",
   "metadata": {},
   "source": [
    "Next let's work with the number of trees, or estimators for our random forest.  To save time, instead of creating many different random forest regressors, let's create with fifty estimators, and then see what adding an additional estimator increases the performance of the random forest.\n",
    "\n",
    "In general, we expect additional estimators to increase our score, but we also expect the benefit of additional estimators to plateau.  So we can build our model more quickly, by limiting the number of estimators.  \n",
    "\n",
    "Ok, let's do it."
   ]
  },
  {
   "cell_type": "markdown",
   "metadata": {},
   "source": [
    "First, train a `RandomForestRegressor` with fifty estimators, and with `random_state=1`.  Also, set `max_features='log2'`.  Store the regressor in a variable called `rfr_n_trees`."
   ]
  },
  {
   "cell_type": "code",
   "execution_count": 4,
   "metadata": {},
   "outputs": [],
   "source": [
    "\n",
    "rfr_n_trees = None"
   ]
  },
  {
   "cell_type": "code",
   "execution_count": 74,
   "metadata": {},
   "outputs": [
    {
     "data": {
      "text/plain": [
       "0.5078430350572063"
      ]
     },
     "execution_count": 74,
     "metadata": {},
     "output_type": "execute_result"
    }
   ],
   "source": [
    "rfr_n_trees.score(X_val, y_val)\n",
    "# 0.5078430350572063"
   ]
  },
  {
   "cell_type": "code",
   "execution_count": 75,
   "metadata": {},
   "outputs": [],
   "source": [
    "import numpy as np\n",
    "tree_predictions = np.vstack([estimator.predict(X_val) for estimator in rfr_n_trees.estimators_])"
   ]
  },
  {
   "cell_type": "markdown",
   "metadata": {},
   "source": [
    "We use `vstack` to create a different row of predictions for each estimator."
   ]
  },
  {
   "cell_type": "code",
   "execution_count": 76,
   "metadata": {},
   "outputs": [
    {
     "data": {
      "text/plain": [
       "(50, 93)"
      ]
     },
     "execution_count": 76,
     "metadata": {},
     "output_type": "execute_result"
    }
   ],
   "source": [
    "tree_predictions.shape"
   ]
  },
  {
   "cell_type": "markdown",
   "metadata": {},
   "source": [
    "As we can see, we now have a matrix where each row is dedicated to a separate estimator, and each column is a separate prediction.  Our first row is the predictions for the first estimator."
   ]
  },
  {
   "cell_type": "markdown",
   "metadata": {},
   "source": [
    "Next, we'll provide the code that calculates our mean for each additional estimator."
   ]
  },
  {
   "cell_type": "code",
   "execution_count": 77,
   "metadata": {},
   "outputs": [],
   "source": [
    "import numpy as np\n",
    "from sklearn.metrics import r2_score\n",
    "r2_scores = [r2_score(y_val, np.mean(tree_predictions[:i + 1], axis = 0)) for i in range(0, len(rfr_n_trees.estimators_)) ]"
   ]
  },
  {
   "cell_type": "code",
   "execution_count": 78,
   "metadata": {},
   "outputs": [
    {
     "data": {
      "application/vnd.plotly.v1+json": {
       "config": {
        "linkText": "Export to plot.ly",
        "plotlyServerURL": "https://plot.ly",
        "showLink": false
       },
       "data": [
        {
         "mode": "markers",
         "name": "data",
         "text": [],
         "type": "scatter",
         "uid": "52fb5622-8e1d-4f5d-ab21-785218d8f667",
         "x": [
          1,
          2,
          3,
          4,
          5,
          6,
          7,
          8,
          9,
          10,
          11,
          12,
          13,
          14,
          15,
          16,
          17,
          18,
          19,
          20,
          21,
          22,
          23,
          24,
          25,
          26,
          27,
          28,
          29,
          30,
          31,
          32,
          33,
          34,
          35,
          36,
          37,
          38,
          39,
          40,
          41,
          42,
          43,
          44,
          45,
          46,
          47,
          48,
          49,
          50
         ],
         "y": [
          -0.029444271681297263,
          0.14407946240750602,
          0.25257953257895116,
          0.3003521402616711,
          0.3723927441643352,
          0.4221492106216834,
          0.4384011538706635,
          0.4529508638819626,
          0.466135943582049,
          0.47198606342696525,
          0.48485042238575915,
          0.4928566781545344,
          0.513013017758817,
          0.5230570209517063,
          0.5138344959723142,
          0.511517112456982,
          0.5167693702063789,
          0.5084525294139065,
          0.5025738436369218,
          0.5105803128518339,
          0.5096559560958617,
          0.5081796767069775,
          0.5100926831167156,
          0.5107883813161035,
          0.5056767265404767,
          0.508351887258142,
          0.506534605849287,
          0.4989234479663911,
          0.5078642858663056,
          0.5079772015632683,
          0.5118263651708297,
          0.5122588996295094,
          0.5071594215142881,
          0.5082875954012419,
          0.5023679467121136,
          0.503863830436059,
          0.5031225286132408,
          0.5054682461853994,
          0.5046725178026285,
          0.5060551613527421,
          0.507684660456494,
          0.5055478552046488,
          0.5046865953146049,
          0.5066749380605162,
          0.5107097403424985,
          0.5083649107097119,
          0.5117149785238139,
          0.5091088437811944,
          0.5111959679056151,
          0.5078430350572063
         ]
        }
       ],
       "layout": {
        "autosize": true,
        "xaxis": {
         "autorange": true,
         "range": [
          -2.041881947706278,
          53.04188194770628
         ],
         "type": "linear"
        },
        "yaxis": {
         "autorange": true,
         "range": [
          -0.06991411158753638,
          0.5635268608579453
         ],
         "type": "linear"
        }
       }
      },
      "image/png": "[encoded data removed]",
      "text/html": [
       "<div>\n",
       "        \n",
       "        \n",
       "            <div id=\"0cbd96f8-b62a-44a1-a601-ea4be3437703\" class=\"plotly-graph-div\" style=\"height:525px; width:100%;\"></div>\n",
       "            <script type=\"text/javascript\">\n",
       "                require([\"plotly\"], function(Plotly) {\n",
       "                    window.PLOTLYENV=window.PLOTLYENV || {};\n",
       "                    window.PLOTLYENV.BASE_URL='https://plot.ly';\n",
       "                    \n",
       "                if (document.getElementById(\"0cbd96f8-b62a-44a1-a601-ea4be3437703\")) {\n",
       "                    Plotly.newPlot(\n",
       "                        '0cbd96f8-b62a-44a1-a601-ea4be3437703',\n",
       "                        [{\"mode\": \"markers\", \"name\": \"data\", \"text\": [], \"type\": \"scatter\", \"uid\": \"52fb5622-8e1d-4f5d-ab21-785218d8f667\", \"x\": [1, 2, 3, 4, 5, 6, 7, 8, 9, 10, 11, 12, 13, 14, 15, 16, 17, 18, 19, 20, 21, 22, 23, 24, 25, 26, 27, 28, 29, 30, 31, 32, 33, 34, 35, 36, 37, 38, 39, 40, 41, 42, 43, 44, 45, 46, 47, 48, 49, 50], \"y\": [-0.029444271681297263, 0.14407946240750602, 0.25257953257895116, 0.3003521402616711, 0.3723927441643352, 0.4221492106216834, 0.4384011538706635, 0.4529508638819626, 0.466135943582049, 0.47198606342696525, 0.48485042238575915, 0.4928566781545344, 0.513013017758817, 0.5230570209517063, 0.5138344959723142, 0.511517112456982, 0.5167693702063789, 0.5084525294139065, 0.5025738436369218, 0.5105803128518339, 0.5096559560958617, 0.5081796767069775, 0.5100926831167156, 0.5107883813161035, 0.5056767265404767, 0.508351887258142, 0.506534605849287, 0.4989234479663911, 0.5078642858663056, 0.5079772015632683, 0.5118263651708297, 0.5122588996295094, 0.5071594215142881, 0.5082875954012419, 0.5023679467121136, 0.503863830436059, 0.5031225286132408, 0.5054682461853994, 0.5046725178026285, 0.5060551613527421, 0.507684660456494, 0.5055478552046488, 0.5046865953146049, 0.5066749380605162, 0.5107097403424985, 0.5083649107097119, 0.5117149785238139, 0.5091088437811944, 0.5111959679056151, 0.5078430350572063]}],\n",
       "                        {},\n",
       "                        {\"showLink\": false, \"linkText\": \"Export to plot.ly\", \"plotlyServerURL\": \"https://plot.ly\", \"responsive\": true}\n",
       "                    ).then(function(){\n",
       "                            \n",
       "var gd = document.getElementById('0cbd96f8-b62a-44a1-a601-ea4be3437703');\n",
       "var x = new MutationObserver(function (mutations, observer) {{\n",
       "        var display = window.getComputedStyle(gd).display;\n",
       "        if (!display || display === 'none') {{\n",
       "            console.log([gd, 'removed!']);\n",
       "            Plotly.purge(gd);\n",
       "            observer.disconnect();\n",
       "        }}\n",
       "}});\n",
       "\n",
       "// Listen for the removal of the full notebook cells\n",
       "var notebookContainer = gd.closest('#notebook-container');\n",
       "if (notebookContainer) {{\n",
       "    x.observe(notebookContainer, {childList: true});\n",
       "}}\n",
       "\n",
       "// Listen for the clearing of the current output cell\n",
       "var outputEl = gd.closest('.output');\n",
       "if (outputEl) {{\n",
       "    x.observe(outputEl, {childList: true});\n",
       "}}\n",
       "\n",
       "                        })\n",
       "                };\n",
       "                });\n",
       "            </script>\n",
       "        </div>"
      ]
     },
     "metadata": {},
     "output_type": "display_data"
    }
   ],
   "source": [
    "from graph import trace_values, plot\n",
    "x_vals = list(range(1, len(rfr_n_trees.estimators_) + 1))\n",
    "trace = trace_values(x_vals, r2_scores)\n",
    "plot([trace])"
   ]
  },
  {
   "cell_type": "markdown",
   "metadata": {},
   "source": [
    "As we can see, our `RandomForestRegressor` adding additional trees does not hurt our model, but we know that it takes more time to train a random forest with more estimators.  So we limit the number of estimators to 14, as that is where our performance peaks."
   ]
  },
  {
   "cell_type": "markdown",
   "metadata": {},
   "source": [
    "### 3. Number of leaves"
   ]
  },
  {
   "cell_type": "markdown",
   "metadata": {},
   "source": [
    "Finally, we can control for the complexity of each individual tree.  Remember that as we increase the depth of our tree, our tree becomes more complex, but more likely to overfit as it makes a separate prediction for each individual sample.  As we reduce the number of levels of our tree, our tree becomes less complex such that it may not find the underlying signal in the data and thus can suffer from bias.\n",
    "\n",
    "Let's try different numbers for `min_sample_leaf`, going from 2 to 50.  Each element in `scores` should be a list with the min_sample_leaf number, and the respective score. "
   ]
  },
  {
   "cell_type": "code",
   "execution_count": 5,
   "metadata": {},
   "outputs": [],
   "source": [
    "min_samples = None\n",
    "\n",
    "scores = []"
   ]
  },
  {
   "cell_type": "code",
   "execution_count": 7,
   "metadata": {},
   "outputs": [],
   "source": [
    "import numpy as np\n",
    "wrapped_scores = np.array(scores)"
   ]
  },
  {
   "cell_type": "code",
   "execution_count": 8,
   "metadata": {},
   "outputs": [
    {
     "data": {
      "text/plain": [
       "array([], dtype=float64)"
      ]
     },
     "execution_count": 8,
     "metadata": {},
     "output_type": "execute_result"
    }
   ],
   "source": [
    "wrapped_scores[:5]\n",
    "\n",
    "# array([[2.        , 0.45027667],\n",
    "#        [3.        , 0.43419099],\n",
    "#        [4.        , 0.43326227],\n",
    "#        [5.        , 0.42223421],\n",
    "#        [6.        , 0.42800166]])"
   ]
  },
  {
   "cell_type": "code",
   "execution_count": 83,
   "metadata": {},
   "outputs": [],
   "source": [
    "trace_1 = trace_values(wrapped_scores[:, 0], wrapped_scores[:, 1])"
   ]
  },
  {
   "cell_type": "code",
   "execution_count": 84,
   "metadata": {},
   "outputs": [
    {
     "data": {
      "application/vnd.plotly.v1+json": {
       "config": {
        "linkText": "Export to plot.ly",
        "plotlyServerURL": "https://plot.ly",
        "showLink": false
       },
       "data": [
        {
         "mode": "markers",
         "name": "data",
         "text": [],
         "type": "scatter",
         "uid": "ba76f30f-407f-4857-904e-fef98a185156",
         "x": [
          2,
          3,
          4,
          5,
          6,
          7,
          8,
          9,
          10,
          11,
          12,
          13,
          14,
          15,
          16,
          17,
          18,
          19,
          20,
          21,
          22,
          23,
          24,
          25,
          26,
          27,
          28,
          29,
          30,
          31,
          32,
          33,
          34,
          35,
          36,
          37,
          38,
          39,
          40,
          41,
          42,
          43,
          44,
          45,
          46,
          47,
          48,
          49
         ],
         "y": [
          0.47693226109442916,
          0.5517929696330697,
          0.5481289921505479,
          0.5272556926197798,
          0.488182775683778,
          0.5303887893204763,
          0.5185051646120437,
          0.4855350370687474,
          0.5055423874999238,
          0.512872754517781,
          0.5112885962266658,
          0.5182909565653797,
          0.4910812720091348,
          0.48315439221827033,
          0.5029906348118912,
          0.5063778007063864,
          0.49300321561757143,
          0.4946960034712478,
          0.4834460667954556,
          0.4751165612335152,
          0.4666718917971815,
          0.47397252257945616,
          0.47095639590262867,
          0.46855344802451104,
          0.4605545528279698,
          0.44427313807118285,
          0.439779935318254,
          0.429291770012287,
          0.4402013748741661,
          0.4414782790192151,
          0.44134184197373827,
          0.4430548857526121,
          0.44532729936972937,
          0.4406646124047974,
          0.43818401814796004,
          0.43782243111344865,
          0.43361226269676645,
          0.4328332418917945,
          0.41278334869877653,
          0.4088518953767101,
          0.39531620826075053,
          0.39535486389985797,
          0.3894931987069977,
          0.3851961816092345,
          0.3799033899073443,
          0.3799033899073443,
          0.38001781891041675,
          0.38001781891041675
         ]
        }
       ],
       "layout": {
        "autosize": true,
        "xaxis": {
         "autorange": true,
         "range": [
          -0.9177235008611238,
          51.91772350086112
         ],
         "type": "linear"
        },
        "yaxis": {
         "autorange": true,
         "range": [
          0.3673127519019568,
          0.5643836076384572
         ],
         "type": "linear"
        }
       }
      },
      "image/png": "[encoded data removed]",
      "text/html": [
       "<div>\n",
       "        \n",
       "        \n",
       "            <div id=\"9583bbab-c630-41ae-b88e-30f026a82382\" class=\"plotly-graph-div\" style=\"height:525px; width:100%;\"></div>\n",
       "            <script type=\"text/javascript\">\n",
       "                require([\"plotly\"], function(Plotly) {\n",
       "                    window.PLOTLYENV=window.PLOTLYENV || {};\n",
       "                    window.PLOTLYENV.BASE_URL='https://plot.ly';\n",
       "                    \n",
       "                if (document.getElementById(\"9583bbab-c630-41ae-b88e-30f026a82382\")) {\n",
       "                    Plotly.newPlot(\n",
       "                        '9583bbab-c630-41ae-b88e-30f026a82382',\n",
       "                        [{\"mode\": \"markers\", \"name\": \"data\", \"text\": [], \"type\": \"scatter\", \"uid\": \"ba76f30f-407f-4857-904e-fef98a185156\", \"x\": [2.0, 3.0, 4.0, 5.0, 6.0, 7.0, 8.0, 9.0, 10.0, 11.0, 12.0, 13.0, 14.0, 15.0, 16.0, 17.0, 18.0, 19.0, 20.0, 21.0, 22.0, 23.0, 24.0, 25.0, 26.0, 27.0, 28.0, 29.0, 30.0, 31.0, 32.0, 33.0, 34.0, 35.0, 36.0, 37.0, 38.0, 39.0, 40.0, 41.0, 42.0, 43.0, 44.0, 45.0, 46.0, 47.0, 48.0, 49.0], \"y\": [0.47693226109442916, 0.5517929696330697, 0.5481289921505479, 0.5272556926197798, 0.488182775683778, 0.5303887893204763, 0.5185051646120437, 0.4855350370687474, 0.5055423874999238, 0.512872754517781, 0.5112885962266658, 0.5182909565653797, 0.4910812720091348, 0.48315439221827033, 0.5029906348118912, 0.5063778007063864, 0.49300321561757143, 0.4946960034712478, 0.4834460667954556, 0.4751165612335152, 0.4666718917971815, 0.47397252257945616, 0.47095639590262867, 0.46855344802451104, 0.4605545528279698, 0.44427313807118285, 0.439779935318254, 0.429291770012287, 0.4402013748741661, 0.4414782790192151, 0.44134184197373827, 0.4430548857526121, 0.44532729936972937, 0.4406646124047974, 0.43818401814796004, 0.43782243111344865, 0.43361226269676645, 0.4328332418917945, 0.41278334869877653, 0.4088518953767101, 0.39531620826075053, 0.39535486389985797, 0.3894931987069977, 0.3851961816092345, 0.3799033899073443, 0.3799033899073443, 0.38001781891041675, 0.38001781891041675]}],\n",
       "                        {},\n",
       "                        {\"showLink\": false, \"linkText\": \"Export to plot.ly\", \"plotlyServerURL\": \"https://plot.ly\", \"responsive\": true}\n",
       "                    ).then(function(){\n",
       "                            \n",
       "var gd = document.getElementById('9583bbab-c630-41ae-b88e-30f026a82382');\n",
       "var x = new MutationObserver(function (mutations, observer) {{\n",
       "        var display = window.getComputedStyle(gd).display;\n",
       "        if (!display || display === 'none') {{\n",
       "            console.log([gd, 'removed!']);\n",
       "            Plotly.purge(gd);\n",
       "            observer.disconnect();\n",
       "        }}\n",
       "}});\n",
       "\n",
       "// Listen for the removal of the full notebook cells\n",
       "var notebookContainer = gd.closest('#notebook-container');\n",
       "if (notebookContainer) {{\n",
       "    x.observe(notebookContainer, {childList: true});\n",
       "}}\n",
       "\n",
       "// Listen for the clearing of the current output cell\n",
       "var outputEl = gd.closest('.output');\n",
       "if (outputEl) {{\n",
       "    x.observe(outputEl, {childList: true});\n",
       "}}\n",
       "\n",
       "                        })\n",
       "                };\n",
       "                });\n",
       "            </script>\n",
       "        </div>"
      ]
     },
     "metadata": {},
     "output_type": "display_data"
    }
   ],
   "source": [
    "plot([trace_1])"
   ]
  },
  {
   "cell_type": "markdown",
   "metadata": {},
   "source": [
    "Note that there is a lot of variation, which is due to a small validation set."
   ]
  },
  {
   "cell_type": "code",
   "execution_count": 85,
   "metadata": {},
   "outputs": [
    {
     "data": {
      "text/plain": [
       "(93, 10)"
      ]
     },
     "execution_count": 85,
     "metadata": {},
     "output_type": "execute_result"
    }
   ],
   "source": [
    "X_val.shape"
   ]
  },
  {
   "cell_type": "markdown",
   "metadata": {},
   "source": [
    "Still, there appears to be a steady downward trend once we move past a `min_leaf_sample` of three.  So let's choose 3 for our final model."
   ]
  },
  {
   "cell_type": "markdown",
   "metadata": {},
   "source": [
    "### Our evaluation"
   ]
  },
  {
   "cell_type": "markdown",
   "metadata": {},
   "source": [
    "Now that we have tuned each of the hyperparameters, it is time to retrain on our training and validation sets, and then evaluate on our test set."
   ]
  },
  {
   "cell_type": "code",
   "execution_count": 9,
   "metadata": {},
   "outputs": [],
   "source": [
    "# combined_X = np.vstack((X_train, X_val))"
   ]
  },
  {
   "cell_type": "code",
   "execution_count": 10,
   "metadata": {},
   "outputs": [],
   "source": [
    "# combined_y = np.concatenate((y_train, y_val))"
   ]
  },
  {
   "cell_type": "markdown",
   "metadata": {},
   "source": [
    "Fit a new random forest by training on our combined_X, and evaluating on the test set.  Use the hyperparameters we found above, along with `random_state = 1`."
   ]
  },
  {
   "cell_type": "code",
   "execution_count": 11,
   "metadata": {},
   "outputs": [],
   "source": [
    "# 0.31486443277672993"
   ]
  },
  {
   "cell_type": "markdown",
   "metadata": {},
   "source": [
    "Ah the perils of overfitting.  Here we see a score of around .31 for our overall score.  Now this is below what we wind up with originally.  So we of course, be tempted to change our hyperparameters at this point.  Of course, this wouldn't be improving our model.  After all, our test set is just a random subset of the data as well.  So we would simply be fitting to this randomness.  Here, we'll mark our accuracy at .31."
   ]
  },
  {
   "cell_type": "markdown",
   "metadata": {},
   "source": [
    "### Resources"
   ]
  },
  {
   "cell_type": "markdown",
   "metadata": {},
   "source": [
    "[Random Forest Top to Bottom](https://www.gormanalysis.com/blog/random-forest-from-top-to-bottom/)"
   ]
  }
 ],
 "metadata": {
  "kernelspec": {
   "display_name": "Python 3",
   "language": "python",
   "name": "python3"
  },
  "language_info": {
   "codemirror_mode": {
    "name": "ipython",
    "version": 3
   },
   "file_extension": ".py",
   "mimetype": "text/x-python",
   "name": "python",
   "nbconvert_exporter": "python",
   "pygments_lexer": "ipython3",
   "version": "3.7.3"
  }
 },
 "nbformat": 4,
 "nbformat_minor": 2
}
