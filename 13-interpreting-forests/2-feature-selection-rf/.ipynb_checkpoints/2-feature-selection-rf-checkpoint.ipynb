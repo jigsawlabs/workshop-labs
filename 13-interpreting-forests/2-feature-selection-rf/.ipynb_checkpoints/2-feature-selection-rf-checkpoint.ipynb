{
 "cells": [
  {
   "cell_type": "markdown",
   "metadata": {},
   "source": [
    "# Feature Selection"
   ]
  },
  {
   "cell_type": "markdown",
   "metadata": {},
   "source": [
    "### Introduction"
   ]
  },
  {
   "cell_type": "markdown",
   "metadata": {},
   "source": [
    "Now one benefit of viewing feature importances is that we can begin to remove less important features.  By reducing the number of features in our model we reap multiple benefits:\n",
    "\n",
    "* Our models become easier to understand\n",
    "* We remove collinear features \n",
    "* We can prioritize our feature engineering and interpretation on the selected features"
   ]
  },
  {
   "cell_type": "markdown",
   "metadata": {},
   "source": [
    "### Loading our data"
   ]
  },
  {
   "cell_type": "markdown",
   "metadata": {},
   "source": [
    "> First we load up our training data and validation data."
   ]
  },
  {
   "cell_type": "code",
   "execution_count": 70,
   "metadata": {},
   "outputs": [],
   "source": [
    "import pandas as pd\n",
    "df_train = pd.read_feather('./bnb_train.feather')\n",
    "df_X_train = df_train.drop(columns = ['price'])\n",
    "y_train = df_train.price\n",
    "\n",
    "df_val = pd.read_feather('./bnb_val.feather')\n",
    "df_X_val = df_val.drop(columns = ['price'])\n",
    "y_val = df_val.price"
   ]
  },
  {
   "cell_type": "markdown",
   "metadata": {},
   "source": [
    "> Then we train our model."
   ]
  },
  {
   "cell_type": "code",
   "execution_count": 4,
   "metadata": {},
   "outputs": [
    {
     "data": {
      "text/plain": [
       "0.7572817041357578"
      ]
     },
     "execution_count": 4,
     "metadata": {},
     "output_type": "execute_result"
    }
   ],
   "source": [
    "from sklearn.ensemble import RandomForestRegressor\n",
    "rfr = RandomForestRegressor(n_estimators=40, max_features='log2')\n",
    "rfr.fit(df_X_train, y_train)\n",
    "rfr.score(df_X_val, y_val)"
   ]
  },
  {
   "cell_type": "markdown",
   "metadata": {},
   "source": [
    "### Feature Selection"
   ]
  },
  {
   "cell_type": "markdown",
   "metadata": {},
   "source": [
    "Now that we have trained our model, it's time to select some features from the model.  We start by using our `PermutationImportance` transformer."
   ]
  },
  {
   "cell_type": "code",
   "execution_count": 72,
   "metadata": {},
   "outputs": [],
   "source": [
    "from eli5.sklearn import PermutationImportance\n",
    "perm = PermutationImportance(rfr).fit(df_X_val, y_val)"
   ]
  },
  {
   "cell_type": "markdown",
   "metadata": {},
   "source": [
    "> And then we view the importances."
   ]
  },
  {
   "cell_type": "code",
   "execution_count": 76,
   "metadata": {},
   "outputs": [
    {
     "data": {
      "text/html": [
       "<div>\n",
       "<style scoped>\n",
       "    .dataframe tbody tr th:only-of-type {\n",
       "        vertical-align: middle;\n",
       "    }\n",
       "\n",
       "    .dataframe tbody tr th {\n",
       "        vertical-align: top;\n",
       "    }\n",
       "\n",
       "    .dataframe thead th {\n",
       "        text-align: right;\n",
       "    }\n",
       "</style>\n",
       "<table border=\"1\" class=\"dataframe\">\n",
       "  <thead>\n",
       "    <tr style=\"text-align: right;\">\n",
       "      <th></th>\n",
       "      <th>feature</th>\n",
       "      <th>weight</th>\n",
       "      <th>std</th>\n",
       "    </tr>\n",
       "  </thead>\n",
       "  <tbody>\n",
       "    <tr>\n",
       "      <th>0</th>\n",
       "      <td>license_is_na</td>\n",
       "      <td>0.076021</td>\n",
       "      <td>0.002148</td>\n",
       "    </tr>\n",
       "    <tr>\n",
       "      <th>1</th>\n",
       "      <td>calculated_host_listings_count</td>\n",
       "      <td>0.074967</td>\n",
       "      <td>0.001796</td>\n",
       "    </tr>\n",
       "    <tr>\n",
       "      <th>2</th>\n",
       "      <td>host_verifications_['email', 'phone']</td>\n",
       "      <td>0.069605</td>\n",
       "      <td>0.008095</td>\n",
       "    </tr>\n",
       "    <tr>\n",
       "      <th>3</th>\n",
       "      <td>property_type_other</td>\n",
       "      <td>0.068300</td>\n",
       "      <td>0.007660</td>\n",
       "    </tr>\n",
       "    <tr>\n",
       "      <th>4</th>\n",
       "      <td>host_neighbourhood_is_na</td>\n",
       "      <td>0.064198</td>\n",
       "      <td>0.009964</td>\n",
       "    </tr>\n",
       "  </tbody>\n",
       "</table>\n",
       "</div>"
      ],
      "text/plain": [
       "                                 feature    weight       std\n",
       "0                          license_is_na  0.076021  0.002148\n",
       "1         calculated_host_listings_count  0.074967  0.001796\n",
       "2  host_verifications_['email', 'phone']  0.069605  0.008095\n",
       "3                    property_type_other  0.068300  0.007660\n",
       "4               host_neighbourhood_is_na  0.064198  0.009964"
      ]
     },
     "execution_count": 76,
     "metadata": {},
     "output_type": "execute_result"
    }
   ],
   "source": [
    "eli5.explain_weights_df(perm, feature_names = df_X_val.columns.to_list()).head(5)"
   ]
  },
  {
   "cell_type": "markdown",
   "metadata": {},
   "source": [
    "Now, to select the features, we could simply select the features from the dataframe.  Another mechanism is to the use the `SelectFromModel` transformer from sklearn."
   ]
  },
  {
   "cell_type": "code",
   "execution_count": 90,
   "metadata": {},
   "outputs": [],
   "source": [
    "from sklearn.feature_selection import SelectFromModel\n",
    "first_selection = SelectFromModel(perm, threshold=0.01, prefit=True)\n",
    "X_val_first_select = first_selection.transform(df_X_val)\n",
    "X_train_first_select = first_selection.transform(df_X_train)"
   ]
  },
  {
   "cell_type": "markdown",
   "metadata": {},
   "source": [
    "So here we select the top forty features.  Then we retrain the model with just these forty features and see how it performs.  "
   ]
  },
  {
   "cell_type": "code",
   "execution_count": 91,
   "metadata": {},
   "outputs": [
    {
     "data": {
      "text/plain": [
       "0.8280295274769363"
      ]
     },
     "execution_count": 91,
     "metadata": {},
     "output_type": "execute_result"
    }
   ],
   "source": [
    "rfr_first_select = RandomForestRegressor(n_estimators=40, max_features='log2')\n",
    "rfr_first_select.fit(X_train_first_select, y_train)\n",
    "rfr_first_select.score(X_val_first_select, y_val)"
   ]
  },
  {
   "cell_type": "markdown",
   "metadata": {},
   "source": [
    "Here, we see an increase in performance from our model.  We can determine which features were selected with the `get_support` method."
   ]
  },
  {
   "cell_type": "code",
   "execution_count": 82,
   "metadata": {},
   "outputs": [
    {
     "data": {
      "text/plain": [
       "array([ True,  True,  True,  True,  True,  True,  True,  True, False,\n",
       "       False, False,  True, False, False, False,  True, False, False,\n",
       "        True, False])"
      ]
     },
     "execution_count": 82,
     "metadata": {},
     "output_type": "execute_result"
    }
   ],
   "source": [
    "first_selection.get_support()[:20]"
   ]
  },
  {
   "cell_type": "code",
   "execution_count": 94,
   "metadata": {},
   "outputs": [
    {
     "data": {
      "text/plain": [
       "Index(['index', 'id', 'host_id', 'host_response_rate', 'host_listings_count'], dtype='object')"
      ]
     },
     "execution_count": 94,
     "metadata": {},
     "output_type": "execute_result"
    }
   ],
   "source": [
    "first_select_cols = df_X_train.columns[first_selection.get_support()]\n",
    "first_select_cols[:5]"
   ]
  },
  {
   "cell_type": "code",
   "execution_count": 95,
   "metadata": {},
   "outputs": [
    {
     "data": {
      "text/plain": [
       "(38,)"
      ]
     },
     "execution_count": 95,
     "metadata": {},
     "output_type": "execute_result"
    }
   ],
   "source": [
    "first_select_cols.shape"
   ]
  },
  {
   "cell_type": "markdown",
   "metadata": {},
   "source": [
    "### Round two"
   ]
  },
  {
   "cell_type": "markdown",
   "metadata": {},
   "source": [
    "Now that we are only selecting thirty eight columns, and some of the features were collinear with others, if we look at feature importances we are sure to see some changes.  Let's call `PermutationImportance` again just with these features."
   ]
  },
  {
   "cell_type": "code",
   "execution_count": 98,
   "metadata": {},
   "outputs": [],
   "source": [
    "from eli5.sklearn import PermutationImportance\n",
    "second_pmi = PermutationImportance(rfr_first_select).fit(X_val_first_select, y_val)"
   ]
  },
  {
   "cell_type": "code",
   "execution_count": 102,
   "metadata": {},
   "outputs": [
    {
     "data": {
      "text/html": [
       "<div>\n",
       "<style scoped>\n",
       "    .dataframe tbody tr th:only-of-type {\n",
       "        vertical-align: middle;\n",
       "    }\n",
       "\n",
       "    .dataframe tbody tr th {\n",
       "        vertical-align: top;\n",
       "    }\n",
       "\n",
       "    .dataframe thead th {\n",
       "        text-align: right;\n",
       "    }\n",
       "</style>\n",
       "<table border=\"1\" class=\"dataframe\">\n",
       "  <thead>\n",
       "    <tr style=\"text-align: right;\">\n",
       "      <th></th>\n",
       "      <th>feature</th>\n",
       "      <th>weight</th>\n",
       "      <th>std</th>\n",
       "    </tr>\n",
       "  </thead>\n",
       "  <tbody>\n",
       "    <tr>\n",
       "      <th>0</th>\n",
       "      <td>host_total_listings_count</td>\n",
       "      <td>0.117983</td>\n",
       "      <td>0.003129</td>\n",
       "    </tr>\n",
       "    <tr>\n",
       "      <th>1</th>\n",
       "      <td>host_listings_count</td>\n",
       "      <td>0.092155</td>\n",
       "      <td>0.008688</td>\n",
       "    </tr>\n",
       "    <tr>\n",
       "      <th>2</th>\n",
       "      <td>host_verifications_['email', 'phone']</td>\n",
       "      <td>0.081905</td>\n",
       "      <td>0.011873</td>\n",
       "    </tr>\n",
       "    <tr>\n",
       "      <th>3</th>\n",
       "      <td>id</td>\n",
       "      <td>0.068955</td>\n",
       "      <td>0.001236</td>\n",
       "    </tr>\n",
       "    <tr>\n",
       "      <th>4</th>\n",
       "      <td>property_type_other</td>\n",
       "      <td>0.064280</td>\n",
       "      <td>0.000368</td>\n",
       "    </tr>\n",
       "  </tbody>\n",
       "</table>\n",
       "</div>"
      ],
      "text/plain": [
       "                                 feature    weight       std\n",
       "0              host_total_listings_count  0.117983  0.003129\n",
       "1                    host_listings_count  0.092155  0.008688\n",
       "2  host_verifications_['email', 'phone']  0.081905  0.011873\n",
       "3                                     id  0.068955  0.001236\n",
       "4                    property_type_other  0.064280  0.000368"
      ]
     },
     "execution_count": 102,
     "metadata": {},
     "output_type": "execute_result"
    }
   ],
   "source": [
    "eli5.explain_weights_df(second_pmi, top=5, feature_names = first_select_cols.to_list())"
   ]
  },
  {
   "cell_type": "markdown",
   "metadata": {},
   "source": [
    "So we can see that host_total_listings count now has a weight near .12, up from it's previous score of .07.  On the other side, we also have features that no longer make our one percent weight cutoff."
   ]
  },
  {
   "cell_type": "code",
   "execution_count": 103,
   "metadata": {},
   "outputs": [
    {
     "data": {
      "text/html": [
       "<div>\n",
       "<style scoped>\n",
       "    .dataframe tbody tr th:only-of-type {\n",
       "        vertical-align: middle;\n",
       "    }\n",
       "\n",
       "    .dataframe tbody tr th {\n",
       "        vertical-align: top;\n",
       "    }\n",
       "\n",
       "    .dataframe thead th {\n",
       "        text-align: right;\n",
       "    }\n",
       "</style>\n",
       "<table border=\"1\" class=\"dataframe\">\n",
       "  <thead>\n",
       "    <tr style=\"text-align: right;\">\n",
       "      <th></th>\n",
       "      <th>feature</th>\n",
       "      <th>weight</th>\n",
       "      <th>std</th>\n",
       "    </tr>\n",
       "  </thead>\n",
       "  <tbody>\n",
       "    <tr>\n",
       "      <th>33</th>\n",
       "      <td>last_reviewDayofyear</td>\n",
       "      <td>0.002364</td>\n",
       "      <td>0.001527</td>\n",
       "    </tr>\n",
       "    <tr>\n",
       "      <th>34</th>\n",
       "      <td>host_about_is_na</td>\n",
       "      <td>0.001856</td>\n",
       "      <td>0.000320</td>\n",
       "    </tr>\n",
       "    <tr>\n",
       "      <th>35</th>\n",
       "      <td>host_response_time_other</td>\n",
       "      <td>0.001167</td>\n",
       "      <td>0.000646</td>\n",
       "    </tr>\n",
       "    <tr>\n",
       "      <th>36</th>\n",
       "      <td>host_response_rate_is_na</td>\n",
       "      <td>0.000849</td>\n",
       "      <td>0.001007</td>\n",
       "    </tr>\n",
       "    <tr>\n",
       "      <th>37</th>\n",
       "      <td>instant_bookable</td>\n",
       "      <td>0.000034</td>\n",
       "      <td>0.000037</td>\n",
       "    </tr>\n",
       "  </tbody>\n",
       "</table>\n",
       "</div>"
      ],
      "text/plain": [
       "                     feature    weight       std\n",
       "33      last_reviewDayofyear  0.002364  0.001527\n",
       "34          host_about_is_na  0.001856  0.000320\n",
       "35  host_response_time_other  0.001167  0.000646\n",
       "36  host_response_rate_is_na  0.000849  0.001007\n",
       "37          instant_bookable  0.000034  0.000037"
      ]
     },
     "execution_count": 103,
     "metadata": {},
     "output_type": "execute_result"
    }
   ],
   "source": [
    "eli5.explain_weights_df(second_pmi, feature_names = first_select_cols.to_list()).tail(5)"
   ]
  },
  {
   "cell_type": "markdown",
   "metadata": {},
   "source": [
    "So let's select from our model again."
   ]
  },
  {
   "cell_type": "code",
   "execution_count": 106,
   "metadata": {},
   "outputs": [
    {
     "data": {
      "text/plain": [
       "0.8139796316812621"
      ]
     },
     "execution_count": 106,
     "metadata": {},
     "output_type": "execute_result"
    }
   ],
   "source": [
    "second_select = SelectFromModel(second_pmi, threshold=0.01, prefit=True)\n",
    "X_train_second_select = second_select.transform(X_train_first_select)\n",
    "X_val_second_select = second_select.transform(X_val_first_select)\n",
    "\n",
    "rfr_second_select = RandomForestRegressor(n_estimators=40, max_features='log2')\n",
    "rfr_second_select.fit(X_train_second_select, y_train)\n",
    "rfr_second_select.score(X_val_second_select, y_val)"
   ]
  },
  {
   "cell_type": "markdown",
   "metadata": {},
   "source": [
    "And again."
   ]
  },
  {
   "cell_type": "code",
   "execution_count": 112,
   "metadata": {},
   "outputs": [
    {
     "data": {
      "text/plain": [
       "0.8407392336302191"
      ]
     },
     "execution_count": 112,
     "metadata": {},
     "output_type": "execute_result"
    }
   ],
   "source": [
    "third_pmi = PermutationImportance(rfr_second_select).fit(X_val_second_select, y_val)\n",
    "third_select = SelectFromModel(third_pmi, threshold=0.01, prefit=True)\n",
    "\n",
    "X_train_third_select = third_select.transform(X_train_second_select)\n",
    "X_val_third_select = third_select.transform(X_val_second_select)\n",
    "\n",
    "rfr = RandomForestRegressor(n_estimators=40, max_features='log2')\n",
    "rfr.fit(X_train_third_select, y_train)\n",
    "rfr.score(X_val_third_select, y_val)"
   ]
  },
  {
   "cell_type": "code",
   "execution_count": 116,
   "metadata": {},
   "outputs": [
    {
     "data": {
      "text/plain": [
       "(20,)"
      ]
     },
     "execution_count": 116,
     "metadata": {},
     "output_type": "execute_result"
    }
   ],
   "source": [
    "second_select_cols = first_select_cols[second_select.get_support()]\n",
    "third_select_cols = second_select_cols[third_select.get_support()]\n",
    "third_select_cols.shape"
   ]
  },
  {
   "cell_type": "code",
   "execution_count": 122,
   "metadata": {},
   "outputs": [
    {
     "data": {
      "text/html": [
       "<div>\n",
       "<style scoped>\n",
       "    .dataframe tbody tr th:only-of-type {\n",
       "        vertical-align: middle;\n",
       "    }\n",
       "\n",
       "    .dataframe tbody tr th {\n",
       "        vertical-align: top;\n",
       "    }\n",
       "\n",
       "    .dataframe thead th {\n",
       "        text-align: right;\n",
       "    }\n",
       "</style>\n",
       "<table border=\"1\" class=\"dataframe\">\n",
       "  <thead>\n",
       "    <tr style=\"text-align: right;\">\n",
       "      <th></th>\n",
       "      <th>feature</th>\n",
       "      <th>weight</th>\n",
       "      <th>std</th>\n",
       "    </tr>\n",
       "  </thead>\n",
       "  <tbody>\n",
       "    <tr>\n",
       "      <th>0</th>\n",
       "      <td>availability_365</td>\n",
       "      <td>0.136897</td>\n",
       "      <td>0.005379</td>\n",
       "    </tr>\n",
       "    <tr>\n",
       "      <th>1</th>\n",
       "      <td>host_listings_count</td>\n",
       "      <td>0.119702</td>\n",
       "      <td>0.007686</td>\n",
       "    </tr>\n",
       "    <tr>\n",
       "      <th>2</th>\n",
       "      <td>host_total_listings_count</td>\n",
       "      <td>0.091553</td>\n",
       "      <td>0.003439</td>\n",
       "    </tr>\n",
       "    <tr>\n",
       "      <th>3</th>\n",
       "      <td>calculated_host_listings_count</td>\n",
       "      <td>0.084830</td>\n",
       "      <td>0.007077</td>\n",
       "    </tr>\n",
       "    <tr>\n",
       "      <th>4</th>\n",
       "      <td>host_verifications_['email', 'phone']</td>\n",
       "      <td>0.082864</td>\n",
       "      <td>0.004521</td>\n",
       "    </tr>\n",
       "    <tr>\n",
       "      <th>5</th>\n",
       "      <td>host_sinceElapsed</td>\n",
       "      <td>0.082185</td>\n",
       "      <td>0.007138</td>\n",
       "    </tr>\n",
       "    <tr>\n",
       "      <th>6</th>\n",
       "      <td>property_type_other</td>\n",
       "      <td>0.070180</td>\n",
       "      <td>0.001945</td>\n",
       "    </tr>\n",
       "    <tr>\n",
       "      <th>7</th>\n",
       "      <td>summary_is_na</td>\n",
       "      <td>0.068375</td>\n",
       "      <td>0.004069</td>\n",
       "    </tr>\n",
       "    <tr>\n",
       "      <th>8</th>\n",
       "      <td>availability_90</td>\n",
       "      <td>0.059145</td>\n",
       "      <td>0.002999</td>\n",
       "    </tr>\n",
       "    <tr>\n",
       "      <th>9</th>\n",
       "      <td>host_id</td>\n",
       "      <td>0.049760</td>\n",
       "      <td>0.004265</td>\n",
       "    </tr>\n",
       "  </tbody>\n",
       "</table>\n",
       "</div>"
      ],
      "text/plain": [
       "                                 feature    weight       std\n",
       "0                       availability_365  0.136897  0.005379\n",
       "1                    host_listings_count  0.119702  0.007686\n",
       "2              host_total_listings_count  0.091553  0.003439\n",
       "3         calculated_host_listings_count  0.084830  0.007077\n",
       "4  host_verifications_['email', 'phone']  0.082864  0.004521\n",
       "5                      host_sinceElapsed  0.082185  0.007138\n",
       "6                    property_type_other  0.070180  0.001945\n",
       "7                          summary_is_na  0.068375  0.004069\n",
       "8                        availability_90  0.059145  0.002999\n",
       "9                                host_id  0.049760  0.004265"
      ]
     },
     "execution_count": 122,
     "metadata": {},
     "output_type": "execute_result"
    }
   ],
   "source": [
    "eli5.explain_weights_df(third_pmi, feature_names = second_select_cols.to_list())[:10]"
   ]
  },
  {
   "cell_type": "markdown",
   "metadata": {},
   "source": [
    "So from here, we can begin to identify the most important features."
   ]
  },
  {
   "cell_type": "code",
   "execution_count": 124,
   "metadata": {},
   "outputs": [],
   "source": [
    "selected_X_train = pd.DataFrame(X_train_third_select, columns=third_select_cols)\n",
    "selected_X_train.loc[:, 'price'] = y_train\n",
    "\n",
    "selected_X_val = pd.DataFrame(X_val_third_select, columns=third_select_cols)\n",
    "selected_X_val.loc[:, 'price'] = y_val"
   ]
  },
  {
   "cell_type": "code",
   "execution_count": 125,
   "metadata": {},
   "outputs": [],
   "source": [
    "selected_X_train.to_feather('./selected_train.feather')"
   ]
  },
  {
   "cell_type": "code",
   "execution_count": 126,
   "metadata": {},
   "outputs": [],
   "source": [
    "selected_X_val.to_feather('./selected_val.feather')"
   ]
  },
  {
   "cell_type": "markdown",
   "metadata": {},
   "source": [
    "### Summary "
   ]
  },
  {
   "cell_type": "markdown",
   "metadata": {},
   "source": [
    "In this lesson, we went from feature importance to feature selection.  We used `sklearn`'s SelectFromModel transformer combined with the `PermutationImportance` transformer from `eli5` to select the features.  We saw that with each selection of the features, the feature importances changes, as collinearity between features is reduced.  We also saw that we can drastically reduce the number of features and maintain, if not increase, the accuracy of the model."
   ]
  }
 ],
 "metadata": {
  "kernelspec": {
   "display_name": "Python 3",
   "language": "python",
   "name": "python3"
  },
  "language_info": {
   "codemirror_mode": {
    "name": "ipython",
    "version": 3
   },
   "file_extension": ".py",
   "mimetype": "text/x-python",
   "name": "python",
   "nbconvert_exporter": "python",
   "pygments_lexer": "ipython3",
   "version": "3.7.3"
  }
 },
 "nbformat": 4,
 "nbformat_minor": 2
}
